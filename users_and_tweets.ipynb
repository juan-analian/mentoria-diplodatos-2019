{
 "cells": [
  {
   "cell_type": "markdown",
   "metadata": {},
   "source": [
    "# Usuarios y Tweets de Junio y Agosto"
   ]
  },
  {
   "cell_type": "code",
   "execution_count": 1,
   "metadata": {},
   "outputs": [],
   "source": [
    "import pandas as pd\n",
    "import matplotlib.pyplot as plt\n",
    "import seaborn as sns\n",
    "%matplotlib inline\n",
    "plt.rcParams['figure.figsize'] = (10, 6)\n",
    "import numpy \n",
    "import time\n"
   ]
  },
  {
   "cell_type": "markdown",
   "metadata": {},
   "source": [
    "## Levantamos todo en pala"
   ]
  },
  {
   "cell_type": "code",
   "execution_count": 2,
   "metadata": {},
   "outputs": [
    {
     "name": "stdout",
     "output_type": "stream",
     "text": [
      "Finaliza df_users_junio: 87.52822303771973 segundos\n",
      "Finaliza df_users_agosto: 19.29053521156311 segundos\n",
      "Finaliza df_tweets_junio: 263.9377193450928 segundos\n",
      "Finaliza df_tweets_agosto: 29.65857195854187 segundos\n"
     ]
    }
   ],
   "source": [
    "start = time.time()\n",
    "df_users_junio =  pd.read_csv('data/users_junio.csv', parse_dates=['created_at'])\n",
    "end = time.time()\n",
    "print(\"Finaliza df_users_junio:\", end - start, \"segundos\")\n",
    "\n",
    "start = time.time()\n",
    "df_users_agosto =  pd.read_csv('data/users_agosto.csv', parse_dates=['created_at'])\n",
    "end = time.time()\n",
    "print(\"Finaliza df_users_agosto:\", end - start, \"segundos\")\n",
    "\n",
    "start = time.time()\n",
    "df_tweets_junio =  pd.read_csv('data/tweets_junio.csv', parse_dates=['created_at'])\n",
    "end = time.time()\n",
    "print(\"Finaliza df_tweets_junio:\", end - start, \"segundos\")\n",
    "\n",
    "start = time.time()\n",
    "df_tweets_agosto =  pd.read_csv('data/tweets_agosto.csv', parse_dates=['created_at'])\n",
    "end = time.time()\n",
    "print(\"Finaliza df_tweets_agosto:\", end - start, \"segundos\")\n"
   ]
  },
  {
   "cell_type": "code",
   "execution_count": 3,
   "metadata": {},
   "outputs": [
    {
     "name": "stdout",
     "output_type": "stream",
     "text": [
      "Cantidad de registros\n",
      "Usuarios Junio:  329782\n",
      "Usuarios Agosto:  74324\n",
      "Tweets Junio:  1041585\n",
      "Tweets Agosto:  120902\n"
     ]
    }
   ],
   "source": [
    "uj = len(df_users_junio)\n",
    "ua = len(df_users_agosto)\n",
    "tj = len(df_tweets_junio)\n",
    "ta = len(df_tweets_agosto)\n",
    "\n",
    "print(\"Cantidad de registros\")\n",
    "print(\"Usuarios Junio: \", uj) \n",
    "print(\"Usuarios Agosto: \", ua) \n",
    "print(\"Tweets Junio: \", tj) \n",
    "print(\"Tweets Agosto: \", ta) \n"
   ]
  },
  {
   "cell_type": "code",
   "execution_count": 4,
   "metadata": {},
   "outputs": [
    {
     "name": "stdout",
     "output_type": "stream",
     "text": [
      "3.1584046430672386\n"
     ]
    }
   ],
   "source": [
    "print(tj / uj)"
   ]
  },
  {
   "cell_type": "code",
   "execution_count": 5,
   "metadata": {},
   "outputs": [
    {
     "name": "stdout",
     "output_type": "stream",
     "text": [
      "1.626688552822776\n"
     ]
    }
   ],
   "source": [
    "print(ta / ua)"
   ]
  },
  {
   "cell_type": "markdown",
   "metadata": {},
   "source": [
    "### Merge de Agosto df_agosto = (tweets + usuarios)"
   ]
  },
  {
   "cell_type": "code",
   "execution_count": 4,
   "metadata": {},
   "outputs": [],
   "source": [
    "df_agosto = pd.merge(df_tweets_agosto, df_users_agosto, left_on = 'user_id', right_on = 'id', how='left')"
   ]
  },
  {
   "cell_type": "code",
   "execution_count": 5,
   "metadata": {},
   "outputs": [
    {
     "data": {
      "text/html": [
       "<div>\n",
       "<style scoped>\n",
       "    .dataframe tbody tr th:only-of-type {\n",
       "        vertical-align: middle;\n",
       "    }\n",
       "\n",
       "    .dataframe tbody tr th {\n",
       "        vertical-align: top;\n",
       "    }\n",
       "\n",
       "    .dataframe thead th {\n",
       "        text-align: right;\n",
       "    }\n",
       "</style>\n",
       "<table border=\"1\" class=\"dataframe\">\n",
       "  <thead>\n",
       "    <tr style=\"text-align: right;\">\n",
       "      <th></th>\n",
       "      <th>id_x</th>\n",
       "      <th>created_at_x</th>\n",
       "      <th>favorite_count</th>\n",
       "      <th>retweet_count</th>\n",
       "      <th>text</th>\n",
       "      <th>favorited</th>\n",
       "      <th>retweeted</th>\n",
       "      <th>user_name</th>\n",
       "      <th>user_id</th>\n",
       "      <th>original_id</th>\n",
       "      <th>...</th>\n",
       "      <th>location</th>\n",
       "      <th>followers_count</th>\n",
       "      <th>statuses_count</th>\n",
       "      <th>description</th>\n",
       "      <th>friends_count</th>\n",
       "      <th>favourites_count</th>\n",
       "      <th>created_at_y</th>\n",
       "      <th>id_y</th>\n",
       "      <th>name</th>\n",
       "      <th>verified</th>\n",
       "    </tr>\n",
       "  </thead>\n",
       "  <tbody>\n",
       "    <tr>\n",
       "      <th>24272</th>\n",
       "      <td>1025211470773141510</td>\n",
       "      <td>2018-08-03 02:47:16+00:00</td>\n",
       "      <td>0</td>\n",
       "      <td>0</td>\n",
       "      <td>RT @CNNArgentina: Aborto en Argentina: \"Se red...</td>\n",
       "      <td>False</td>\n",
       "      <td>False</td>\n",
       "      <td>CNN en Español</td>\n",
       "      <td>33884545</td>\n",
       "      <td>1025211470773141510</td>\n",
       "      <td>...</td>\n",
       "      <td>En todas partes</td>\n",
       "      <td>16627820</td>\n",
       "      <td>152951</td>\n",
       "      <td>CNN en Español es tu principal fuente de infor...</td>\n",
       "      <td>825</td>\n",
       "      <td>1354</td>\n",
       "      <td>2009-04-21 12:14:47+00:00</td>\n",
       "      <td>33884545</td>\n",
       "      <td>CNN en Español</td>\n",
       "      <td>True</td>\n",
       "    </tr>\n",
       "    <tr>\n",
       "      <th>106872</th>\n",
       "      <td>1025408340711469056</td>\n",
       "      <td>2018-08-03 15:49:34+00:00</td>\n",
       "      <td>0</td>\n",
       "      <td>0</td>\n",
       "      <td>Hace 15 años cumplia el gran sueño de mi vida ...</td>\n",
       "      <td>False</td>\n",
       "      <td>False</td>\n",
       "      <td>Javier Mascherano</td>\n",
       "      <td>313913938</td>\n",
       "      <td>1025408340711469056</td>\n",
       "      <td>...</td>\n",
       "      <td>Beijing, China</td>\n",
       "      <td>8019048</td>\n",
       "      <td>1094</td>\n",
       "      <td>http://www.facebook.com/Javier14Mascherano</td>\n",
       "      <td>247</td>\n",
       "      <td>45</td>\n",
       "      <td>2011-06-09 12:23:45+00:00</td>\n",
       "      <td>313913938</td>\n",
       "      <td>Javier Mascherano</td>\n",
       "      <td>True</td>\n",
       "    </tr>\n",
       "    <tr>\n",
       "      <th>90434</th>\n",
       "      <td>1025390834542202881</td>\n",
       "      <td>2018-08-03 14:40:00+00:00</td>\n",
       "      <td>0</td>\n",
       "      <td>0</td>\n",
       "      <td>“Con c de campeón y c de cocinera”: campaña de...</td>\n",
       "      <td>False</td>\n",
       "      <td>False</td>\n",
       "      <td>Noticias Caracol</td>\n",
       "      <td>17813487</td>\n",
       "      <td>1025390834542202881</td>\n",
       "      <td>...</td>\n",
       "      <td>Colombia</td>\n",
       "      <td>8001172</td>\n",
       "      <td>561422</td>\n",
       "      <td>Primero en Noticias.</td>\n",
       "      <td>2042</td>\n",
       "      <td>2986</td>\n",
       "      <td>2008-12-02 17:58:53+00:00</td>\n",
       "      <td>17813487</td>\n",
       "      <td>Noticias Caracol</td>\n",
       "      <td>True</td>\n",
       "    </tr>\n",
       "    <tr>\n",
       "      <th>88677</th>\n",
       "      <td>1025388825458225154</td>\n",
       "      <td>2018-08-03 14:32:01+00:00</td>\n",
       "      <td>0</td>\n",
       "      <td>0</td>\n",
       "      <td>Senado votará sin cambios proyecto para legali...</td>\n",
       "      <td>False</td>\n",
       "      <td>False</td>\n",
       "      <td>La Patilla</td>\n",
       "      <td>124172948</td>\n",
       "      <td>1025388825458225154</td>\n",
       "      <td>...</td>\n",
       "      <td>Venezuela</td>\n",
       "      <td>6773436</td>\n",
       "      <td>4219776</td>\n",
       "      <td>Información e Investigación. También puedes en...</td>\n",
       "      <td>148</td>\n",
       "      <td>587</td>\n",
       "      <td>2010-03-18 14:02:00+00:00</td>\n",
       "      <td>124172948</td>\n",
       "      <td>La Patilla</td>\n",
       "      <td>True</td>\n",
       "    </tr>\n",
       "    <tr>\n",
       "      <th>60135</th>\n",
       "      <td>1025351852165160960</td>\n",
       "      <td>2018-08-03 12:05:06+00:00</td>\n",
       "      <td>0</td>\n",
       "      <td>0</td>\n",
       "      <td>#3Ago | ANC estudiará despenalizar el aborto y...</td>\n",
       "      <td>False</td>\n",
       "      <td>False</td>\n",
       "      <td>Globovisión</td>\n",
       "      <td>17485551</td>\n",
       "      <td>1025351852165160960</td>\n",
       "      <td>...</td>\n",
       "      <td>Venezuela</td>\n",
       "      <td>4763443</td>\n",
       "      <td>1215368</td>\n",
       "      <td>#Globovisión, información responsable y veraz....</td>\n",
       "      <td>2611</td>\n",
       "      <td>638</td>\n",
       "      <td>2008-11-19 13:22:39+00:00</td>\n",
       "      <td>17485551</td>\n",
       "      <td>Globovisión</td>\n",
       "      <td>True</td>\n",
       "    </tr>\n",
       "  </tbody>\n",
       "</table>\n",
       "<p>5 rows × 21 columns</p>\n",
       "</div>"
      ],
      "text/plain": [
       "                       id_x              created_at_x  favorite_count  \\\n",
       "24272   1025211470773141510 2018-08-03 02:47:16+00:00               0   \n",
       "106872  1025408340711469056 2018-08-03 15:49:34+00:00               0   \n",
       "90434   1025390834542202881 2018-08-03 14:40:00+00:00               0   \n",
       "88677   1025388825458225154 2018-08-03 14:32:01+00:00               0   \n",
       "60135   1025351852165160960 2018-08-03 12:05:06+00:00               0   \n",
       "\n",
       "        retweet_count                                               text  \\\n",
       "24272               0  RT @CNNArgentina: Aborto en Argentina: \"Se red...   \n",
       "106872              0  Hace 15 años cumplia el gran sueño de mi vida ...   \n",
       "90434               0  “Con c de campeón y c de cocinera”: campaña de...   \n",
       "88677               0  Senado votará sin cambios proyecto para legali...   \n",
       "60135               0  #3Ago | ANC estudiará despenalizar el aborto y...   \n",
       "\n",
       "        favorited  retweeted          user_name    user_id  \\\n",
       "24272       False      False     CNN en Español   33884545   \n",
       "106872      False      False  Javier Mascherano  313913938   \n",
       "90434       False      False   Noticias Caracol   17813487   \n",
       "88677       False      False         La Patilla  124172948   \n",
       "60135       False      False        Globovisión   17485551   \n",
       "\n",
       "                original_id  ...         location followers_count  \\\n",
       "24272   1025211470773141510  ...  En todas partes        16627820   \n",
       "106872  1025408340711469056  ...   Beijing, China         8019048   \n",
       "90434   1025390834542202881  ...         Colombia         8001172   \n",
       "88677   1025388825458225154  ...        Venezuela         6773436   \n",
       "60135   1025351852165160960  ...        Venezuela         4763443   \n",
       "\n",
       "        statuses_count                                        description  \\\n",
       "24272           152951  CNN en Español es tu principal fuente de infor...   \n",
       "106872            1094         http://www.facebook.com/Javier14Mascherano   \n",
       "90434           561422                               Primero en Noticias.   \n",
       "88677          4219776  Información e Investigación. También puedes en...   \n",
       "60135          1215368  #Globovisión, información responsable y veraz....   \n",
       "\n",
       "       friends_count  favourites_count              created_at_y       id_y  \\\n",
       "24272            825              1354 2009-04-21 12:14:47+00:00   33884545   \n",
       "106872           247                45 2011-06-09 12:23:45+00:00  313913938   \n",
       "90434           2042              2986 2008-12-02 17:58:53+00:00   17813487   \n",
       "88677            148               587 2010-03-18 14:02:00+00:00  124172948   \n",
       "60135           2611               638 2008-11-19 13:22:39+00:00   17485551   \n",
       "\n",
       "                     name verified  \n",
       "24272      CNN en Español     True  \n",
       "106872  Javier Mascherano     True  \n",
       "90434    Noticias Caracol     True  \n",
       "88677          La Patilla     True  \n",
       "60135         Globovisión     True  \n",
       "\n",
       "[5 rows x 21 columns]"
      ]
     },
     "execution_count": 5,
     "metadata": {},
     "output_type": "execute_result"
    }
   ],
   "source": [
    "df_agosto[df_agosto.followers_count > 1000000].sort_values('followers_count',  ascending=False)[:5]"
   ]
  },
  {
   "cell_type": "code",
   "execution_count": 6,
   "metadata": {},
   "outputs": [
    {
     "data": {
      "text/html": [
       "<div>\n",
       "<style scoped>\n",
       "    .dataframe tbody tr th:only-of-type {\n",
       "        vertical-align: middle;\n",
       "    }\n",
       "\n",
       "    .dataframe tbody tr th {\n",
       "        vertical-align: top;\n",
       "    }\n",
       "\n",
       "    .dataframe thead th {\n",
       "        text-align: right;\n",
       "    }\n",
       "</style>\n",
       "<table border=\"1\" class=\"dataframe\">\n",
       "  <thead>\n",
       "    <tr style=\"text-align: right;\">\n",
       "      <th></th>\n",
       "      <th>id_x</th>\n",
       "      <th>created_at_x</th>\n",
       "      <th>favorite_count</th>\n",
       "      <th>retweet_count</th>\n",
       "      <th>text</th>\n",
       "      <th>favorited</th>\n",
       "      <th>retweeted</th>\n",
       "      <th>user_name</th>\n",
       "      <th>user_id</th>\n",
       "      <th>original_id</th>\n",
       "      <th>...</th>\n",
       "      <th>location</th>\n",
       "      <th>followers_count</th>\n",
       "      <th>statuses_count</th>\n",
       "      <th>description</th>\n",
       "      <th>friends_count</th>\n",
       "      <th>favourites_count</th>\n",
       "      <th>created_at_y</th>\n",
       "      <th>id_y</th>\n",
       "      <th>name</th>\n",
       "      <th>verified</th>\n",
       "    </tr>\n",
       "  </thead>\n",
       "  <tbody>\n",
       "    <tr>\n",
       "      <th>24272</th>\n",
       "      <td>1025211470773141510</td>\n",
       "      <td>2018-08-03 02:47:16+00:00</td>\n",
       "      <td>0</td>\n",
       "      <td>0</td>\n",
       "      <td>RT @CNNArgentina: Aborto en Argentina: \"Se red...</td>\n",
       "      <td>False</td>\n",
       "      <td>False</td>\n",
       "      <td>CNN en Español</td>\n",
       "      <td>33884545</td>\n",
       "      <td>1025211470773141510</td>\n",
       "      <td>...</td>\n",
       "      <td>En todas partes</td>\n",
       "      <td>16627820</td>\n",
       "      <td>152951</td>\n",
       "      <td>CNN en Español es tu principal fuente de infor...</td>\n",
       "      <td>825</td>\n",
       "      <td>1354</td>\n",
       "      <td>2009-04-21 12:14:47+00:00</td>\n",
       "      <td>33884545</td>\n",
       "      <td>CNN en Español</td>\n",
       "      <td>True</td>\n",
       "    </tr>\n",
       "  </tbody>\n",
       "</table>\n",
       "<p>1 rows × 21 columns</p>\n",
       "</div>"
      ],
      "text/plain": [
       "                      id_x              created_at_x  favorite_count  \\\n",
       "24272  1025211470773141510 2018-08-03 02:47:16+00:00               0   \n",
       "\n",
       "       retweet_count                                               text  \\\n",
       "24272              0  RT @CNNArgentina: Aborto en Argentina: \"Se red...   \n",
       "\n",
       "       favorited  retweeted       user_name   user_id          original_id  \\\n",
       "24272      False      False  CNN en Español  33884545  1025211470773141510   \n",
       "\n",
       "       ...         location followers_count  statuses_count  \\\n",
       "24272  ...  En todas partes        16627820          152951   \n",
       "\n",
       "                                             description friends_count  \\\n",
       "24272  CNN en Español es tu principal fuente de infor...           825   \n",
       "\n",
       "       favourites_count              created_at_y      id_y            name  \\\n",
       "24272              1354 2009-04-21 12:14:47+00:00  33884545  CNN en Español   \n",
       "\n",
       "      verified  \n",
       "24272     True  \n",
       "\n",
       "[1 rows x 21 columns]"
      ]
     },
     "execution_count": 6,
     "metadata": {},
     "output_type": "execute_result"
    }
   ],
   "source": [
    "df_agosto[df_agosto.user_id == 33884545]"
   ]
  },
  {
   "cell_type": "markdown",
   "metadata": {},
   "source": [
    "### Merge de Junio df_junio = (tweets + usuarios)"
   ]
  },
  {
   "cell_type": "code",
   "execution_count": 7,
   "metadata": {},
   "outputs": [],
   "source": [
    "df_junio = pd.merge(df_tweets_junio, df_users_junio, left_on = 'user_id', right_on = 'id', how='left')"
   ]
  },
  {
   "cell_type": "code",
   "execution_count": 8,
   "metadata": {},
   "outputs": [
    {
     "data": {
      "text/plain": [
       "id_x                2257\n",
       "created_at_x        2257\n",
       "favorite_count      2257\n",
       "retweet_count       2257\n",
       "full_text           2257\n",
       "posicion            2257\n",
       "favorited           2257\n",
       "retweeted           2257\n",
       "user_name           2257\n",
       "user_id             2257\n",
       "original_id         2257\n",
       "screen_name         2257\n",
       "location            1696\n",
       "followers_count     2257\n",
       "statuses_count      2257\n",
       "description         2093\n",
       "friends_count       2257\n",
       "favourites_count    2257\n",
       "created_at_y        2257\n",
       "id_y                2257\n",
       "name                2257\n",
       "verified            2257\n",
       "dtype: int64"
      ]
     },
     "execution_count": 8,
     "metadata": {},
     "output_type": "execute_result"
    }
   ],
   "source": [
    "df_junio[df_junio.followers_count > 100000].sort_values('followers_count',  ascending=False).count()"
   ]
  },
  {
   "cell_type": "code",
   "execution_count": 9,
   "metadata": {},
   "outputs": [
    {
     "data": {
      "text/html": [
       "<div>\n",
       "<style scoped>\n",
       "    .dataframe tbody tr th:only-of-type {\n",
       "        vertical-align: middle;\n",
       "    }\n",
       "\n",
       "    .dataframe tbody tr th {\n",
       "        vertical-align: top;\n",
       "    }\n",
       "\n",
       "    .dataframe thead th {\n",
       "        text-align: right;\n",
       "    }\n",
       "</style>\n",
       "<table border=\"1\" class=\"dataframe\">\n",
       "  <thead>\n",
       "    <tr style=\"text-align: right;\">\n",
       "      <th></th>\n",
       "      <th>id_x</th>\n",
       "      <th>created_at_x</th>\n",
       "      <th>favorite_count</th>\n",
       "      <th>retweet_count</th>\n",
       "      <th>full_text</th>\n",
       "      <th>posicion</th>\n",
       "      <th>favorited</th>\n",
       "      <th>retweeted</th>\n",
       "      <th>user_name</th>\n",
       "      <th>user_id</th>\n",
       "      <th>...</th>\n",
       "      <th>location</th>\n",
       "      <th>followers_count</th>\n",
       "      <th>statuses_count</th>\n",
       "      <th>description</th>\n",
       "      <th>friends_count</th>\n",
       "      <th>favourites_count</th>\n",
       "      <th>created_at_y</th>\n",
       "      <th>id_y</th>\n",
       "      <th>name</th>\n",
       "      <th>verified</th>\n",
       "    </tr>\n",
       "  </thead>\n",
       "  <tbody>\n",
       "    <tr>\n",
       "      <th>86727</th>\n",
       "      <td>1006322670164733952</td>\n",
       "      <td>2018-06-11 23:49:55+00:00</td>\n",
       "      <td>0</td>\n",
       "      <td>7722</td>\n",
       "      <td>RT @marley_ok: Argentina tiene que avanzar! El...</td>\n",
       "      <td>si</td>\n",
       "      <td>False</td>\n",
       "      <td>False</td>\n",
       "      <td>marcelo tinelli</td>\n",
       "      <td>789856765</td>\n",
       "      <td>...</td>\n",
       "      <td>Buenos aires</td>\n",
       "      <td>10265980</td>\n",
       "      <td>52999</td>\n",
       "      <td>Periodista, Productor de Contenidos Multimedia...</td>\n",
       "      <td>379</td>\n",
       "      <td>12625</td>\n",
       "      <td>2012-08-29 18:05:27+00:00</td>\n",
       "      <td>789856765</td>\n",
       "      <td>marcelo tinelli</td>\n",
       "      <td>True</td>\n",
       "    </tr>\n",
       "    <tr>\n",
       "      <th>266213</th>\n",
       "      <td>1006305004561592320</td>\n",
       "      <td>2018-06-11 22:39:43+00:00</td>\n",
       "      <td>0</td>\n",
       "      <td>4651</td>\n",
       "      <td>RT @ElchuecoSuar: El aborto existió, existe y ...</td>\n",
       "      <td>si</td>\n",
       "      <td>False</td>\n",
       "      <td>False</td>\n",
       "      <td>marcelo tinelli</td>\n",
       "      <td>789856765</td>\n",
       "      <td>...</td>\n",
       "      <td>Buenos aires</td>\n",
       "      <td>10265980</td>\n",
       "      <td>52999</td>\n",
       "      <td>Periodista, Productor de Contenidos Multimedia...</td>\n",
       "      <td>379</td>\n",
       "      <td>12625</td>\n",
       "      <td>2012-08-29 18:05:27+00:00</td>\n",
       "      <td>789856765</td>\n",
       "      <td>marcelo tinelli</td>\n",
       "      <td>True</td>\n",
       "    </tr>\n",
       "  </tbody>\n",
       "</table>\n",
       "<p>2 rows × 22 columns</p>\n",
       "</div>"
      ],
      "text/plain": [
       "                       id_x              created_at_x  favorite_count  \\\n",
       "86727   1006322670164733952 2018-06-11 23:49:55+00:00               0   \n",
       "266213  1006305004561592320 2018-06-11 22:39:43+00:00               0   \n",
       "\n",
       "        retweet_count                                          full_text  \\\n",
       "86727            7722  RT @marley_ok: Argentina tiene que avanzar! El...   \n",
       "266213           4651  RT @ElchuecoSuar: El aborto existió, existe y ...   \n",
       "\n",
       "       posicion  favorited  retweeted        user_name    user_id  ...  \\\n",
       "86727        si      False      False  marcelo tinelli  789856765  ...   \n",
       "266213       si      False      False  marcelo tinelli  789856765  ...   \n",
       "\n",
       "            location followers_count statuses_count  \\\n",
       "86727   Buenos aires        10265980          52999   \n",
       "266213  Buenos aires        10265980          52999   \n",
       "\n",
       "                                              description  friends_count  \\\n",
       "86727   Periodista, Productor de Contenidos Multimedia...            379   \n",
       "266213  Periodista, Productor de Contenidos Multimedia...            379   \n",
       "\n",
       "       favourites_count              created_at_y       id_y             name  \\\n",
       "86727             12625 2012-08-29 18:05:27+00:00  789856765  marcelo tinelli   \n",
       "266213            12625 2012-08-29 18:05:27+00:00  789856765  marcelo tinelli   \n",
       "\n",
       "        verified  \n",
       "86727       True  \n",
       "266213      True  \n",
       "\n",
       "[2 rows x 22 columns]"
      ]
     },
     "execution_count": 9,
     "metadata": {},
     "output_type": "execute_result"
    }
   ],
   "source": [
    "df_junio[df_junio.followers_count == df_junio.followers_count.max()]"
   ]
  },
  {
   "cell_type": "code",
   "execution_count": 10,
   "metadata": {},
   "outputs": [
    {
     "data": {
      "text/html": [
       "<div>\n",
       "<style scoped>\n",
       "    .dataframe tbody tr th:only-of-type {\n",
       "        vertical-align: middle;\n",
       "    }\n",
       "\n",
       "    .dataframe tbody tr th {\n",
       "        vertical-align: top;\n",
       "    }\n",
       "\n",
       "    .dataframe thead th {\n",
       "        text-align: right;\n",
       "    }\n",
       "</style>\n",
       "<table border=\"1\" class=\"dataframe\">\n",
       "  <thead>\n",
       "    <tr style=\"text-align: right;\">\n",
       "      <th></th>\n",
       "      <th>id_x</th>\n",
       "      <th>created_at_x</th>\n",
       "      <th>favorite_count</th>\n",
       "      <th>retweet_count</th>\n",
       "      <th>text</th>\n",
       "      <th>favorited</th>\n",
       "      <th>retweeted</th>\n",
       "      <th>user_name</th>\n",
       "      <th>user_id</th>\n",
       "      <th>original_id</th>\n",
       "      <th>...</th>\n",
       "      <th>location</th>\n",
       "      <th>followers_count</th>\n",
       "      <th>statuses_count</th>\n",
       "      <th>description</th>\n",
       "      <th>friends_count</th>\n",
       "      <th>favourites_count</th>\n",
       "      <th>created_at_y</th>\n",
       "      <th>id_y</th>\n",
       "      <th>name</th>\n",
       "      <th>verified</th>\n",
       "    </tr>\n",
       "  </thead>\n",
       "  <tbody>\n",
       "    <tr>\n",
       "      <th>24272</th>\n",
       "      <td>1025211470773141510</td>\n",
       "      <td>2018-08-03 02:47:16+00:00</td>\n",
       "      <td>0</td>\n",
       "      <td>0</td>\n",
       "      <td>RT @CNNArgentina: Aborto en Argentina: \"Se red...</td>\n",
       "      <td>False</td>\n",
       "      <td>False</td>\n",
       "      <td>CNN en Español</td>\n",
       "      <td>33884545</td>\n",
       "      <td>1025211470773141510</td>\n",
       "      <td>...</td>\n",
       "      <td>En todas partes</td>\n",
       "      <td>16627820</td>\n",
       "      <td>152951</td>\n",
       "      <td>CNN en Español es tu principal fuente de infor...</td>\n",
       "      <td>825</td>\n",
       "      <td>1354</td>\n",
       "      <td>2009-04-21 12:14:47+00:00</td>\n",
       "      <td>33884545</td>\n",
       "      <td>CNN en Español</td>\n",
       "      <td>True</td>\n",
       "    </tr>\n",
       "  </tbody>\n",
       "</table>\n",
       "<p>1 rows × 21 columns</p>\n",
       "</div>"
      ],
      "text/plain": [
       "                      id_x              created_at_x  favorite_count  \\\n",
       "24272  1025211470773141510 2018-08-03 02:47:16+00:00               0   \n",
       "\n",
       "       retweet_count                                               text  \\\n",
       "24272              0  RT @CNNArgentina: Aborto en Argentina: \"Se red...   \n",
       "\n",
       "       favorited  retweeted       user_name   user_id          original_id  \\\n",
       "24272      False      False  CNN en Español  33884545  1025211470773141510   \n",
       "\n",
       "       ...         location followers_count  statuses_count  \\\n",
       "24272  ...  En todas partes        16627820          152951   \n",
       "\n",
       "                                             description friends_count  \\\n",
       "24272  CNN en Español es tu principal fuente de infor...           825   \n",
       "\n",
       "       favourites_count              created_at_y      id_y            name  \\\n",
       "24272              1354 2009-04-21 12:14:47+00:00  33884545  CNN en Español   \n",
       "\n",
       "      verified  \n",
       "24272     True  \n",
       "\n",
       "[1 rows x 21 columns]"
      ]
     },
     "execution_count": 10,
     "metadata": {},
     "output_type": "execute_result"
    }
   ],
   "source": [
    "df_agosto[df_agosto.followers_count == df_agosto.followers_count.max()]"
   ]
  },
  {
   "cell_type": "code",
   "execution_count": 11,
   "metadata": {},
   "outputs": [
    {
     "data": {
      "text/html": [
       "<div>\n",
       "<style scoped>\n",
       "    .dataframe tbody tr th:only-of-type {\n",
       "        vertical-align: middle;\n",
       "    }\n",
       "\n",
       "    .dataframe tbody tr th {\n",
       "        vertical-align: top;\n",
       "    }\n",
       "\n",
       "    .dataframe thead th {\n",
       "        text-align: right;\n",
       "    }\n",
       "</style>\n",
       "<table border=\"1\" class=\"dataframe\">\n",
       "  <thead>\n",
       "    <tr style=\"text-align: right;\">\n",
       "      <th></th>\n",
       "      <th>id</th>\n",
       "      <th>created_at</th>\n",
       "      <th>favorite_count</th>\n",
       "      <th>retweet_count</th>\n",
       "      <th>full_text</th>\n",
       "      <th>posicion</th>\n",
       "      <th>favorited</th>\n",
       "      <th>retweeted</th>\n",
       "      <th>user_name</th>\n",
       "      <th>user_id</th>\n",
       "      <th>original_id</th>\n",
       "    </tr>\n",
       "  </thead>\n",
       "  <tbody>\n",
       "  </tbody>\n",
       "</table>\n",
       "</div>"
      ],
      "text/plain": [
       "Empty DataFrame\n",
       "Columns: [id, created_at, favorite_count, retweet_count, full_text, posicion, favorited, retweeted, user_name, user_id, original_id]\n",
       "Index: []"
      ]
     },
     "execution_count": 11,
     "metadata": {},
     "output_type": "execute_result"
    }
   ],
   "source": [
    "df_tweets_junio[df_tweets_junio.id != df_tweets_junio.original_id ]"
   ]
  },
  {
   "cell_type": "markdown",
   "metadata": {},
   "source": [
    "###  Folowers vs retweets"
   ]
  },
  {
   "cell_type": "code",
   "execution_count": 21,
   "metadata": {},
   "outputs": [
    {
     "data": {
      "text/plain": [
       "<matplotlib.axes._subplots.AxesSubplot at 0x7f9afbefd198>"
      ]
     },
     "execution_count": 21,
     "metadata": {},
     "output_type": "execute_result"
    },
    {
     "data": {
      "image/png": "[encoded data removed]",
      "text/plain": [
       "<Figure size 720x432 with 1 Axes>"
      ]
     },
     "metadata": {
      "needs_background": "light"
     },
     "output_type": "display_data"
    }
   ],
   "source": [
    "#df_junio.followers_count vs df_junio.retweet_count\n",
    "plt.figure(figsize=(10,6))\n",
    "sns.lineplot(data=df_junio,\n",
    "                  x='retweet_count', y='followers_count',\n",
    "                  hue='verified', ci='sd')\n"
   ]
  },
  {
   "cell_type": "code",
   "execution_count": 12,
   "metadata": {},
   "outputs": [
    {
     "data": {
      "text/plain": [
       "id                1041585\n",
       "created_at        1041585\n",
       "favorite_count    1041585\n",
       "retweet_count     1041585\n",
       "full_text         1041585\n",
       "posicion          1041585\n",
       "favorited         1041585\n",
       "retweeted         1041585\n",
       "user_name         1041529\n",
       "user_id           1041585\n",
       "original_id       1041585\n",
       "dtype: int64"
      ]
     },
     "execution_count": 12,
     "metadata": {},
     "output_type": "execute_result"
    }
   ],
   "source": [
    "df_tweets_junio[df_tweets_junio.id == df_tweets_junio.original_id ].count()"
   ]
  },
  {
   "cell_type": "code",
   "execution_count": 13,
   "metadata": {},
   "outputs": [
    {
     "data": {
      "text/plain": [
       "count    7.320000e+02\n",
       "mean     2.342490e+05\n",
       "std      7.135501e+05\n",
       "min      1.660000e+02\n",
       "25%      1.054825e+04\n",
       "50%      3.019850e+04\n",
       "75%      1.273585e+05\n",
       "max      1.026598e+07\n",
       "Name: followers_count, dtype: float64"
      ]
     },
     "execution_count": 13,
     "metadata": {},
     "output_type": "execute_result"
    }
   ],
   "source": [
    "df_users_junio[df_users_junio.verified].followers_count.describe()"
   ]
  },
  {
   "cell_type": "code",
   "execution_count": 14,
   "metadata": {},
   "outputs": [
    {
     "data": {
      "text/plain": [
       "count    3.780000e+02\n",
       "mean     4.410036e+05\n",
       "std      1.293390e+06\n",
       "min      3.230000e+02\n",
       "25%      1.883500e+04\n",
       "50%      5.835650e+04\n",
       "75%      2.859568e+05\n",
       "max      1.662782e+07\n",
       "Name: followers_count, dtype: float64"
      ]
     },
     "execution_count": 14,
     "metadata": {},
     "output_type": "execute_result"
    }
   ],
   "source": [
    "df_users_agosto[df_users_agosto.verified].followers_count.describe()"
   ]
  },
  {
   "cell_type": "code",
   "execution_count": 44,
   "metadata": {},
   "outputs": [
    {
     "data": {
      "image/png": "[encoded data removed]",
      "text/plain": [
       "<Figure size 432x288 with 1 Axes>"
      ]
     },
     "metadata": {
      "needs_background": "light"
     },
     "output_type": "display_data"
    }
   ],
   "source": [
    "sns.distplot(df_users_junio['followers_count'], bins=100)\n",
    "sns.despine()"
   ]
  },
  {
   "cell_type": "code",
   "execution_count": 45,
   "metadata": {},
   "outputs": [
    {
     "data": {
      "image/png": "[encoded data removed]",
      "text/plain": [
       "<Figure size 432x288 with 1 Axes>"
      ]
     },
     "metadata": {
      "needs_background": "light"
     },
     "output_type": "display_data"
    }
   ],
   "source": [
    "sns.boxplot(data=df_users_junio['followers_count'])\n",
    "sns.despine()"
   ]
  },
  {
   "cell_type": "code",
   "execution_count": 65,
   "metadata": {},
   "outputs": [
    {
     "name": "stdout",
     "output_type": "stream",
     "text": [
      "6.743169398907104 3.1504300258319407\n"
     ]
    }
   ],
   "source": [
    "promedio_tweets_uv = df_junio[df_junio['verified']].groupby('user_id').count()['id_x'].mean()\n",
    "promedio_tweets_unv = df_junio[df_junio['verified'] != True].groupby('user_id').count()['id_x'].mean()\n",
    "\n",
    "print(promedio_tweets_uv, promedio_tweets_unv)\n"
   ]
  },
  {
   "cell_type": "code",
   "execution_count": 68,
   "metadata": {},
   "outputs": [
    {
     "data": {
      "text/html": [
       "<div>\n",
       "<style scoped>\n",
       "    .dataframe tbody tr th:only-of-type {\n",
       "        vertical-align: middle;\n",
       "    }\n",
       "\n",
       "    .dataframe tbody tr th {\n",
       "        vertical-align: top;\n",
       "    }\n",
       "\n",
       "    .dataframe thead th {\n",
       "        text-align: right;\n",
       "    }\n",
       "</style>\n",
       "<table border=\"1\" class=\"dataframe\">\n",
       "  <thead>\n",
       "    <tr style=\"text-align: right;\">\n",
       "      <th></th>\n",
       "      <th>id</th>\n",
       "      <th>favorite_count</th>\n",
       "      <th>retweet_count</th>\n",
       "      <th>user_id</th>\n",
       "      <th>original_id</th>\n",
       "    </tr>\n",
       "  </thead>\n",
       "  <tbody>\n",
       "    <tr>\n",
       "      <th>count</th>\n",
       "      <td>1.209020e+05</td>\n",
       "      <td>120902.0</td>\n",
       "      <td>120902.0</td>\n",
       "      <td>1.209020e+05</td>\n",
       "      <td>1.209020e+05</td>\n",
       "    </tr>\n",
       "    <tr>\n",
       "      <th>mean</th>\n",
       "      <td>1.025314e+18</td>\n",
       "      <td>0.0</td>\n",
       "      <td>0.0</td>\n",
       "      <td>2.556739e+17</td>\n",
       "      <td>1.025314e+18</td>\n",
       "    </tr>\n",
       "    <tr>\n",
       "      <th>std</th>\n",
       "      <td>8.503283e+13</td>\n",
       "      <td>0.0</td>\n",
       "      <td>0.0</td>\n",
       "      <td>4.092247e+17</td>\n",
       "      <td>8.503283e+13</td>\n",
       "    </tr>\n",
       "    <tr>\n",
       "      <th>min</th>\n",
       "      <td>1.025181e+18</td>\n",
       "      <td>0.0</td>\n",
       "      <td>0.0</td>\n",
       "      <td>7.802810e+05</td>\n",
       "      <td>1.025181e+18</td>\n",
       "    </tr>\n",
       "    <tr>\n",
       "      <th>25%</th>\n",
       "      <td>1.025220e+18</td>\n",
       "      <td>0.0</td>\n",
       "      <td>0.0</td>\n",
       "      <td>3.366145e+08</td>\n",
       "      <td>1.025220e+18</td>\n",
       "    </tr>\n",
       "    <tr>\n",
       "      <th>50%</th>\n",
       "      <td>1.025353e+18</td>\n",
       "      <td>0.0</td>\n",
       "      <td>0.0</td>\n",
       "      <td>1.737213e+09</td>\n",
       "      <td>1.025353e+18</td>\n",
       "    </tr>\n",
       "    <tr>\n",
       "      <th>75%</th>\n",
       "      <td>1.025391e+18</td>\n",
       "      <td>0.0</td>\n",
       "      <td>0.0</td>\n",
       "      <td>7.526667e+17</td>\n",
       "      <td>1.025391e+18</td>\n",
       "    </tr>\n",
       "    <tr>\n",
       "      <th>max</th>\n",
       "      <td>1.025420e+18</td>\n",
       "      <td>0.0</td>\n",
       "      <td>0.0</td>\n",
       "      <td>1.025411e+18</td>\n",
       "      <td>1.025420e+18</td>\n",
       "    </tr>\n",
       "  </tbody>\n",
       "</table>\n",
       "</div>"
      ],
      "text/plain": [
       "                 id  favorite_count  retweet_count       user_id   original_id\n",
       "count  1.209020e+05        120902.0       120902.0  1.209020e+05  1.209020e+05\n",
       "mean   1.025314e+18             0.0            0.0  2.556739e+17  1.025314e+18\n",
       "std    8.503283e+13             0.0            0.0  4.092247e+17  8.503283e+13\n",
       "min    1.025181e+18             0.0            0.0  7.802810e+05  1.025181e+18\n",
       "25%    1.025220e+18             0.0            0.0  3.366145e+08  1.025220e+18\n",
       "50%    1.025353e+18             0.0            0.0  1.737213e+09  1.025353e+18\n",
       "75%    1.025391e+18             0.0            0.0  7.526667e+17  1.025391e+18\n",
       "max    1.025420e+18             0.0            0.0  1.025411e+18  1.025420e+18"
      ]
     },
     "execution_count": 68,
     "metadata": {},
     "output_type": "execute_result"
    }
   ],
   "source": [
    "df_tweets_agosto[df_tweets_agosto.id == df_tweets_agosto.original_id ].describe()"
   ]
  },
  {
   "cell_type": "code",
   "execution_count": 44,
   "metadata": {},
   "outputs": [
    {
     "data": {
      "text/html": [
       "<div>\n",
       "<style scoped>\n",
       "    .dataframe tbody tr th:only-of-type {\n",
       "        vertical-align: middle;\n",
       "    }\n",
       "\n",
       "    .dataframe tbody tr th {\n",
       "        vertical-align: top;\n",
       "    }\n",
       "\n",
       "    .dataframe thead th {\n",
       "        text-align: right;\n",
       "    }\n",
       "</style>\n",
       "<table border=\"1\" class=\"dataframe\">\n",
       "  <thead>\n",
       "    <tr style=\"text-align: right;\">\n",
       "      <th></th>\n",
       "      <th>screen_name</th>\n",
       "      <th>location</th>\n",
       "      <th>followers_count</th>\n",
       "      <th>statuses_count</th>\n",
       "      <th>description</th>\n",
       "      <th>friends_count</th>\n",
       "      <th>favourites_count</th>\n",
       "      <th>created_at</th>\n",
       "      <th>id</th>\n",
       "      <th>name</th>\n",
       "      <th>verified</th>\n",
       "    </tr>\n",
       "  </thead>\n",
       "  <tbody>\n",
       "    <tr>\n",
       "      <th>0</th>\n",
       "      <td>abortoensenado</td>\n",
       "      <td>Buenos Aires, Argentina</td>\n",
       "      <td>619</td>\n",
       "      <td>1028</td>\n",
       "      <td>Sólo hay una cosa más grande que el amor a la ...</td>\n",
       "      <td>1264</td>\n",
       "      <td>305</td>\n",
       "      <td>2018-06-20 17:12:43+00:00</td>\n",
       "      <td>1009484201660383232</td>\n",
       "      <td>Aborto En El Senado</td>\n",
       "      <td>False</td>\n",
       "    </tr>\n",
       "    <tr>\n",
       "      <th>1</th>\n",
       "      <td>MotonetaZ</td>\n",
       "      <td>NaN</td>\n",
       "      <td>12</td>\n",
       "      <td>265</td>\n",
       "      <td>None</td>\n",
       "      <td>66</td>\n",
       "      <td>189</td>\n",
       "      <td>2017-06-15 20:07:02+00:00</td>\n",
       "      <td>875444558745567232</td>\n",
       "      <td>Lucas</td>\n",
       "      <td>False</td>\n",
       "    </tr>\n",
       "    <tr>\n",
       "      <th>2</th>\n",
       "      <td>AliseValix0210</td>\n",
       "      <td>NaN</td>\n",
       "      <td>34</td>\n",
       "      <td>3218</td>\n",
       "      <td>ARMY ,❤ BTS ❤, HAY QUE AMARLOS A TODOS.</td>\n",
       "      <td>92</td>\n",
       "      <td>5076</td>\n",
       "      <td>2017-11-20 23:30:37+00:00</td>\n",
       "      <td>932753072681517058</td>\n",
       "      <td>Alise</td>\n",
       "      <td>False</td>\n",
       "    </tr>\n",
       "    <tr>\n",
       "      <th>3</th>\n",
       "      <td>MilenaDiser27</td>\n",
       "      <td>NaN</td>\n",
       "      <td>28</td>\n",
       "      <td>106</td>\n",
       "      <td>artist👩🏻‍🎨🎸🎶 🖤AHS🖤 cuenta nueva🤙🏽🔥 snap👻: mile...</td>\n",
       "      <td>114</td>\n",
       "      <td>113</td>\n",
       "      <td>2018-06-11 01:46:56+00:00</td>\n",
       "      <td>1005989729542733827</td>\n",
       "      <td>FREAK👽</td>\n",
       "      <td>False</td>\n",
       "    </tr>\n",
       "    <tr>\n",
       "      <th>4</th>\n",
       "      <td>ConLaGenteRos</td>\n",
       "      <td>Rosario, Argentina</td>\n",
       "      <td>2325</td>\n",
       "      <td>15230</td>\n",
       "      <td>Diario digital de Rosario</td>\n",
       "      <td>449</td>\n",
       "      <td>28</td>\n",
       "      <td>2017-12-10 21:06:45+00:00</td>\n",
       "      <td>939964624711057412</td>\n",
       "      <td>Con La Gente</td>\n",
       "      <td>False</td>\n",
       "    </tr>\n",
       "    <tr>\n",
       "      <th>5</th>\n",
       "      <td>MelinaAlmada5</td>\n",
       "      <td>Matorrales</td>\n",
       "      <td>167</td>\n",
       "      <td>2519</td>\n",
       "      <td>La revolución será feminista o no será</td>\n",
       "      <td>147</td>\n",
       "      <td>1473</td>\n",
       "      <td>2017-09-28 01:54:38+00:00</td>\n",
       "      <td>913220372136329221</td>\n",
       "      <td>ᗰEᒪIᑎᗩ 💚💜💚</td>\n",
       "      <td>False</td>\n",
       "    </tr>\n",
       "    <tr>\n",
       "      <th>6</th>\n",
       "      <td>candv6</td>\n",
       "      <td>makdonalS</td>\n",
       "      <td>1763</td>\n",
       "      <td>2194</td>\n",
       "      <td>re torta y?</td>\n",
       "      <td>5001</td>\n",
       "      <td>1954</td>\n",
       "      <td>2018-02-26 21:16:48+00:00</td>\n",
       "      <td>968233410870247430</td>\n",
       "      <td>cande;</td>\n",
       "      <td>False</td>\n",
       "    </tr>\n",
       "    <tr>\n",
       "      <th>7</th>\n",
       "      <td>CharlyCarlos10</td>\n",
       "      <td>Salta, Argentina</td>\n",
       "      <td>115</td>\n",
       "      <td>5092</td>\n",
       "      <td>None</td>\n",
       "      <td>103</td>\n",
       "      <td>25907</td>\n",
       "      <td>2016-06-21 17:10:24+00:00</td>\n",
       "      <td>745302861815349249</td>\n",
       "      <td>Charly I.</td>\n",
       "      <td>False</td>\n",
       "    </tr>\n",
       "    <tr>\n",
       "      <th>8</th>\n",
       "      <td>agusnhh</td>\n",
       "      <td>sAnmi</td>\n",
       "      <td>371</td>\n",
       "      <td>16080</td>\n",
       "      <td>23 h          06 n</td>\n",
       "      <td>428</td>\n",
       "      <td>10395</td>\n",
       "      <td>2017-12-29 22:25:34+00:00</td>\n",
       "      <td>946869830241615880</td>\n",
       "      <td>kumbia peposa  🇫🇷</td>\n",
       "      <td>False</td>\n",
       "    </tr>\n",
       "    <tr>\n",
       "      <th>9</th>\n",
       "      <td>Ivanlorenz_</td>\n",
       "      <td>NaN</td>\n",
       "      <td>384</td>\n",
       "      <td>7714</td>\n",
       "      <td>Egresado del Colegio Nacional de Buenos Aires ...</td>\n",
       "      <td>380</td>\n",
       "      <td>6530</td>\n",
       "      <td>2016-02-25 23:00:20+00:00</td>\n",
       "      <td>702991546208092169</td>\n",
       "      <td>Lolo</td>\n",
       "      <td>False</td>\n",
       "    </tr>\n",
       "  </tbody>\n",
       "</table>\n",
       "</div>"
      ],
      "text/plain": [
       "      screen_name                 location  followers_count  statuses_count  \\\n",
       "0  abortoensenado  Buenos Aires, Argentina              619            1028   \n",
       "1       MotonetaZ                      NaN               12             265   \n",
       "2  AliseValix0210                      NaN               34            3218   \n",
       "3   MilenaDiser27                      NaN               28             106   \n",
       "4   ConLaGenteRos       Rosario, Argentina             2325           15230   \n",
       "5   MelinaAlmada5              Matorrales               167            2519   \n",
       "6          candv6                makdonalS             1763            2194   \n",
       "7  CharlyCarlos10         Salta, Argentina              115            5092   \n",
       "8         agusnhh                    sAnmi              371           16080   \n",
       "9     Ivanlorenz_                      NaN              384            7714   \n",
       "\n",
       "                                         description  friends_count  \\\n",
       "0  Sólo hay una cosa más grande que el amor a la ...           1264   \n",
       "1                                               None             66   \n",
       "2            ARMY ,❤ BTS ❤, HAY QUE AMARLOS A TODOS.             92   \n",
       "3  artist👩🏻‍🎨🎸🎶 🖤AHS🖤 cuenta nueva🤙🏽🔥 snap👻: mile...            114   \n",
       "4                          Diario digital de Rosario            449   \n",
       "5             La revolución será feminista o no será            147   \n",
       "6                                        re torta y?           5001   \n",
       "7                                               None            103   \n",
       "8                                 23 h          06 n            428   \n",
       "9  Egresado del Colegio Nacional de Buenos Aires ...            380   \n",
       "\n",
       "   favourites_count                created_at                   id  \\\n",
       "0               305 2018-06-20 17:12:43+00:00  1009484201660383232   \n",
       "1               189 2017-06-15 20:07:02+00:00   875444558745567232   \n",
       "2              5076 2017-11-20 23:30:37+00:00   932753072681517058   \n",
       "3               113 2018-06-11 01:46:56+00:00  1005989729542733827   \n",
       "4                28 2017-12-10 21:06:45+00:00   939964624711057412   \n",
       "5              1473 2017-09-28 01:54:38+00:00   913220372136329221   \n",
       "6              1954 2018-02-26 21:16:48+00:00   968233410870247430   \n",
       "7             25907 2016-06-21 17:10:24+00:00   745302861815349249   \n",
       "8             10395 2017-12-29 22:25:34+00:00   946869830241615880   \n",
       "9              6530 2016-02-25 23:00:20+00:00   702991546208092169   \n",
       "\n",
       "                  name  verified  \n",
       "0  Aborto En El Senado     False  \n",
       "1                Lucas     False  \n",
       "2                Alise     False  \n",
       "3               FREAK👽     False  \n",
       "4         Con La Gente     False  \n",
       "5           ᗰEᒪIᑎᗩ 💚💜💚     False  \n",
       "6               cande;     False  \n",
       "7            Charly I.     False  \n",
       "8    kumbia peposa  🇫🇷     False  \n",
       "9                 Lolo     False  "
      ]
     },
     "execution_count": 44,
     "metadata": {},
     "output_type": "execute_result"
    }
   ],
   "source": [
    " df_users_agosto.head(10)\n"
   ]
  },
  {
   "cell_type": "code",
   "execution_count": 84,
   "metadata": {},
   "outputs": [
    {
     "name": "stdout",
     "output_type": "stream",
     "text": [
      "Version de numpy! 64 bits\n"
     ]
    }
   ],
   "source": [
    "import numpy.distutils.system_info as sysinfo\n",
    "print(\"Version de numpy!\",sysinfo.platform_bits , \"bits\")"
   ]
  },
  {
   "cell_type": "code",
   "execution_count": 12,
   "metadata": {},
   "outputs": [
    {
     "data": {
      "text/plain": [
       "pandas.core.frame.DataFrame"
      ]
     },
     "execution_count": 12,
     "metadata": {},
     "output_type": "execute_result"
    }
   ],
   "source": [
    "type(df_tweets_agosto)"
   ]
  },
  {
   "cell_type": "code",
   "execution_count": 14,
   "metadata": {},
   "outputs": [
    {
     "data": {
      "text/html": [
       "<div>\n",
       "<style scoped>\n",
       "    .dataframe tbody tr th:only-of-type {\n",
       "        vertical-align: middle;\n",
       "    }\n",
       "\n",
       "    .dataframe tbody tr th {\n",
       "        vertical-align: top;\n",
       "    }\n",
       "\n",
       "    .dataframe thead th {\n",
       "        text-align: right;\n",
       "    }\n",
       "</style>\n",
       "<table border=\"1\" class=\"dataframe\">\n",
       "  <thead>\n",
       "    <tr style=\"text-align: right;\">\n",
       "      <th></th>\n",
       "      <th>id</th>\n",
       "      <th>favorite_count</th>\n",
       "      <th>retweet_count</th>\n",
       "      <th>user_id</th>\n",
       "      <th>original_id</th>\n",
       "    </tr>\n",
       "  </thead>\n",
       "  <tbody>\n",
       "    <tr>\n",
       "      <th>count</th>\n",
       "      <td>1.209020e+05</td>\n",
       "      <td>120902.0</td>\n",
       "      <td>120902.0</td>\n",
       "      <td>1.209020e+05</td>\n",
       "      <td>1.209020e+05</td>\n",
       "    </tr>\n",
       "    <tr>\n",
       "      <th>mean</th>\n",
       "      <td>1.025314e+18</td>\n",
       "      <td>0.0</td>\n",
       "      <td>0.0</td>\n",
       "      <td>2.556739e+17</td>\n",
       "      <td>1.025314e+18</td>\n",
       "    </tr>\n",
       "    <tr>\n",
       "      <th>std</th>\n",
       "      <td>8.503283e+13</td>\n",
       "      <td>0.0</td>\n",
       "      <td>0.0</td>\n",
       "      <td>4.092247e+17</td>\n",
       "      <td>8.503283e+13</td>\n",
       "    </tr>\n",
       "    <tr>\n",
       "      <th>min</th>\n",
       "      <td>1.025181e+18</td>\n",
       "      <td>0.0</td>\n",
       "      <td>0.0</td>\n",
       "      <td>7.802810e+05</td>\n",
       "      <td>1.025181e+18</td>\n",
       "    </tr>\n",
       "    <tr>\n",
       "      <th>25%</th>\n",
       "      <td>1.025220e+18</td>\n",
       "      <td>0.0</td>\n",
       "      <td>0.0</td>\n",
       "      <td>3.366145e+08</td>\n",
       "      <td>1.025220e+18</td>\n",
       "    </tr>\n",
       "    <tr>\n",
       "      <th>50%</th>\n",
       "      <td>1.025353e+18</td>\n",
       "      <td>0.0</td>\n",
       "      <td>0.0</td>\n",
       "      <td>1.737213e+09</td>\n",
       "      <td>1.025353e+18</td>\n",
       "    </tr>\n",
       "    <tr>\n",
       "      <th>75%</th>\n",
       "      <td>1.025391e+18</td>\n",
       "      <td>0.0</td>\n",
       "      <td>0.0</td>\n",
       "      <td>7.526667e+17</td>\n",
       "      <td>1.025391e+18</td>\n",
       "    </tr>\n",
       "    <tr>\n",
       "      <th>max</th>\n",
       "      <td>1.025420e+18</td>\n",
       "      <td>0.0</td>\n",
       "      <td>0.0</td>\n",
       "      <td>1.025411e+18</td>\n",
       "      <td>1.025420e+18</td>\n",
       "    </tr>\n",
       "  </tbody>\n",
       "</table>\n",
       "</div>"
      ],
      "text/plain": [
       "                 id  favorite_count  retweet_count       user_id   original_id\n",
       "count  1.209020e+05        120902.0       120902.0  1.209020e+05  1.209020e+05\n",
       "mean   1.025314e+18             0.0            0.0  2.556739e+17  1.025314e+18\n",
       "std    8.503283e+13             0.0            0.0  4.092247e+17  8.503283e+13\n",
       "min    1.025181e+18             0.0            0.0  7.802810e+05  1.025181e+18\n",
       "25%    1.025220e+18             0.0            0.0  3.366145e+08  1.025220e+18\n",
       "50%    1.025353e+18             0.0            0.0  1.737213e+09  1.025353e+18\n",
       "75%    1.025391e+18             0.0            0.0  7.526667e+17  1.025391e+18\n",
       "max    1.025420e+18             0.0            0.0  1.025411e+18  1.025420e+18"
      ]
     },
     "execution_count": 14,
     "metadata": {},
     "output_type": "execute_result"
    }
   ],
   "source": [
    "df_tweets_agosto.describe()\n"
   ]
  },
  {
   "cell_type": "code",
   "execution_count": 23,
   "metadata": {},
   "outputs": [
    {
     "name": "stdout",
     "output_type": "stream",
     "text": [
      "(1041585, 22) (1041585, 11) (329782, 11)\n"
     ]
    }
   ],
   "source": [
    "print(df_junio.shape, df_tweets_junio.shape)"
   ]
  },
  {
   "cell_type": "code",
   "execution_count": 24,
   "metadata": {},
   "outputs": [
    {
     "name": "stdout",
     "output_type": "stream",
     "text": [
      "(120902, 21) (120902, 10)\n"
     ]
    }
   ],
   "source": [
    "print(df_agosto.shape, df_tweets_agosto.shape)"
   ]
  },
  {
   "cell_type": "code",
   "execution_count": 28,
   "metadata": {},
   "outputs": [
    {
     "name": "stdout",
     "output_type": "stream",
     "text": [
      "0 10265980\n"
     ]
    }
   ],
   "source": [
    "print(df_junio.followers_count.min(), df_junio.followers_count.max())"
   ]
  },
  {
   "cell_type": "code",
   "execution_count": 35,
   "metadata": {},
   "outputs": [
    {
     "data": {
      "image/png": "[encoded data removed]",
      "text/plain": [
       "<Figure size 864x576 with 1 Axes>"
      ]
     },
     "metadata": {
      "needs_background": "light"
     },
     "output_type": "display_data"
    }
   ],
   "source": [
    "df_junio.followers_count.hist( bins=35, figsize=(12,8));"
   ]
  },
  {
   "cell_type": "code",
   "execution_count": 30,
   "metadata": {},
   "outputs": [
    {
     "data": {
      "image/png": "[encoded data removed]",
      "text/plain": [
       "<Figure size 432x288 with 1 Axes>"
      ]
     },
     "metadata": {
      "needs_background": "light"
     },
     "output_type": "display_data"
    }
   ],
   "source": [
    "df_junio.boxplot(column='followers_count');"
   ]
  },
  {
   "cell_type": "markdown",
   "metadata": {},
   "source": [
    "### Usuarios (no duplicados)\n",
    "Quitamos los duplicados por la columna ID, y unimos los 2 datasets en uno de usuarios."
   ]
  },
  {
   "cell_type": "code",
   "execution_count": 13,
   "metadata": {},
   "outputs": [],
   "source": [
    "df_users = pd.concat([df_users_junio, df_users_agosto]).drop_duplicates(subset='id').reset_index(drop=True)"
   ]
  },
  {
   "cell_type": "code",
   "execution_count": 65,
   "metadata": {},
   "outputs": [
    {
     "name": "stdout",
     "output_type": "stream",
     "text": [
      "filas: 370486 = 329782 + 74324\n",
      "duplicados: 33620\n"
     ]
    }
   ],
   "source": [
    "print('filas:',df_users.shape[0], '=',df_users_junio.shape[0], '+' , df_users_agosto.shape[0] )\n",
    "print('duplicados:', (df_users_junio.shape[0] + df_users_agosto.shape[0]) - df_users.shape[0])"
   ]
  },
  {
   "cell_type": "code",
   "execution_count": 79,
   "metadata": {},
   "outputs": [
    {
     "name": "stdout",
     "output_type": "stream",
     "text": [
      "Filas removidas 734\n",
      "Folowers máximo considerado 85425\n"
     ]
    }
   ],
   "source": [
    "fw = df_users['followers_count']\n",
    "mask_fw = numpy.abs(fw-fw.mean()) <= (1.5*fw.std())\n",
    "data =fw[mask_fw]\n",
    "print(\"Filas removidas\", fw.count() - data.count())\n",
    "print(\"Folowers máximo considerado\", data.max())"
   ]
  },
  {
   "cell_type": "code",
   "execution_count": 80,
   "metadata": {},
   "outputs": [
    {
     "data": {
      "image/png": "[encoded data removed]",
      "text/plain": [
       "<Figure size 720x432 with 1 Axes>"
      ]
     },
     "metadata": {
      "needs_background": "light"
     },
     "output_type": "display_data"
    }
   ],
   "source": [
    "plt.figure(figsize=(10,6))\n",
    "sns.distplot(data, bins=20)\n",
    "sns.despine()"
   ]
  },
  {
   "cell_type": "code",
   "execution_count": 103,
   "metadata": {},
   "outputs": [
    {
     "data": {
      "text/plain": [
       "<matplotlib.axes._subplots.AxesSubplot at 0x7f2192b624a8>"
      ]
     },
     "execution_count": 103,
     "metadata": {},
     "output_type": "execute_result"
    },
    {
     "data": {
      "image/png": "[encoded data removed]",
      "text/plain": [
       "<Figure size 720x432 with 1 Axes>"
      ]
     },
     "metadata": {
      "needs_background": "light"
     },
     "output_type": "display_data"
    }
   ],
   "source": [
    "plt.figure(figsize=(10,6))\n",
    "sns.distplot(df_users['followers_count'], bins=20)\n"
   ]
  },
  {
   "cell_type": "markdown",
   "metadata": {},
   "source": [
    "### Seguidores y seguidos"
   ]
  },
  {
   "cell_type": "markdown",
   "metadata": {},
   "source": [
    "El 75% de los usuarios, tiene en promedio 748 seguidores"
   ]
  },
  {
   "cell_type": "code",
   "execution_count": 110,
   "metadata": {},
   "outputs": [
    {
     "data": {
      "text/plain": [
       "0.25    114.0\n",
       "0.50    323.0\n",
       "0.75    748.0\n",
       "Name: followers_count, dtype: float64"
      ]
     },
     "execution_count": 110,
     "metadata": {},
     "output_type": "execute_result"
    }
   ],
   "source": [
    "df_users['followers_count'].quantile(q=[.25,.5,.75])"
   ]
  },
  {
   "cell_type": "code",
   "execution_count": 104,
   "metadata": {},
   "outputs": [
    {
     "data": {
      "text/plain": [
       "count    3.704860e+05\n",
       "mean     1.979009e+03\n",
       "std      5.567966e+04\n",
       "min      0.000000e+00\n",
       "25%      1.140000e+02\n",
       "50%      3.230000e+02\n",
       "75%      7.480000e+02\n",
       "max      1.662782e+07\n",
       "Name: followers_count, dtype: float64"
      ]
     },
     "execution_count": 104,
     "metadata": {},
     "output_type": "execute_result"
    }
   ],
   "source": [
    " df_users['followers_count'].describe()"
   ]
  },
  {
   "cell_type": "code",
   "execution_count": 136,
   "metadata": {},
   "outputs": [
    {
     "data": {
      "text/plain": [
       "0.998245    100224.55065\n",
       "Name: followers_count, dtype: float64"
      ]
     },
     "execution_count": 136,
     "metadata": {},
     "output_type": "execute_result"
    }
   ],
   "source": [
    "df_users['followers_count'].quantile(q=[.998245])"
   ]
  },
  {
   "cell_type": "code",
   "execution_count": 138,
   "metadata": {},
   "outputs": [
    {
     "name": "stdout",
     "output_type": "stream",
     "text": [
      "El  0.17549999999999955 % de los usuarios tiene + de 100 mil seguidores!\n"
     ]
    }
   ],
   "source": [
    "print('El ',100 - 99.8245,'% de los usuarios tiene + de 100 mil seguidores!' )"
   ]
  },
  {
   "cell_type": "markdown",
   "metadata": {},
   "source": [
    "#### ahora vamos con los amigos (a quien sigue)"
   ]
  },
  {
   "cell_type": "code",
   "execution_count": 145,
   "metadata": {},
   "outputs": [
    {
     "data": {
      "text/plain": [
       "count    3.704860e+05\n",
       "mean     7.186879e+02\n",
       "std      3.874823e+03\n",
       "min      0.000000e+00\n",
       "25%      1.850000e+02\n",
       "50%      3.680000e+02\n",
       "75%      7.170000e+02\n",
       "max      1.047219e+06\n",
       "Name: friends_count, dtype: float64"
      ]
     },
     "execution_count": 145,
     "metadata": {},
     "output_type": "execute_result"
    }
   ],
   "source": [
    " df_users['friends_count'].describe()"
   ]
  },
  {
   "cell_type": "code",
   "execution_count": 146,
   "metadata": {},
   "outputs": [
    {
     "data": {
      "image/png": "[encoded data removed]",
      "text/plain": [
       "<Figure size 720x432 with 1 Axes>"
      ]
     },
     "metadata": {
      "needs_background": "light"
     },
     "output_type": "display_data"
    }
   ],
   "source": [
    " df_users.boxplot(column='friends_count');"
   ]
  },
  {
   "cell_type": "code",
   "execution_count": 147,
   "metadata": {},
   "outputs": [
    {
     "data": {
      "text/plain": [
       "0.25    185.0\n",
       "0.50    368.0\n",
       "0.75    717.0\n",
       "Name: friends_count, dtype: float64"
      ]
     },
     "execution_count": 147,
     "metadata": {},
     "output_type": "execute_result"
    }
   ],
   "source": [
    "df_users['friends_count'].quantile(q=[.25,.5,.75])"
   ]
  },
  {
   "cell_type": "markdown",
   "metadata": {},
   "source": [
    "## Pregunta Nro 2 (creacion de cuentas)"
   ]
  },
  {
   "cell_type": "code",
   "execution_count": 148,
   "metadata": {},
   "outputs": [
    {
     "data": {
      "image/png": "[encoded data removed]",
      "text/plain": [
       "<Figure size 720x432 with 1 Axes>"
      ]
     },
     "metadata": {
      "needs_background": "light"
     },
     "output_type": "display_data"
    }
   ],
   "source": [
    "df_users[\"created_at\"].groupby(df_users[\"created_at\"].dt.year).count().plot(kind=\"bar\")\n",
    "plt.show()"
   ]
  },
  {
   "cell_type": "code",
   "execution_count": 151,
   "metadata": {},
   "outputs": [
    {
     "data": {
      "image/png": "[encoded data removed]",
      "text/plain": [
       "<Figure size 720x432 with 1 Axes>"
      ]
     },
     "metadata": {
      "needs_background": "light"
     },
     "output_type": "display_data"
    }
   ],
   "source": [
    "import datetime \n",
    "df_users[df_users[\"created_at\"].dt.year >= 2018][\"created_at\"].groupby(df_users[\"created_at\"].dt.month).count().plot(kind=\"bar\")\n",
    "plt.show()"
   ]
  },
  {
   "cell_type": "markdown",
   "metadata": {},
   "source": [
    "#### Si vemos una alza en altas  en los meses de mayo y junio!"
   ]
  },
  {
   "cell_type": "code",
   "execution_count": 158,
   "metadata": {},
   "outputs": [
    {
     "data": {
      "text/plain": [
       "created_at\n",
       "1    4046\n",
       "2    3773\n",
       "3    4016\n",
       "4    4187\n",
       "5    5189\n",
       "6    5775\n",
       "7    1558\n",
       "8     238\n",
       "Name: id, dtype: int64"
      ]
     },
     "execution_count": 158,
     "metadata": {},
     "output_type": "execute_result"
    }
   ],
   "source": [
    "df_users[df_users[\"created_at\"].dt.year >= 2018].groupby(df_users[\"created_at\"].dt.month)['id'].count()\n"
   ]
  },
  {
   "cell_type": "markdown",
   "metadata": {},
   "source": [
    "## Antigüedad vs cantidad de tweets"
   ]
  },
  {
   "cell_type": "code",
   "execution_count": 192,
   "metadata": {},
   "outputs": [
    {
     "data": {
      "text/plain": [
       "<matplotlib.axes._subplots.AxesSubplot at 0x7f218ec14d68>"
      ]
     },
     "execution_count": 192,
     "metadata": {},
     "output_type": "execute_result"
    },
    {
     "data": {
      "image/png": "[encoded data removed]",
      "text/plain": [
       "<Figure size 720x432 with 1 Axes>"
      ]
     },
     "metadata": {
      "needs_background": "light"
     },
     "output_type": "display_data"
    }
   ],
   "source": [
    "df_users['old'] =  2018 - df_users[\"created_at\"].dt.year\n",
    "sns.lineplot(data=df_users, x='old',y='statuses_count')"
   ]
  },
  {
   "cell_type": "code",
   "execution_count": 196,
   "metadata": {},
   "outputs": [
    {
     "data": {
      "text/plain": [
       "<matplotlib.axes._subplots.AxesSubplot at 0x7f2192b0d400>"
      ]
     },
     "execution_count": 196,
     "metadata": {},
     "output_type": "execute_result"
    },
    {
     "data": {
      "image/png": "[encoded data removed]",
      "text/plain": [
       "<Figure size 720x432 with 1 Axes>"
      ]
     },
     "metadata": {
      "needs_background": "light"
     },
     "output_type": "display_data"
    }
   ],
   "source": [
    "sns.lineplot(data=df_users, x='old',y='followers_count')\n",
    " "
   ]
  },
  {
   "cell_type": "code",
   "execution_count": 198,
   "metadata": {},
   "outputs": [
    {
     "data": {
      "image/png": "[encoded data removed]",
      "text/plain": [
       "<Figure size 720x720 with 20 Axes>"
      ]
     },
     "metadata": {
      "needs_background": "light"
     },
     "output_type": "display_data"
    }
   ],
   "source": [
    "sns.pairplot(\n",
    "    data=df_users,\n",
    "    vars=['followers_count', 'statuses_count', 'favourites_count', 'friends_count'])\n",
    "\n",
    "sns.despine()"
   ]
  },
  {
   "cell_type": "code",
   "execution_count": 204,
   "metadata": {},
   "outputs": [
    {
     "data": {
      "image/png": "[encoded data removed]",
      "text/plain": [
       "<Figure size 720x432 with 1 Axes>"
      ]
     },
     "metadata": {
      "needs_background": "light"
     },
     "output_type": "display_data"
    }
   ],
   "source": [
    "df_users.groupby(df_users[\"verified\"])['statuses_count'].mean().plot(kind=\"bar\")\n",
    "plt.show()\n"
   ]
  },
  {
   "cell_type": "code",
   "execution_count": 209,
   "metadata": {},
   "outputs": [
    {
     "data": {
      "image/png": "[encoded data removed]",
      "text/plain": [
       "<Figure size 720x432 with 1 Axes>"
      ]
     },
     "metadata": {
      "needs_background": "light"
     },
     "output_type": "display_data"
    }
   ],
   "source": [
    "df_tweets_junio[\"created_at\"].groupby(df_tweets_junio[\"created_at\"].dt.day).count().plot(kind=\"bar\")\n",
    "plt.show()"
   ]
  },
  {
   "cell_type": "markdown",
   "metadata": {},
   "source": [
    "### Cantidad de tweets x hora de creacion (dia de la votacion en junio y agosto)"
   ]
  },
  {
   "cell_type": "code",
   "execution_count": 212,
   "metadata": {},
   "outputs": [
    {
     "data": {
      "image/png": "[encoded data removed]",
      "text/plain": [
       "<Figure size 720x432 with 1 Axes>"
      ]
     },
     "metadata": {
      "needs_background": "light"
     },
     "output_type": "display_data"
    }
   ],
   "source": [
    "df_tweets_junio[df_tweets_junio.created_at.dt.day == 13][\"created_at\"].groupby(df_tweets_junio[\"created_at\"].dt.hour).count().plot(kind=\"bar\")\n",
    "plt.show()"
   ]
  },
  {
   "cell_type": "code",
   "execution_count": 211,
   "metadata": {},
   "outputs": [
    {
     "data": {
      "image/png": "[encoded data removed]",
      "text/plain": [
       "<Figure size 720x432 with 1 Axes>"
      ]
     },
     "metadata": {
      "needs_background": "light"
     },
     "output_type": "display_data"
    }
   ],
   "source": [
    "df_tweets_agosto[\"created_at\"].groupby(df_tweets_agosto[\"created_at\"].dt.hour).count().plot(kind=\"bar\")\n",
    "plt.show()"
   ]
  },
  {
   "cell_type": "code",
   "execution_count": 219,
   "metadata": {},
   "outputs": [],
   "source": [
    "def to_categorical(column):\n",
    "    intervals = pd.IntervalIndex.from_tuples([(0, 100), (100, 500), (500, 1000), (1000,5000), (5000,10000),(10000,20000),(20000,50000),(50000, 100000), (100000, 200000), (200000, 500000), (500000,1000000), (1000000,20000000)])\n",
    "    return pd.cut(column, intervals)"
   ]
  },
  {
   "cell_type": "code",
   "execution_count": 221,
   "metadata": {},
   "outputs": [
    {
     "data": {
      "text/plain": [
       "(array([ 0,  1,  2,  3,  4,  5,  6,  7,  8,  9, 10, 11]),\n",
       " <a list of 12 Text xticklabel objects>)"
      ]
     },
     "execution_count": 221,
     "metadata": {},
     "output_type": "execute_result"
    },
    {
     "data": {
      "image/png": "[encoded data removed]",
      "text/plain": [
       "<Figure size 720x432 with 1 Axes>"
      ]
     },
     "metadata": {
      "needs_background": "light"
     },
     "output_type": "display_data"
    }
   ],
   "source": [
    "sns.countplot(to_categorical(df_users.followers_count), color='#35A7FF')\n",
    "plt.xticks(rotation=45)"
   ]
  },
  {
   "cell_type": "markdown",
   "metadata": {},
   "source": [
    "### usuarios verificados y no verificados vs seguidores"
   ]
  },
  {
   "cell_type": "code",
   "execution_count": 229,
   "metadata": {},
   "outputs": [
    {
     "data": {
      "text/plain": [
       "(array([ 0,  1,  2,  3,  4,  5,  6,  7,  8,  9, 10, 11]),\n",
       " <a list of 12 Text xticklabel objects>)"
      ]
     },
     "execution_count": 229,
     "metadata": {},
     "output_type": "execute_result"
    },
    {
     "data": {
      "image/png": "[encoded data removed]",
      "text/plain": [
       "<Figure size 720x432 with 1 Axes>"
      ]
     },
     "metadata": {
      "needs_background": "light"
     },
     "output_type": "display_data"
    }
   ],
   "source": [
    "sns.countplot(to_categorical(df_users[df_users.verified == True].followers_count), color='#FF5964')\n",
    "plt.xticks(rotation=45)"
   ]
  },
  {
   "cell_type": "code",
   "execution_count": 231,
   "metadata": {},
   "outputs": [
    {
     "data": {
      "text/plain": [
       "(array([ 0,  1,  2,  3,  4,  5,  6,  7,  8,  9, 10, 11]),\n",
       " <a list of 12 Text xticklabel objects>)"
      ]
     },
     "execution_count": 231,
     "metadata": {},
     "output_type": "execute_result"
    },
    {
     "data": {
      "image/png": "[encoded data removed]",
      "text/plain": [
       "<Figure size 720x432 with 1 Axes>"
      ]
     },
     "metadata": {
      "needs_background": "light"
     },
     "output_type": "display_data"
    }
   ],
   "source": [
    "sns.countplot(to_categorical(df_users[df_users.verified == False].followers_count), color='#35A7FF')\n",
    "plt.xticks(rotation=45)"
   ]
  },
  {
   "cell_type": "markdown",
   "metadata": {},
   "source": [
    "### El tweet con mas RT\n",
    "una lastima que esta cuenta esté bloqueda, no podemos ver lo que ha tweeteado.\n",
    "https://twitter.com/user/status/[tweet_id]\n"
   ]
  },
  {
   "cell_type": "code",
   "execution_count": 38,
   "metadata": {},
   "outputs": [
    {
     "data": {
      "text/html": [
       "<div>\n",
       "<style scoped>\n",
       "    .dataframe tbody tr th:only-of-type {\n",
       "        vertical-align: middle;\n",
       "    }\n",
       "\n",
       "    .dataframe tbody tr th {\n",
       "        vertical-align: top;\n",
       "    }\n",
       "\n",
       "    .dataframe thead th {\n",
       "        text-align: right;\n",
       "    }\n",
       "</style>\n",
       "<table border=\"1\" class=\"dataframe\">\n",
       "  <thead>\n",
       "    <tr style=\"text-align: right;\">\n",
       "      <th></th>\n",
       "      <th>screen_name</th>\n",
       "      <th>location</th>\n",
       "      <th>followers_count</th>\n",
       "      <th>statuses_count</th>\n",
       "      <th>description</th>\n",
       "      <th>friends_count</th>\n",
       "      <th>favourites_count</th>\n",
       "      <th>created_at</th>\n",
       "      <th>id</th>\n",
       "      <th>name</th>\n",
       "      <th>verified</th>\n",
       "    </tr>\n",
       "  </thead>\n",
       "  <tbody>\n",
       "    <tr>\n",
       "      <th>25641</th>\n",
       "      <td>Fio_Mansilla</td>\n",
       "      <td>Pergamino-Bs.As-Argentina</td>\n",
       "      <td>350</td>\n",
       "      <td>10133</td>\n",
       "      <td>El lujo es vulgaridad✨</td>\n",
       "      <td>344</td>\n",
       "      <td>3728</td>\n",
       "      <td>2014-12-13 21:11:00+00:00</td>\n",
       "      <td>2920325639</td>\n",
       "      <td>Fio👑</td>\n",
       "      <td>False</td>\n",
       "    </tr>\n",
       "  </tbody>\n",
       "</table>\n",
       "</div>"
      ],
      "text/plain": [
       "        screen_name                   location  followers_count  \\\n",
       "25641  Fio_Mansilla  Pergamino-Bs.As-Argentina              350   \n",
       "\n",
       "       statuses_count             description  friends_count  \\\n",
       "25641           10133  El lujo es vulgaridad✨            344   \n",
       "\n",
       "       favourites_count                created_at          id  name  verified  \n",
       "25641              3728 2014-12-13 21:11:00+00:00  2920325639  Fio👑     False  "
      ]
     },
     "execution_count": 38,
     "metadata": {},
     "output_type": "execute_result"
    }
   ],
   "source": [
    " \n",
    "\n",
    "#df_tweets_junio[df_tweets_junio.retweet_count==df_tweets_junio.retweet_count.max()] #--43247 retweets y sin fav?\n",
    "#user_id == 2920325639\n",
    "df_users_junio[df_users_junio.id == 2920325639]\n",
    "\n",
    "#df_tweets_junio[df_tweets_junio.favorite_count == df_tweets_junio.favorite_count.max()] #--51902\n",
    "#user_id == 800070291225350144\n",
    "#df_users_junio[df_users_junio.id == 800070291225350144]"
   ]
  },
  {
   "cell_type": "markdown",
   "metadata": {},
   "source": [
    "## Series temportales con Pandas"
   ]
  },
  {
   "cell_type": "code",
   "execution_count": 40,
   "metadata": {},
   "outputs": [],
   "source": [
    "tfav = pd.Series(data=df_tweets_junio['favorite_count'].values, index=df_tweets_junio['created_at'])\n",
    "tret = pd.Series(data=df_tweets_junio['retweet_count'].values, index=df_tweets_junio['created_at'])"
   ]
  },
  {
   "cell_type": "code",
   "execution_count": 42,
   "metadata": {},
   "outputs": [
    {
     "data": {
      "text/plain": [
       "<matplotlib.axes._subplots.AxesSubplot at 0x7fcadf6bb438>"
      ]
     },
     "execution_count": 42,
     "metadata": {},
     "output_type": "execute_result"
    },
    {
     "data": {
      "image/png": "[encoded data removed]",
      "text/plain": [
       "<Figure size 1152x288 with 1 Axes>"
      ]
     },
     "metadata": {
      "needs_background": "light"
     },
     "output_type": "display_data"
    }
   ],
   "source": [
    "tfav.plot(figsize=(16,4), label=\"Me gusta\", legend=True)\n"
   ]
  },
  {
   "cell_type": "code",
   "execution_count": 44,
   "metadata": {},
   "outputs": [
    {
     "data": {
      "image/png": "[encoded data removed]",
      "text/plain": [
       "<Figure size 1152x288 with 1 Axes>"
      ]
     },
     "metadata": {
      "needs_background": "light"
     },
     "output_type": "display_data"
    }
   ],
   "source": [
    "tret.plot(figsize=(16,4), label=\"Retuits\", legend=True, color='#a4f902');"
   ]
  },
  {
   "cell_type": "markdown",
   "metadata": {},
   "source": [
    "## Hipotesis nula (correlacion entre followers y cuentas verificadas)"
   ]
  },
  {
   "cell_type": "code",
   "execution_count": 36,
   "metadata": {},
   "outputs": [
    {
     "data": {
      "text/html": [
       "<div>\n",
       "<style scoped>\n",
       "    .dataframe tbody tr th:only-of-type {\n",
       "        vertical-align: middle;\n",
       "    }\n",
       "\n",
       "    .dataframe tbody tr th {\n",
       "        vertical-align: top;\n",
       "    }\n",
       "\n",
       "    .dataframe thead th {\n",
       "        text-align: right;\n",
       "    }\n",
       "</style>\n",
       "<table border=\"1\" class=\"dataframe\">\n",
       "  <thead>\n",
       "    <tr style=\"text-align: right;\">\n",
       "      <th></th>\n",
       "      <th>id_x</th>\n",
       "      <th>created_at_x</th>\n",
       "      <th>favorite_count</th>\n",
       "      <th>retweet_count</th>\n",
       "      <th>text</th>\n",
       "      <th>favorited</th>\n",
       "      <th>retweeted</th>\n",
       "      <th>user_name</th>\n",
       "      <th>user_id</th>\n",
       "      <th>original_id</th>\n",
       "      <th>...</th>\n",
       "      <th>location</th>\n",
       "      <th>followers_count</th>\n",
       "      <th>statuses_count</th>\n",
       "      <th>description</th>\n",
       "      <th>friends_count</th>\n",
       "      <th>favourites_count</th>\n",
       "      <th>created_at_y</th>\n",
       "      <th>id_y</th>\n",
       "      <th>name</th>\n",
       "      <th>verified</th>\n",
       "    </tr>\n",
       "  </thead>\n",
       "  <tbody>\n",
       "    <tr>\n",
       "      <th>0</th>\n",
       "      <td>1025181421961392135</td>\n",
       "      <td>2018-08-03 00:47:52+00:00</td>\n",
       "      <td>0</td>\n",
       "      <td>0</td>\n",
       "      <td>🔹 5 Mitos sobre el aborto que todos debemos sa...</td>\n",
       "      <td>False</td>\n",
       "      <td>False</td>\n",
       "      <td>Revista Digital</td>\n",
       "      <td>2208347839</td>\n",
       "      <td>1025181421961392135</td>\n",
       "      <td>...</td>\n",
       "      <td>España</td>\n",
       "      <td>626</td>\n",
       "      <td>86274</td>\n",
       "      <td>Seleccionamos y publicamos contenidos interesa...</td>\n",
       "      <td>1357</td>\n",
       "      <td>24</td>\n",
       "      <td>2013-11-22 05:02:08+00:00</td>\n",
       "      <td>2208347839</td>\n",
       "      <td>Revista Digital</td>\n",
       "      <td>False</td>\n",
       "    </tr>\n",
       "    <tr>\n",
       "      <th>1</th>\n",
       "      <td>1025181422347268097</td>\n",
       "      <td>2018-08-03 00:47:52+00:00</td>\n",
       "      <td>0</td>\n",
       "      <td>0</td>\n",
       "      <td>RT @antotripelli: Mi mamá hablando con una ami...</td>\n",
       "      <td>False</td>\n",
       "      <td>False</td>\n",
       "      <td>Mimi</td>\n",
       "      <td>878157175</td>\n",
       "      <td>1025181422347268097</td>\n",
       "      <td>...</td>\n",
       "      <td>Argentina</td>\n",
       "      <td>743</td>\n",
       "      <td>25018</td>\n",
       "      <td>TMR  Eragon  THG.lll.   Kevsho</td>\n",
       "      <td>834</td>\n",
       "      <td>8385</td>\n",
       "      <td>2012-10-13 16:07:51+00:00</td>\n",
       "      <td>878157175</td>\n",
       "      <td>Mimi</td>\n",
       "      <td>False</td>\n",
       "    </tr>\n",
       "    <tr>\n",
       "      <th>2</th>\n",
       "      <td>1025181423639113728</td>\n",
       "      <td>2018-08-03 00:47:53+00:00</td>\n",
       "      <td>0</td>\n",
       "      <td>0</td>\n",
       "      <td>El aborto que se perdió tu vieja jajajajajajaj...</td>\n",
       "      <td>False</td>\n",
       "      <td>False</td>\n",
       "      <td>Delfina💚</td>\n",
       "      <td>984930721373573120</td>\n",
       "      <td>1025181423639113728</td>\n",
       "      <td>...</td>\n",
       "      <td>NaN</td>\n",
       "      <td>226</td>\n",
       "      <td>6290</td>\n",
       "      <td>Otra vez te tocó perder hoy te fuiste andá a s...</td>\n",
       "      <td>232</td>\n",
       "      <td>3851</td>\n",
       "      <td>2018-04-13 23:05:57+00:00</td>\n",
       "      <td>984930721373573120</td>\n",
       "      <td>Delfina💚</td>\n",
       "      <td>False</td>\n",
       "    </tr>\n",
       "    <tr>\n",
       "      <th>3</th>\n",
       "      <td>1025181426361221120</td>\n",
       "      <td>2018-08-03 00:47:53+00:00</td>\n",
       "      <td>0</td>\n",
       "      <td>0</td>\n",
       "      <td>RT @cortalabochx: Si se legaliza el aborto los...</td>\n",
       "      <td>False</td>\n",
       "      <td>False</td>\n",
       "      <td>Mr. Drama👑</td>\n",
       "      <td>630668646</td>\n",
       "      <td>1025181426361221120</td>\n",
       "      <td>...</td>\n",
       "      <td>Friendzone</td>\n",
       "      <td>1530</td>\n",
       "      <td>78872</td>\n",
       "      <td>Acuario ♒   [ 9 . 45 ]   Hijx de tigre ∆</td>\n",
       "      <td>545</td>\n",
       "      <td>14748</td>\n",
       "      <td>2012-07-08 22:55:14+00:00</td>\n",
       "      <td>630668646</td>\n",
       "      <td>Mr. Drama👑</td>\n",
       "      <td>False</td>\n",
       "    </tr>\n",
       "  </tbody>\n",
       "</table>\n",
       "<p>4 rows × 21 columns</p>\n",
       "</div>"
      ],
      "text/plain": [
       "                  id_x              created_at_x  favorite_count  \\\n",
       "0  1025181421961392135 2018-08-03 00:47:52+00:00               0   \n",
       "1  1025181422347268097 2018-08-03 00:47:52+00:00               0   \n",
       "2  1025181423639113728 2018-08-03 00:47:53+00:00               0   \n",
       "3  1025181426361221120 2018-08-03 00:47:53+00:00               0   \n",
       "\n",
       "   retweet_count                                               text  \\\n",
       "0              0  🔹 5 Mitos sobre el aborto que todos debemos sa...   \n",
       "1              0  RT @antotripelli: Mi mamá hablando con una ami...   \n",
       "2              0  El aborto que se perdió tu vieja jajajajajajaj...   \n",
       "3              0  RT @cortalabochx: Si se legaliza el aborto los...   \n",
       "\n",
       "   favorited  retweeted        user_name             user_id  \\\n",
       "0      False      False  Revista Digital          2208347839   \n",
       "1      False      False             Mimi           878157175   \n",
       "2      False      False         Delfina💚  984930721373573120   \n",
       "3      False      False       Mr. Drama👑           630668646   \n",
       "\n",
       "           original_id  ...    location followers_count  statuses_count  \\\n",
       "0  1025181421961392135  ...      España             626           86274   \n",
       "1  1025181422347268097  ...  Argentina              743           25018   \n",
       "2  1025181423639113728  ...         NaN             226            6290   \n",
       "3  1025181426361221120  ...  Friendzone            1530           78872   \n",
       "\n",
       "                                         description friends_count  \\\n",
       "0  Seleccionamos y publicamos contenidos interesa...          1357   \n",
       "1                     TMR  Eragon  THG.lll.   Kevsho           834   \n",
       "2  Otra vez te tocó perder hoy te fuiste andá a s...           232   \n",
       "3           Acuario ♒   [ 9 . 45 ]   Hijx de tigre ∆           545   \n",
       "\n",
       "   favourites_count              created_at_y                id_y  \\\n",
       "0                24 2013-11-22 05:02:08+00:00          2208347839   \n",
       "1              8385 2012-10-13 16:07:51+00:00           878157175   \n",
       "2              3851 2018-04-13 23:05:57+00:00  984930721373573120   \n",
       "3             14748 2012-07-08 22:55:14+00:00           630668646   \n",
       "\n",
       "              name verified  \n",
       "0  Revista Digital    False  \n",
       "1             Mimi    False  \n",
       "2         Delfina💚    False  \n",
       "3       Mr. Drama👑    False  \n",
       "\n",
       "[4 rows x 21 columns]"
      ]
     },
     "execution_count": 36,
     "metadata": {},
     "output_type": "execute_result"
    }
   ],
   "source": [
    "#df_users.head(4) #followers_count vs verified\n",
    "#los que tienen cuenta verificada, tienen mas followers? H0\n",
    "df_agosto.head(4)"
   ]
  },
  {
   "cell_type": "markdown",
   "metadata": {},
   "source": [
    "## Verificadas vs No Verificadas"
   ]
  },
  {
   "cell_type": "code",
   "execution_count": 30,
   "metadata": {},
   "outputs": [
    {
     "data": {
      "text/html": [
       "<div>\n",
       "<style scoped>\n",
       "    .dataframe tbody tr th:only-of-type {\n",
       "        vertical-align: middle;\n",
       "    }\n",
       "\n",
       "    .dataframe tbody tr th {\n",
       "        vertical-align: top;\n",
       "    }\n",
       "\n",
       "    .dataframe thead th {\n",
       "        text-align: right;\n",
       "    }\n",
       "</style>\n",
       "<table border=\"1\" class=\"dataframe\">\n",
       "  <thead>\n",
       "    <tr style=\"text-align: right;\">\n",
       "      <th></th>\n",
       "      <th>verified</th>\n",
       "      <th>False</th>\n",
       "      <th>True</th>\n",
       "    </tr>\n",
       "  </thead>\n",
       "  <tbody>\n",
       "    <tr>\n",
       "      <th rowspan=\"8\" valign=\"top\">statuses_count</th>\n",
       "      <th>count</th>\n",
       "      <td>1.036649e+06</td>\n",
       "      <td>4.936000e+03</td>\n",
       "    </tr>\n",
       "    <tr>\n",
       "      <th>mean</th>\n",
       "      <td>2.353457e+04</td>\n",
       "      <td>7.548874e+04</td>\n",
       "    </tr>\n",
       "    <tr>\n",
       "      <th>std</th>\n",
       "      <td>4.563988e+04</td>\n",
       "      <td>8.247659e+04</td>\n",
       "    </tr>\n",
       "    <tr>\n",
       "      <th>min</th>\n",
       "      <td>1.000000e+00</td>\n",
       "      <td>7.900000e+01</td>\n",
       "    </tr>\n",
       "    <tr>\n",
       "      <th>25%</th>\n",
       "      <td>2.233000e+03</td>\n",
       "      <td>1.736075e+04</td>\n",
       "    </tr>\n",
       "    <tr>\n",
       "      <th>50%</th>\n",
       "      <td>9.020000e+03</td>\n",
       "      <td>4.564600e+04</td>\n",
       "    </tr>\n",
       "    <tr>\n",
       "      <th>75%</th>\n",
       "      <td>2.614600e+04</td>\n",
       "      <td>1.303880e+05</td>\n",
       "    </tr>\n",
       "    <tr>\n",
       "      <th>max</th>\n",
       "      <td>1.695897e+06</td>\n",
       "      <td>1.077103e+06</td>\n",
       "    </tr>\n",
       "    <tr>\n",
       "      <th rowspan=\"8\" valign=\"top\">followers_count</th>\n",
       "      <th>count</th>\n",
       "      <td>1.036649e+06</td>\n",
       "      <td>4.936000e+03</td>\n",
       "    </tr>\n",
       "    <tr>\n",
       "      <th>mean</th>\n",
       "      <td>1.471226e+03</td>\n",
       "      <td>2.123265e+05</td>\n",
       "    </tr>\n",
       "    <tr>\n",
       "      <th>std</th>\n",
       "      <td>1.386494e+04</td>\n",
       "      <td>6.121010e+05</td>\n",
       "    </tr>\n",
       "    <tr>\n",
       "      <th>min</th>\n",
       "      <td>0.000000e+00</td>\n",
       "      <td>1.660000e+02</td>\n",
       "    </tr>\n",
       "    <tr>\n",
       "      <th>25%</th>\n",
       "      <td>1.320000e+02</td>\n",
       "      <td>1.351400e+04</td>\n",
       "    </tr>\n",
       "    <tr>\n",
       "      <th>50%</th>\n",
       "      <td>3.820000e+02</td>\n",
       "      <td>3.051600e+04</td>\n",
       "    </tr>\n",
       "    <tr>\n",
       "      <th>75%</th>\n",
       "      <td>9.310000e+02</td>\n",
       "      <td>1.092790e+05</td>\n",
       "    </tr>\n",
       "    <tr>\n",
       "      <th>max</th>\n",
       "      <td>2.333095e+06</td>\n",
       "      <td>1.026598e+07</td>\n",
       "    </tr>\n",
       "    <tr>\n",
       "      <th rowspan=\"8\" valign=\"top\">friends_count</th>\n",
       "      <th>count</th>\n",
       "      <td>1.036649e+06</td>\n",
       "      <td>4.936000e+03</td>\n",
       "    </tr>\n",
       "    <tr>\n",
       "      <th>mean</th>\n",
       "      <td>8.988756e+02</td>\n",
       "      <td>5.182923e+03</td>\n",
       "    </tr>\n",
       "    <tr>\n",
       "      <th>std</th>\n",
       "      <td>2.644527e+03</td>\n",
       "      <td>2.013487e+04</td>\n",
       "    </tr>\n",
       "    <tr>\n",
       "      <th>min</th>\n",
       "      <td>0.000000e+00</td>\n",
       "      <td>0.000000e+00</td>\n",
       "    </tr>\n",
       "    <tr>\n",
       "      <th>25%</th>\n",
       "      <td>2.070000e+02</td>\n",
       "      <td>8.452500e+02</td>\n",
       "    </tr>\n",
       "    <tr>\n",
       "      <th>50%</th>\n",
       "      <td>4.300000e+02</td>\n",
       "      <td>1.188000e+03</td>\n",
       "    </tr>\n",
       "    <tr>\n",
       "      <th>75%</th>\n",
       "      <td>9.070000e+02</td>\n",
       "      <td>2.153000e+03</td>\n",
       "    </tr>\n",
       "    <tr>\n",
       "      <th>max</th>\n",
       "      <td>8.467440e+05</td>\n",
       "      <td>7.416320e+05</td>\n",
       "    </tr>\n",
       "    <tr>\n",
       "      <th rowspan=\"8\" valign=\"top\">favourites_count</th>\n",
       "      <th>count</th>\n",
       "      <td>1.036649e+06</td>\n",
       "      <td>4.936000e+03</td>\n",
       "    </tr>\n",
       "    <tr>\n",
       "      <th>mean</th>\n",
       "      <td>1.366806e+04</td>\n",
       "      <td>2.773804e+04</td>\n",
       "    </tr>\n",
       "    <tr>\n",
       "      <th>std</th>\n",
       "      <td>3.007152e+04</td>\n",
       "      <td>3.450975e+04</td>\n",
       "    </tr>\n",
       "    <tr>\n",
       "      <th>min</th>\n",
       "      <td>0.000000e+00</td>\n",
       "      <td>0.000000e+00</td>\n",
       "    </tr>\n",
       "    <tr>\n",
       "      <th>25%</th>\n",
       "      <td>1.316000e+03</td>\n",
       "      <td>2.609000e+03</td>\n",
       "    </tr>\n",
       "    <tr>\n",
       "      <th>50%</th>\n",
       "      <td>4.927000e+03</td>\n",
       "      <td>1.149950e+04</td>\n",
       "    </tr>\n",
       "    <tr>\n",
       "      <th>75%</th>\n",
       "      <td>1.430400e+04</td>\n",
       "      <td>4.964600e+04</td>\n",
       "    </tr>\n",
       "    <tr>\n",
       "      <th>max</th>\n",
       "      <td>1.084250e+06</td>\n",
       "      <td>6.149670e+05</td>\n",
       "    </tr>\n",
       "  </tbody>\n",
       "</table>\n",
       "</div>"
      ],
      "text/plain": [
       "verified                       False         True \n",
       "statuses_count   count  1.036649e+06  4.936000e+03\n",
       "                 mean   2.353457e+04  7.548874e+04\n",
       "                 std    4.563988e+04  8.247659e+04\n",
       "                 min    1.000000e+00  7.900000e+01\n",
       "                 25%    2.233000e+03  1.736075e+04\n",
       "                 50%    9.020000e+03  4.564600e+04\n",
       "                 75%    2.614600e+04  1.303880e+05\n",
       "                 max    1.695897e+06  1.077103e+06\n",
       "followers_count  count  1.036649e+06  4.936000e+03\n",
       "                 mean   1.471226e+03  2.123265e+05\n",
       "                 std    1.386494e+04  6.121010e+05\n",
       "                 min    0.000000e+00  1.660000e+02\n",
       "                 25%    1.320000e+02  1.351400e+04\n",
       "                 50%    3.820000e+02  3.051600e+04\n",
       "                 75%    9.310000e+02  1.092790e+05\n",
       "                 max    2.333095e+06  1.026598e+07\n",
       "friends_count    count  1.036649e+06  4.936000e+03\n",
       "                 mean   8.988756e+02  5.182923e+03\n",
       "                 std    2.644527e+03  2.013487e+04\n",
       "                 min    0.000000e+00  0.000000e+00\n",
       "                 25%    2.070000e+02  8.452500e+02\n",
       "                 50%    4.300000e+02  1.188000e+03\n",
       "                 75%    9.070000e+02  2.153000e+03\n",
       "                 max    8.467440e+05  7.416320e+05\n",
       "favourites_count count  1.036649e+06  4.936000e+03\n",
       "                 mean   1.366806e+04  2.773804e+04\n",
       "                 std    3.007152e+04  3.450975e+04\n",
       "                 min    0.000000e+00  0.000000e+00\n",
       "                 25%    1.316000e+03  2.609000e+03\n",
       "                 50%    4.927000e+03  1.149950e+04\n",
       "                 75%    1.430400e+04  4.964600e+04\n",
       "                 max    1.084250e+06  6.149670e+05"
      ]
     },
     "execution_count": 30,
     "metadata": {},
     "output_type": "execute_result"
    }
   ],
   "source": [
    "#df_junio.head(4)\n",
    "df_junio.groupby('verified')['statuses_count','followers_count','friends_count','favourites_count'].describe().T"
   ]
  },
  {
   "cell_type": "code",
   "execution_count": 34,
   "metadata": {},
   "outputs": [
    {
     "data": {
      "text/plain": [
       "<matplotlib.axes._subplots.AxesSubplot at 0x7f338143b908>"
      ]
     },
     "execution_count": 34,
     "metadata": {},
     "output_type": "execute_result"
    },
    {
     "data": {
      "image/png": "[encoded data removed]",
      "text/plain": [
       "<Figure size 432x288 with 1 Axes>"
      ]
     },
     "metadata": {
      "needs_background": "light"
     },
     "output_type": "display_data"
    }
   ],
   "source": [
    "df_junio['verified'].groupby(df_junio['verified']).count().plot(kind=\"bar\")"
   ]
  },
  {
   "cell_type": "code",
   "execution_count": 114,
   "metadata": {},
   "outputs": [
    {
     "name": "stderr",
     "output_type": "stream",
     "text": [
      "/opt/conda/lib/python3.7/site-packages/ipykernel_launcher.py:2: SettingWithCopyWarning: \n",
      "A value is trying to be set on a copy of a slice from a DataFrame.\n",
      "Try using .loc[row_indexer,col_indexer] = value instead\n",
      "\n",
      "See the caveats in the documentation: http://pandas.pydata.org/pandas-docs/stable/indexing.html#indexing-view-versus-copy\n",
      "  \n"
     ]
    }
   ],
   "source": [
    "df_temp = df_users_junio[['id','verified']]\n",
    "df_temp['verified_n'] = numpy.where(df_temp['verified']==True, 1, 0) #devuelve SettingWithCopyWarning\n",
    "#df_temp[df_temp.verified_n == 1] "
   ]
  },
  {
   "cell_type": "markdown",
   "metadata": {},
   "source": [
    "Cantidad de tweets por usuario"
   ]
  },
  {
   "cell_type": "code",
   "execution_count": 129,
   "metadata": {},
   "outputs": [],
   "source": [
    "df_temp_tweets = df_tweets_junio[['user_id','retweet_count']].groupby('user_id').count().reset_index(drop=False)"
   ]
  },
  {
   "cell_type": "code",
   "execution_count": 138,
   "metadata": {},
   "outputs": [],
   "source": [
    "df_simple = pd.merge(df_temp,df_temp_tweets,left_on = 'id', right_on = 'user_id')\n",
    "del df_simple['verified']\n",
    "del df_simple['id']\n",
    "df_simple.columns = ['verified', 'user_id', 'tweet_count']"
   ]
  },
  {
   "cell_type": "code",
   "execution_count": 140,
   "metadata": {},
   "outputs": [
    {
     "data": {
      "text/html": [
       "<div>\n",
       "<style scoped>\n",
       "    .dataframe tbody tr th:only-of-type {\n",
       "        vertical-align: middle;\n",
       "    }\n",
       "\n",
       "    .dataframe tbody tr th {\n",
       "        vertical-align: top;\n",
       "    }\n",
       "\n",
       "    .dataframe thead th {\n",
       "        text-align: right;\n",
       "    }\n",
       "</style>\n",
       "<table border=\"1\" class=\"dataframe\">\n",
       "  <thead>\n",
       "    <tr style=\"text-align: right;\">\n",
       "      <th></th>\n",
       "      <th>verified</th>\n",
       "      <th>user_id</th>\n",
       "      <th>tweet_count</th>\n",
       "    </tr>\n",
       "  </thead>\n",
       "  <tbody>\n",
       "    <tr>\n",
       "      <th>0</th>\n",
       "      <td>0</td>\n",
       "      <td>19398656</td>\n",
       "      <td>4</td>\n",
       "    </tr>\n",
       "    <tr>\n",
       "      <th>1</th>\n",
       "      <td>0</td>\n",
       "      <td>791841268879851520</td>\n",
       "      <td>1</td>\n",
       "    </tr>\n",
       "  </tbody>\n",
       "</table>\n",
       "</div>"
      ],
      "text/plain": [
       "   verified             user_id  tweet_count\n",
       "0         0            19398656            4\n",
       "1         0  791841268879851520            1"
      ]
     },
     "execution_count": 140,
     "metadata": {},
     "output_type": "execute_result"
    }
   ],
   "source": [
    "df_simple.head(2)"
   ]
  },
  {
   "cell_type": "code",
   "execution_count": 144,
   "metadata": {},
   "outputs": [
    {
     "data": {
      "text/plain": [
       "4"
      ]
     },
     "execution_count": 144,
     "metadata": {},
     "output_type": "execute_result"
    }
   ],
   "source": [
    "df_tweets_junio[df_tweets_junio.user_id == 19398656]['id'].count()"
   ]
  },
  {
   "cell_type": "code",
   "execution_count": 145,
   "metadata": {},
   "outputs": [
    {
     "data": {
      "text/html": [
       "<div>\n",
       "<style scoped>\n",
       "    .dataframe tbody tr th:only-of-type {\n",
       "        vertical-align: middle;\n",
       "    }\n",
       "\n",
       "    .dataframe tbody tr th {\n",
       "        vertical-align: top;\n",
       "    }\n",
       "\n",
       "    .dataframe thead th {\n",
       "        text-align: right;\n",
       "    }\n",
       "</style>\n",
       "<table border=\"1\" class=\"dataframe\">\n",
       "  <thead>\n",
       "    <tr style=\"text-align: right;\">\n",
       "      <th></th>\n",
       "      <th>verified</th>\n",
       "      <th>user_id</th>\n",
       "      <th>tweet_count</th>\n",
       "    </tr>\n",
       "  </thead>\n",
       "  <tbody>\n",
       "    <tr>\n",
       "      <th>count</th>\n",
       "      <td>329782.000000</td>\n",
       "      <td>3.297820e+05</td>\n",
       "      <td>329782.000000</td>\n",
       "    </tr>\n",
       "    <tr>\n",
       "      <th>mean</th>\n",
       "      <td>0.002220</td>\n",
       "      <td>2.015184e+17</td>\n",
       "      <td>3.158405</td>\n",
       "    </tr>\n",
       "    <tr>\n",
       "      <th>std</th>\n",
       "      <td>0.047061</td>\n",
       "      <td>3.714398e+17</td>\n",
       "      <td>8.758616</td>\n",
       "    </tr>\n",
       "    <tr>\n",
       "      <th>min</th>\n",
       "      <td>0.000000</td>\n",
       "      <td>3.971000e+03</td>\n",
       "      <td>1.000000</td>\n",
       "    </tr>\n",
       "    <tr>\n",
       "      <th>25%</th>\n",
       "      <td>0.000000</td>\n",
       "      <td>3.075110e+08</td>\n",
       "      <td>1.000000</td>\n",
       "    </tr>\n",
       "    <tr>\n",
       "      <th>50%</th>\n",
       "      <td>0.000000</td>\n",
       "      <td>1.364068e+09</td>\n",
       "      <td>1.000000</td>\n",
       "    </tr>\n",
       "    <tr>\n",
       "      <th>75%</th>\n",
       "      <td>0.000000</td>\n",
       "      <td>4.364369e+09</td>\n",
       "      <td>3.000000</td>\n",
       "    </tr>\n",
       "    <tr>\n",
       "      <th>max</th>\n",
       "      <td>1.000000</td>\n",
       "      <td>1.008494e+18</td>\n",
       "      <td>726.000000</td>\n",
       "    </tr>\n",
       "  </tbody>\n",
       "</table>\n",
       "</div>"
      ],
      "text/plain": [
       "            verified       user_id    tweet_count\n",
       "count  329782.000000  3.297820e+05  329782.000000\n",
       "mean        0.002220  2.015184e+17       3.158405\n",
       "std         0.047061  3.714398e+17       8.758616\n",
       "min         0.000000  3.971000e+03       1.000000\n",
       "25%         0.000000  3.075110e+08       1.000000\n",
       "50%         0.000000  1.364068e+09       1.000000\n",
       "75%         0.000000  4.364369e+09       3.000000\n",
       "max         1.000000  1.008494e+18     726.000000"
      ]
     },
     "execution_count": 145,
     "metadata": {},
     "output_type": "execute_result"
    }
   ],
   "source": [
    "df_simple"
   ]
  },
  {
   "cell_type": "code",
   "execution_count": 157,
   "metadata": {},
   "outputs": [
    {
     "data": {
      "text/plain": [
       "verified\n",
       "0    3.150430\n",
       "1    6.743169\n",
       "Name: tweet_count, dtype: float64"
      ]
     },
     "execution_count": 157,
     "metadata": {},
     "output_type": "execute_result"
    }
   ],
   "source": [
    "df_simple.groupby('verified').tweet_count.mean()"
   ]
  },
  {
   "cell_type": "code",
   "execution_count": 158,
   "metadata": {},
   "outputs": [
    {
     "data": {
      "text/plain": [
       "<matplotlib.axes._subplots.AxesSubplot at 0x7f33750c2d30>"
      ]
     },
     "execution_count": 158,
     "metadata": {},
     "output_type": "execute_result"
    },
    {
     "data": {
      "image/png": "[encoded data removed]",
      "text/plain": [
       "<Figure size 432x288 with 1 Axes>"
      ]
     },
     "metadata": {
      "needs_background": "light"
     },
     "output_type": "display_data"
    }
   ],
   "source": [
    "df_simple.groupby('verified').tweet_count.mean().plot(kind=\"bar\")"
   ]
  },
  {
   "cell_type": "code",
   "execution_count": 162,
   "metadata": {},
   "outputs": [
    {
     "data": {
      "text/plain": [
       "<matplotlib.axes._subplots.AxesSubplot at 0x7f33750c2358>"
      ]
     },
     "execution_count": 162,
     "metadata": {},
     "output_type": "execute_result"
    },
    {
     "data": {
      "image/png": "[encoded data removed]",
      "text/plain": [
       "<Figure size 432x288 with 1 Axes>"
      ]
     },
     "metadata": {
      "needs_background": "light"
     },
     "output_type": "display_data"
    }
   ],
   "source": [
    "df_users.groupby('verified').followers_count.mean().plot(kind=\"bar\")"
   ]
  },
  {
   "cell_type": "code",
   "execution_count": 163,
   "metadata": {},
   "outputs": [
    {
     "data": {
      "text/plain": [
       "verified\n",
       "False      1143.920956\n",
       "True     316524.712538\n",
       "Name: followers_count, dtype: float64"
      ]
     },
     "execution_count": 163,
     "metadata": {},
     "output_type": "execute_result"
    }
   ],
   "source": [
    "df_users.groupby('verified').followers_count.mean()"
   ]
  },
  {
   "cell_type": "code",
   "execution_count": 166,
   "metadata": {},
   "outputs": [
    {
     "data": {
      "text/plain": [
       "Buenos Aires, Argentina                       17446\n",
       "Argentina                                     17174\n",
       "Córdoba, Argentina                             5306\n",
       "Ciudad Autónoma de Buenos Aire                 4852\n",
       "Buenos Aires                                   4157\n",
       "Rosario, Argentina                             3319\n",
       "La Plata, Argentina                            2552\n",
       "Mendoza, Argentina                             2195\n",
       "México                                         1610\n",
       "argentina                                      1581\n",
       "Santa Fe, Argentina                            1532\n",
       "Montevideo, Uruguay                            1414\n",
       "Mar del Plata, Argentina                       1209\n",
       "Tucumán, Argentina                             1177\n",
       "Chile                                          1122\n",
       "Neuquén, Argentina                             1079\n",
       "Ciudad Autónoma de Buenos Aires, Argentina     1053\n",
       "Paraguay                                        990\n",
       "Rosario                                         981\n",
       "Salta, Argentina                                970\n",
       "Corrientes, Argentina                           967\n",
       "Santiago, Chile                                 964\n",
       "Uruguay                                         942\n",
       "La Plata                                        835\n",
       "Entre Ríos, Argentina                           807\n",
       "Argentina                                       766\n",
       "Quilmes, Argentina                              737\n",
       "Venezuela                                       718\n",
       "Asuncion, Paraguay                              715\n",
       "San Juan, Argentina                             657\n",
       "                                              ...  \n",
       "@hipshawty                                        1\n",
       "Mexico, Cordoba Veracruz                          1\n",
       "Friuli-Venezia Giulia, Italia                     1\n",
       "En El Mejor País De Chile                         1\n",
       "Grutly Sur Santa Fe                               1\n",
       "Rosario - Playa del Carmen                        1\n",
       "Milagro-Ecuador                                   1\n",
       "San Carlos Centro                                 1\n",
       "San Nicolás De Los Arroyos                        1\n",
       "Puerto Ordaz, Venezuela.                          1\n",
       "Praia do Rosa                                     1\n",
       "En Tu corazón :3 ahr                              1\n",
       "Blanes, Espanya                                   1\n",
       "Tame, Arauca                                      1\n",
       "ARGENTINA.RECONQUISTA-SANTA FE                    1\n",
       "Rauch ✺                                           1\n",
       "Ituzaingo (Corrientes)                            1\n",
       "MENDOZA , SAN RAFAEL                              1\n",
       "Ni idea.                                          1\n",
       "Río Negro Patagonia Argentina                     1\n",
       "Coyhaique-Chile                                   1\n",
       "|ᶠᵃᶰ ᵃᶜᶜᵒᵘᶰᵗ/🇦🇷/ᵖᵃᶻ ʸ ᵃᶰᶤᵐᵉ|                      1\n",
       "Donde pinte plaguiarla                            1\n",
       "Beltran Santa Fe Argentina                        1\n",
       "Sanfa Te.                                         1\n",
       "Planet Earth, but also Argentina                  1\n",
       "amorporlospericos                                 1\n",
       "santa Lucia                                       1\n",
       "hockey pincha                                     1\n",
       "Selva SE                                          1\n",
       "Name: location, Length: 73528, dtype: int64"
      ]
     },
     "execution_count": 166,
     "metadata": {},
     "output_type": "execute_result"
    }
   ],
   "source": [
    "df_users.location.value_counts() "
   ]
  },
  {
   "cell_type": "code",
   "execution_count": null,
   "metadata": {},
   "outputs": [],
   "source": []
  }
 ],
 "metadata": {
  "kernelspec": {
   "display_name": "Python 3",
   "language": "python",
   "name": "python3"
  },
  "language_info": {
   "codemirror_mode": {
    "name": "ipython",
    "version": 3
   },
   "file_extension": ".py",
   "mimetype": "text/x-python",
   "name": "python",
   "nbconvert_exporter": "python",
   "pygments_lexer": "ipython3",
   "version": "3.7.3"
  }
 },
 "nbformat": 4,
 "nbformat_minor": 2
}
