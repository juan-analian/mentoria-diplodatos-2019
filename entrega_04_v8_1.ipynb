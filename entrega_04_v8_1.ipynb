{
 "cells": [
  {
   "cell_type": "markdown",
   "metadata": {},
   "source": [
    "# Laboratorio 4: Aprendizaje Supervisado\n",
    "\n",
    "> **Análisis de las Posiciones del Aborto en Twitter**\n",
    "> *Diplomatura en Ciencias de Datos, Aprendizaje Automático y sus aplicaciones.*\n",
    "> *Integrantes: \n",
    "    - Carlos Piaggio\n",
    "    - Juan Pablo Analian\n",
    "    \n",
    "- [Notebook 1](entrega_04_v7.ipynb)\n",
    "- [Notebook 3](entrega_04_v9.ipynb)\n",
    "    \n",
    "## Parte 2/3 (probando modelos del TP3)    "
   ]
  },
  {
   "cell_type": "code",
   "execution_count": 1,
   "metadata": {},
   "outputs": [],
   "source": [
    "from collections import Counter\n",
    "import numpy as np\n",
    "import pandas as pd\n",
    "import matplotlib.pyplot as plt\n",
    "import seaborn as sns\n",
    "\n",
    "#from sklearn.metrics import mean_squared_error, accuracy_score, classification_report, confusion_matrix, precision_score, recall_score, f1_score\n",
    "from sklearn.model_selection import train_test_split\n",
    "from ml.visualization import plot_confusion_matrix, plot_learning_curve, classifier_boundary\n",
    "\n",
    " \n",
    "from sklearn import tree\n",
    "from sklearn import datasets\n",
    "from sklearn import model_selection\n",
    "from sklearn import metrics\n",
    "from sklearn.metrics import accuracy_score, classification_report, confusion_matrix, roc_curve, auc\n",
    "from sklearn.feature_extraction.text import CountVectorizer\n",
    "\n",
    "import sklearn.linear_model\n",
    "from sklearn.linear_model import SGDClassifier,Perceptron\n",
    "from sklearn.linear_model import LogisticRegression\n",
    "\n",
    "from sklearn.naive_bayes import GaussianNB, MultinomialNB\n",
    "from sklearn.neighbors import KNeighborsClassifier\n",
    "from sklearn.ensemble import RandomForestClassifier\n",
    "\n",
    "import warnings\n",
    "warnings.simplefilter(action='ignore', category=FutureWarning)\n",
    "\n"
   ]
  },
  {
   "cell_type": "markdown",
   "metadata": {},
   "source": [
    "## 1. Cargamos dataset que hemos limpiado en la notebook anterior\n"
   ]
  },
  {
   "cell_type": "code",
   "execution_count": 2,
   "metadata": {},
   "outputs": [],
   "source": [
    "df_full = pd.read_csv('./out/df_text_junio.csv')"
   ]
  },
  {
   "cell_type": "code",
   "execution_count": 3,
   "metadata": {},
   "outputs": [
    {
     "data": {
      "text/plain": [
       "1    780325\n",
       "0    260839\n",
       "Name: codigo_posicion, dtype: int64"
      ]
     },
     "execution_count": 3,
     "metadata": {},
     "output_type": "execute_result"
    }
   ],
   "source": [
    "df_full.codigo_posicion.value_counts()"
   ]
  },
  {
   "cell_type": "markdown",
   "metadata": {},
   "source": [
    "## 2. Quitamos los textos duplicados (originados por los RT)"
   ]
  },
  {
   "cell_type": "code",
   "execution_count": 4,
   "metadata": {},
   "outputs": [],
   "source": [
    "df = df_full.drop_duplicates(subset='text', keep=\"first\")"
   ]
  },
  {
   "cell_type": "code",
   "execution_count": 5,
   "metadata": {},
   "outputs": [
    {
     "data": {
      "text/plain": [
       "1    145147\n",
       "0     60771\n",
       "Name: codigo_posicion, dtype: int64"
      ]
     },
     "execution_count": 5,
     "metadata": {},
     "output_type": "execute_result"
    }
   ],
   "source": [
    " df.codigo_posicion.value_counts()"
   ]
  },
  {
   "cell_type": "code",
   "execution_count": 6,
   "metadata": {},
   "outputs": [
    {
     "data": {
      "text/html": [
       "<div>\n",
       "<style scoped>\n",
       "    .dataframe tbody tr th:only-of-type {\n",
       "        vertical-align: middle;\n",
       "    }\n",
       "\n",
       "    .dataframe tbody tr th {\n",
       "        vertical-align: top;\n",
       "    }\n",
       "\n",
       "    .dataframe thead th {\n",
       "        text-align: right;\n",
       "    }\n",
       "</style>\n",
       "<table border=\"1\" class=\"dataframe\">\n",
       "  <thead>\n",
       "    <tr style=\"text-align: right;\">\n",
       "      <th></th>\n",
       "      <th>codigo_posicion</th>\n",
       "      <th>text</th>\n",
       "    </tr>\n",
       "  </thead>\n",
       "  <tbody>\n",
       "    <tr>\n",
       "      <td>0</td>\n",
       "      <td>1</td>\n",
       "      <td>contamos ventaja decision conviccion fuerza lucha</td>\n",
       "    </tr>\n",
       "    <tr>\n",
       "      <td>1</td>\n",
       "      <td>1</td>\n",
       "      <td>excelentes reflexiones medica ginecologa catol...</td>\n",
       "    </tr>\n",
       "    <tr>\n",
       "      <td>2</td>\n",
       "      <td>1</td>\n",
       "      <td>fondo jode libertad</td>\n",
       "    </tr>\n",
       "    <tr>\n",
       "      <td>3</td>\n",
       "      <td>1</td>\n",
       "      <td>holla gustaria q ayuden junta d firmas seguro ...</td>\n",
       "    </tr>\n",
       "    <tr>\n",
       "      <td>4</td>\n",
       "      <td>1</td>\n",
       "      <td>vos decis pido escuches intentes abrir mente e...</td>\n",
       "    </tr>\n",
       "    <tr>\n",
       "      <td>5</td>\n",
       "      <td>1</td>\n",
       "      <td>debate argumentos gano goleada legalizacion bi...</td>\n",
       "    </tr>\n",
       "    <tr>\n",
       "      <td>6</td>\n",
       "      <td>1</td>\n",
       "      <td>dueñas nuestrxs cuerpas</td>\n",
       "    </tr>\n",
       "    <tr>\n",
       "      <td>7</td>\n",
       "      <td>1</td>\n",
       "      <td>diputadxs significa ustedes mujer muerta credi</td>\n",
       "    </tr>\n",
       "    <tr>\n",
       "      <td>8</td>\n",
       "      <td>1</td>\n",
       "      <td>coincidamos tema cambia respeto admiracion</td>\n",
       "    </tr>\n",
       "    <tr>\n",
       "      <td>9</td>\n",
       "      <td>1</td>\n",
       "      <td>tan mitad tener postura definida tema entiendo...</td>\n",
       "    </tr>\n",
       "  </tbody>\n",
       "</table>\n",
       "</div>"
      ],
      "text/plain": [
       "   codigo_posicion                                               text\n",
       "0                1  contamos ventaja decision conviccion fuerza lucha\n",
       "1                1  excelentes reflexiones medica ginecologa catol...\n",
       "2                1                                fondo jode libertad\n",
       "3                1  holla gustaria q ayuden junta d firmas seguro ...\n",
       "4                1  vos decis pido escuches intentes abrir mente e...\n",
       "5                1  debate argumentos gano goleada legalizacion bi...\n",
       "6                1                            dueñas nuestrxs cuerpas\n",
       "7                1     diputadxs significa ustedes mujer muerta credi\n",
       "8                1         coincidamos tema cambia respeto admiracion\n",
       "9                1  tan mitad tener postura definida tema entiendo..."
      ]
     },
     "execution_count": 6,
     "metadata": {},
     "output_type": "execute_result"
    }
   ],
   "source": [
    " df.head(10)"
   ]
  },
  {
   "cell_type": "markdown",
   "metadata": {},
   "source": [
    "#### Metodos auxiliares"
   ]
  },
  {
   "cell_type": "code",
   "execution_count": 7,
   "metadata": {},
   "outputs": [],
   "source": [
    "import matplotlib.pyplot as plt\n",
    "import seaborn as sns\n",
    "from sklearn.metrics import accuracy_score, classification_report \n",
    "\n",
    "LABELS = ['a favor','en contra']\n",
    "\n",
    "def mostrar_resultados(y_test, y_pred):    \n",
    "    print (\"Accuracy score:  %.2f\" % accuracy_score(y_test, y_pred))\n",
    "    print (\"=============================\")\n",
    "    print (classification_report(y_test, y_pred, labels=[1,0], target_names=LABELS))"
   ]
  },
  {
   "cell_type": "code",
   "execution_count": 23,
   "metadata": {},
   "outputs": [],
   "source": [
    "def mostrar_mc(y_test, y_pred):\n",
    "    conf_matrix = confusion_matrix(y_test, y_pred, labels=[0,1])  #, labels=[1,0]\n",
    "    plt.figure(figsize=(5, 5))\n",
    "    sns.heatmap(conf_matrix,  annot=True, fmt=\"d\"); #xticklabels=[1,0], yticklabels=[1,0],\n",
    "    plt.title(\"Confusion matrix\")\n",
    "    plt.ylabel('True class')\n",
    "    plt.xlabel('Predicted class')\n",
    "    plt.show()\n",
    "    "
   ]
  },
  {
   "cell_type": "markdown",
   "metadata": {},
   "source": [
    "## 3 Bag of Words (CountVectorizer)\n",
    "Iniciaremos la vectorizacion de los tokens presentes en este data set reducido (ya habiendo quitado duplicados)"
   ]
  },
  {
   "cell_type": "code",
   "execution_count": 8,
   "metadata": {},
   "outputs": [
    {
     "data": {
      "text/plain": [
       "CountVectorizer(analyzer='word', binary=False, decode_error='strict',\n",
       "                dtype=<class 'numpy.int64'>, encoding='utf-8', input='content',\n",
       "                lowercase=True, max_df=1.0, max_features=6250, min_df=1,\n",
       "                ngram_range=(1, 1), preprocessor=None, stop_words=None,\n",
       "                strip_accents=None, token_pattern='(?u)\\\\b\\\\w\\\\w+\\\\b',\n",
       "                tokenizer=None, vocabulary=None)"
      ]
     },
     "execution_count": 8,
     "metadata": {},
     "output_type": "execute_result"
    }
   ],
   "source": [
    "vectorizer = CountVectorizer(analyzer = \"word\",  tokenizer = None, preprocessor = None, stop_words = None, max_features = 6250) \n",
    "vectorizer.fit(df.text)"
   ]
  },
  {
   "cell_type": "code",
   "execution_count": 9,
   "metadata": {},
   "outputs": [],
   "source": [
    "vector = vectorizer.transform(df.text)"
   ]
  },
  {
   "cell_type": "code",
   "execution_count": 10,
   "metadata": {},
   "outputs": [
    {
     "name": "stdout",
     "output_type": "stream",
     "text": [
      "(205918, 6250)\n",
      "<class 'scipy.sparse.csr.csr_matrix'>\n",
      "[[0 0 0 ... 0 0 0]\n",
      " [0 0 0 ... 0 0 0]\n",
      " [0 0 0 ... 0 0 0]\n",
      " ...\n",
      " [0 0 0 ... 0 0 0]\n",
      " [0 0 0 ... 0 0 0]\n",
      " [0 0 0 ... 0 0 0]]\n"
     ]
    }
   ],
   "source": [
    "print(vector.shape)\n",
    "print(type(vector))\n",
    "print(vector.toarray()[0:10])"
   ]
  },
  {
   "cell_type": "code",
   "execution_count": 11,
   "metadata": {},
   "outputs": [],
   "source": [
    "b = pd.DataFrame(vector.toarray(), columns=vectorizer.get_feature_names(), index= df.index)\n",
    "df = df.join(b)"
   ]
  },
  {
   "cell_type": "code",
   "execution_count": 12,
   "metadata": {},
   "outputs": [
    {
     "data": {
      "text/html": [
       "<div>\n",
       "<style scoped>\n",
       "    .dataframe tbody tr th:only-of-type {\n",
       "        vertical-align: middle;\n",
       "    }\n",
       "\n",
       "    .dataframe tbody tr th {\n",
       "        vertical-align: top;\n",
       "    }\n",
       "\n",
       "    .dataframe thead th {\n",
       "        text-align: right;\n",
       "    }\n",
       "</style>\n",
       "<table border=\"1\" class=\"dataframe\">\n",
       "  <thead>\n",
       "    <tr style=\"text-align: right;\">\n",
       "      <th></th>\n",
       "      <th>codigo_posicion</th>\n",
       "      <th>text</th>\n",
       "      <th>00</th>\n",
       "      <th>000</th>\n",
       "      <th>06</th>\n",
       "      <th>10</th>\n",
       "      <th>100</th>\n",
       "      <th>1000</th>\n",
       "      <th>100000</th>\n",
       "      <th>11</th>\n",
       "      <th>...</th>\n",
       "      <th>youtube</th>\n",
       "      <th>yovoy</th>\n",
       "      <th>yrigoyen</th>\n",
       "      <th>yrurtia</th>\n",
       "      <th>yuta</th>\n",
       "      <th>zapatos</th>\n",
       "      <th>zona</th>\n",
       "      <th>zurdo</th>\n",
       "      <th>zurdos</th>\n",
       "      <th>zylberberg</th>\n",
       "    </tr>\n",
       "  </thead>\n",
       "  <tbody>\n",
       "    <tr>\n",
       "      <td>0</td>\n",
       "      <td>1</td>\n",
       "      <td>contamos ventaja decision conviccion fuerza lucha</td>\n",
       "      <td>0</td>\n",
       "      <td>0</td>\n",
       "      <td>0</td>\n",
       "      <td>0</td>\n",
       "      <td>0</td>\n",
       "      <td>0</td>\n",
       "      <td>0</td>\n",
       "      <td>0</td>\n",
       "      <td>...</td>\n",
       "      <td>0</td>\n",
       "      <td>0</td>\n",
       "      <td>0</td>\n",
       "      <td>0</td>\n",
       "      <td>0</td>\n",
       "      <td>0</td>\n",
       "      <td>0</td>\n",
       "      <td>0</td>\n",
       "      <td>0</td>\n",
       "      <td>0</td>\n",
       "    </tr>\n",
       "    <tr>\n",
       "      <td>1</td>\n",
       "      <td>1</td>\n",
       "      <td>excelentes reflexiones medica ginecologa catol...</td>\n",
       "      <td>0</td>\n",
       "      <td>0</td>\n",
       "      <td>0</td>\n",
       "      <td>0</td>\n",
       "      <td>0</td>\n",
       "      <td>0</td>\n",
       "      <td>0</td>\n",
       "      <td>0</td>\n",
       "      <td>...</td>\n",
       "      <td>0</td>\n",
       "      <td>0</td>\n",
       "      <td>0</td>\n",
       "      <td>0</td>\n",
       "      <td>0</td>\n",
       "      <td>0</td>\n",
       "      <td>0</td>\n",
       "      <td>0</td>\n",
       "      <td>0</td>\n",
       "      <td>0</td>\n",
       "    </tr>\n",
       "    <tr>\n",
       "      <td>2</td>\n",
       "      <td>1</td>\n",
       "      <td>fondo jode libertad</td>\n",
       "      <td>0</td>\n",
       "      <td>0</td>\n",
       "      <td>0</td>\n",
       "      <td>0</td>\n",
       "      <td>0</td>\n",
       "      <td>0</td>\n",
       "      <td>0</td>\n",
       "      <td>0</td>\n",
       "      <td>...</td>\n",
       "      <td>0</td>\n",
       "      <td>0</td>\n",
       "      <td>0</td>\n",
       "      <td>0</td>\n",
       "      <td>0</td>\n",
       "      <td>0</td>\n",
       "      <td>0</td>\n",
       "      <td>0</td>\n",
       "      <td>0</td>\n",
       "      <td>0</td>\n",
       "    </tr>\n",
       "  </tbody>\n",
       "</table>\n",
       "<p>3 rows × 6252 columns</p>\n",
       "</div>"
      ],
      "text/plain": [
       "   codigo_posicion                                               text  00  \\\n",
       "0                1  contamos ventaja decision conviccion fuerza lucha   0   \n",
       "1                1  excelentes reflexiones medica ginecologa catol...   0   \n",
       "2                1                                fondo jode libertad   0   \n",
       "\n",
       "   000  06  10  100  1000  100000  11  ...  youtube  yovoy  yrigoyen  yrurtia  \\\n",
       "0    0   0   0    0     0       0   0  ...        0      0         0        0   \n",
       "1    0   0   0    0     0       0   0  ...        0      0         0        0   \n",
       "2    0   0   0    0     0       0   0  ...        0      0         0        0   \n",
       "\n",
       "   yuta  zapatos  zona  zurdo  zurdos  zylberberg  \n",
       "0     0        0     0      0       0           0  \n",
       "1     0        0     0      0       0           0  \n",
       "2     0        0     0      0       0           0  \n",
       "\n",
       "[3 rows x 6252 columns]"
      ]
     },
     "execution_count": 12,
     "metadata": {},
     "output_type": "execute_result"
    }
   ],
   "source": [
    "df.head(3)"
   ]
  },
  {
   "cell_type": "code",
   "execution_count": 13,
   "metadata": {},
   "outputs": [],
   "source": [
    "df1 = df.drop(columns=['text'])"
   ]
  },
  {
   "cell_type": "markdown",
   "metadata": {},
   "source": [
    "## 3. Train - Test Split"
   ]
  },
  {
   "cell_type": "code",
   "execution_count": 16,
   "metadata": {},
   "outputs": [
    {
     "name": "stdout",
     "output_type": "stream",
     "text": [
      "X_train (164734, 6250)\n",
      "X_test (41184, 6250)\n",
      "y_train (164734,)\n",
      "y_test (41184,)\n"
     ]
    }
   ],
   "source": [
    "y = df1['codigo_posicion'].values\n",
    "X_train, X_test, y_train, y_test = train_test_split(vector, y, test_size=0.2, random_state=42)\n",
    "\n",
    "print(\"X_train\",X_train.shape)\n",
    "print(\"X_test\", X_test.shape)\n",
    "print(\"y_train\", y_train.shape)\n",
    "print(\"y_test\", y_test.shape)"
   ]
  },
  {
   "cell_type": "markdown",
   "metadata": {},
   "source": [
    "## 4. Clasificador SDG\n"
   ]
  },
  {
   "cell_type": "code",
   "execution_count": 17,
   "metadata": {},
   "outputs": [
    {
     "name": "stdout",
     "output_type": "stream",
     "text": [
      "Accuracy score:  0.73\n",
      "=============================\n",
      "              precision    recall  f1-score   support\n",
      "\n",
      "     a favor       0.73      0.99      0.84     28979\n",
      "   en contra       0.84      0.11      0.20     12205\n",
      "\n",
      "    accuracy                           0.73     41184\n",
      "   macro avg       0.78      0.55      0.52     41184\n",
      "weighted avg       0.76      0.73      0.65     41184\n",
      "\n"
     ]
    }
   ],
   "source": [
    "model_sdg =SGDClassifier (loss='log', penalty='l2', alpha=0.01, \n",
    "                          learning_rate='optimal', eta0 = 0.1, tol=1e-3,  \n",
    "                          max_iter= 1000, random_state=42, n_jobs = 5)\n",
    "\n",
    "model_sdg.fit(X_train, y_train)\n",
    "y_pred = model_sdg.predict(X_test)\n",
    "\n",
    "mostrar_resultados(y_test, y_pred)"
   ]
  },
  {
   "cell_type": "markdown",
   "metadata": {},
   "source": [
    "> En el TP3, había obtenido un accuray del *82%* sobre el set de validacion (test) y aca hemos obtenido *75%*."
   ]
  },
  {
   "cell_type": "markdown",
   "metadata": {},
   "source": [
    "## 5. KNN (Nearest Neighbors)\n",
    "\n",
    "Si bien estamos ante un problema de clasificacion binaria, queremos realizar una prueba con el algoritmo KNN el cual está mas orientado a clasificacion multiclase. "
   ]
  },
  {
   "cell_type": "code",
   "execution_count": 18,
   "metadata": {},
   "outputs": [
    {
     "name": "stdout",
     "output_type": "stream",
     "text": [
      "Accuracy score:  0.76\n",
      "=============================\n",
      "              precision    recall  f1-score   support\n",
      "\n",
      "     a favor       0.82      0.85      0.83     28979\n",
      "   en contra       0.60      0.56      0.58     12205\n",
      "\n",
      "    accuracy                           0.76     41184\n",
      "   macro avg       0.71      0.70      0.71     41184\n",
      "weighted avg       0.76      0.76      0.76     41184\n",
      "\n"
     ]
    }
   ],
   "source": [
    "model_k = KNeighborsClassifier(n_neighbors=3, n_jobs = 5)\n",
    "model_k.fit(X_train, y_train)\n",
    "y_pred = model_k.predict(X_test)\n",
    "\n",
    "mostrar_resultados(y_test, y_pred)"
   ]
  },
  {
   "cell_type": "code",
   "execution_count": 24,
   "metadata": {},
   "outputs": [
    {
     "data": {
      "image/png": "[encoded data removed]",
      "text/plain": [
       "<Figure size 360x360 with 2 Axes>"
      ]
     },
     "metadata": {
      "needs_background": "light"
     },
     "output_type": "display_data"
    }
   ],
   "source": [
    "mostrar_mc(y_test, y_pred)"
   ]
  },
  {
   "cell_type": "markdown",
   "metadata": {},
   "source": [
    "## 6. Regresion Logistica"
   ]
  },
  {
   "cell_type": "code",
   "execution_count": 25,
   "metadata": {},
   "outputs": [
    {
     "name": "stderr",
     "output_type": "stream",
     "text": [
      "/users/jpanalian/miniconda3/envs/deeplearning/lib/python3.7/site-packages/sklearn/linear_model/logistic.py:1544: UserWarning: 'n_jobs' > 1 does not have any effect when 'solver' is set to 'liblinear'. Got 'n_jobs' = 5.\n",
      "  \" = {}.\".format(effective_n_jobs(self.n_jobs)))\n"
     ]
    },
    {
     "name": "stdout",
     "output_type": "stream",
     "text": [
      "Accuracy score:  0.82\n",
      "=============================\n",
      "              precision    recall  f1-score   support\n",
      "\n",
      "     a favor       0.84      0.92      0.88     28979\n",
      "   en contra       0.76      0.58      0.66     12205\n",
      "\n",
      "    accuracy                           0.82     41184\n",
      "   macro avg       0.80      0.75      0.77     41184\n",
      "weighted avg       0.82      0.82      0.81     41184\n",
      "\n"
     ]
    },
    {
     "data": {
      "image/png": "[encoded data removed]",
      "text/plain": [
       "<Figure size 360x360 with 2 Axes>"
      ]
     },
     "metadata": {
      "needs_background": "light"
     },
     "output_type": "display_data"
    }
   ],
   "source": [
    "model_l = LogisticRegression(random_state=42, solver='liblinear', multi_class='ovr' , n_jobs = 5)\n",
    "model_l.fit(X_train, y_train)\n",
    "y_pred = model_l.predict(X_test)\n",
    "\n",
    "mostrar_resultados(y_test, y_pred)\n",
    "mostrar_mc(y_test, y_pred)"
   ]
  },
  {
   "cell_type": "markdown",
   "metadata": {},
   "source": [
    "## 7. Arboles de desicion"
   ]
  },
  {
   "cell_type": "code",
   "execution_count": 26,
   "metadata": {},
   "outputs": [
    {
     "name": "stdout",
     "output_type": "stream",
     "text": [
      "Accuracy score:  0.72\n",
      "=============================\n",
      "              precision    recall  f1-score   support\n",
      "\n",
      "     a favor       0.72      0.99      0.83     28979\n",
      "   en contra       0.81      0.07      0.12     12205\n",
      "\n",
      "    accuracy                           0.72     41184\n",
      "   macro avg       0.76      0.53      0.48     41184\n",
      "weighted avg       0.74      0.72      0.62     41184\n",
      "\n"
     ]
    },
    {
     "data": {
      "image/png": "[encoded data removed]",
      "text/plain": [
       "<Figure size 360x360 with 2 Axes>"
      ]
     },
     "metadata": {
      "needs_background": "light"
     },
     "output_type": "display_data"
    }
   ],
   "source": [
    "model_t = tree.DecisionTreeClassifier(max_depth=2, random_state=42 )\n",
    "model_t.fit(X_train, y_train)\n",
    "y_pred = model_t.predict(X_test)\n",
    "\n",
    "mostrar_resultados(y_test,y_pred )\n",
    "mostrar_mc(y_test, y_pred)"
   ]
  },
  {
   "cell_type": "markdown",
   "metadata": {},
   "source": [
    "## 8 RandomForest"
   ]
  },
  {
   "cell_type": "code",
   "execution_count": 27,
   "metadata": {},
   "outputs": [
    {
     "name": "stdout",
     "output_type": "stream",
     "text": [
      "Accuracy score:  0.72\n",
      "=============================\n",
      "              precision    recall  f1-score   support\n",
      "\n",
      "     a favor       0.72      1.00      0.83     28979\n",
      "   en contra       0.93      0.07      0.12     12205\n",
      "\n",
      "    accuracy                           0.72     41184\n",
      "   macro avg       0.82      0.53      0.48     41184\n",
      "weighted avg       0.78      0.72      0.62     41184\n",
      "\n"
     ]
    },
    {
     "data": {
      "image/png": "[encoded data removed]",
      "text/plain": [
       "<Figure size 360x360 with 2 Axes>"
      ]
     },
     "metadata": {
      "needs_background": "light"
     },
     "output_type": "display_data"
    }
   ],
   "source": [
    "model_rf = RandomForestClassifier(n_estimators= 100, max_depth = 20, min_samples_split=10, random_state=42, n_jobs=5)    \n",
    "model_rf.fit(X_train, y_train)    \n",
    "y_pred = model_rf.predict(X_test)    \n",
    "\n",
    "mostrar_resultados(y_test, y_pred)    \n",
    "mostrar_mc(y_test, y_pred)\n",
    "#inició:15:58  terminó: 16:03"
   ]
  },
  {
   "cell_type": "code",
   "execution_count": null,
   "metadata": {},
   "outputs": [],
   "source": []
  }
 ],
 "metadata": {
  "kernelspec": {
   "display_name": "Python [conda env:deeplearning] *",
   "language": "python",
   "name": "conda-env-deeplearning-py"
  },
  "language_info": {
   "codemirror_mode": {
    "name": "ipython",
    "version": 3
   },
   "file_extension": ".py",
   "mimetype": "text/x-python",
   "name": "python",
   "nbconvert_exporter": "python",
   "pygments_lexer": "ipython3",
   "version": "3.7.4"
  }
 },
 "nbformat": 4,
 "nbformat_minor": 2
}
