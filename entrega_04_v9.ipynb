{
 "cells": [
  {
   "cell_type": "markdown",
   "metadata": {},
   "source": [
    "# Laboratorio 4: Aprendizaje Supervisado\n",
    "\n",
    "> **Análisis de las Posiciones del Aborto en Twitter**\n",
    "> *Diplomatura en Ciencias de Datos, Aprendizaje Automático y sus aplicaciones.*\n",
    "> *Integrantes: \n",
    "    - Carlos Piaggio\n",
    "    - Juan Pablo Analian\n",
    "    \n",
    "\n",
    "- [Notebook 1](entrega_04_v7.ipynb)\n",
    "- [Notebook 2](entrega_04_v8.ipynb)\n",
    "\n",
    "## Parte 3/3 (modelos de RN)    "
   ]
  },
  {
   "cell_type": "code",
   "execution_count": null,
   "metadata": {},
   "outputs": [],
   "source": [
    "#!pip install stop-words #https://pypi.org/project/stop-words/\n",
    "#!pip install nltk\n",
    "\n",
    "#import nltk\n",
    "\n",
    "#nltk.download('stopwords')\n",
    "#nltk.download('punkt')\n",
    "#nltk.download('wordnet')"
   ]
  },
  {
   "cell_type": "code",
   "execution_count": 23,
   "metadata": {},
   "outputs": [],
   "source": [
    "import pandas as pd\n",
    "import re\n",
    "from nltk.corpus import stopwords\n",
    "import seaborn as sns\n",
    "import matplotlib.pyplot as plt\n",
    "\n",
    "from sklearn.model_selection import train_test_split\n",
    "from sklearn.metrics import accuracy_score, classification_report \n",
    "\n",
    "from keras.preprocessing.text import Tokenizer\n",
    "from keras.preprocessing.sequence import pad_sequences\n",
    "from keras.models import Sequential\n",
    "from tensorflow.keras.layers import Dense, Embedding, LSTM, SpatialDropout1D\n",
    "from tensorflow.keras.models import Sequential\n",
    "from tensorflow.keras import layers"
   ]
  },
  {
   "cell_type": "markdown",
   "metadata": {},
   "source": [
    "## 1. Cargamos dataset que hemos limpiado en la notebook anterior\n"
   ]
  },
  {
   "cell_type": "code",
   "execution_count": 2,
   "metadata": {},
   "outputs": [],
   "source": [
    "df_full = pd.read_csv('./out/df_text_junio.csv')"
   ]
  },
  {
   "cell_type": "markdown",
   "metadata": {},
   "source": [
    "### Metodo auxiliar para graficar"
   ]
  },
  {
   "cell_type": "code",
   "execution_count": 3,
   "metadata": {},
   "outputs": [],
   "source": [
    "import matplotlib.pyplot as plt\n",
    "plt.style.use('ggplot')\n",
    "\n",
    "def plot_history(history):\n",
    "    acc = history.history['accuracy']\n",
    "    val_acc = history.history['val_accuracy']\n",
    "    loss = history.history['loss']\n",
    "    val_loss = history.history['val_loss']\n",
    "    x = range(1, len(acc) + 1)\n",
    "\n",
    "    plt.figure(figsize=(12, 5))\n",
    "    plt.subplot(1, 2, 1)\n",
    "    plt.plot(x, acc, 'b', label='Training acc')\n",
    "    plt.plot(x, val_acc, 'r', label='Validation acc')\n",
    "    plt.title('Training and validation accuracy')\n",
    "    plt.legend()\n",
    "    plt.subplot(1, 2, 2)\n",
    "    plt.plot(x, loss, 'b', label='Training loss')\n",
    "    plt.plot(x, val_loss, 'r', label='Validation loss')\n",
    "    plt.title('Training and validation loss')\n",
    "    plt.legend()"
   ]
  },
  {
   "cell_type": "markdown",
   "metadata": {},
   "source": [
    "### Largo de cada tweet"
   ]
  },
  {
   "cell_type": "code",
   "execution_count": 4,
   "metadata": {},
   "outputs": [
    {
     "data": {
      "text/plain": [
       "<matplotlib.axes._subplots.AxesSubplot at 0x7f562c277410>"
      ]
     },
     "execution_count": 4,
     "metadata": {},
     "output_type": "execute_result"
    },
    {
     "data": {
      "image/png": "[encoded data removed]",
      "text/plain": [
       "<Figure size 432x288 with 1 Axes>"
      ]
     },
     "metadata": {},
     "output_type": "display_data"
    }
   ],
   "source": [
    "lista = df_full['text'].str.split().str.len()\n",
    "df = pd.DataFrame({'largo': lista})\n",
    "df.boxplot(column=['largo'])"
   ]
  },
  {
   "cell_type": "code",
   "execution_count": 5,
   "metadata": {},
   "outputs": [
    {
     "data": {
      "text/html": [
       "<div>\n",
       "<style scoped>\n",
       "    .dataframe tbody tr th:only-of-type {\n",
       "        vertical-align: middle;\n",
       "    }\n",
       "\n",
       "    .dataframe tbody tr th {\n",
       "        vertical-align: top;\n",
       "    }\n",
       "\n",
       "    .dataframe thead th {\n",
       "        text-align: right;\n",
       "    }\n",
       "</style>\n",
       "<table border=\"1\" class=\"dataframe\">\n",
       "  <thead>\n",
       "    <tr style=\"text-align: right;\">\n",
       "      <th></th>\n",
       "      <th>largo</th>\n",
       "    </tr>\n",
       "  </thead>\n",
       "  <tbody>\n",
       "    <tr>\n",
       "      <td>count</td>\n",
       "      <td>1.041164e+06</td>\n",
       "    </tr>\n",
       "    <tr>\n",
       "      <td>mean</td>\n",
       "      <td>9.254663e+00</td>\n",
       "    </tr>\n",
       "    <tr>\n",
       "      <td>std</td>\n",
       "      <td>3.689159e+00</td>\n",
       "    </tr>\n",
       "    <tr>\n",
       "      <td>min</td>\n",
       "      <td>1.000000e+00</td>\n",
       "    </tr>\n",
       "    <tr>\n",
       "      <td>25%</td>\n",
       "      <td>7.000000e+00</td>\n",
       "    </tr>\n",
       "    <tr>\n",
       "      <td>50%</td>\n",
       "      <td>9.000000e+00</td>\n",
       "    </tr>\n",
       "    <tr>\n",
       "      <td>75%</td>\n",
       "      <td>1.100000e+01</td>\n",
       "    </tr>\n",
       "    <tr>\n",
       "      <td>max</td>\n",
       "      <td>4.900000e+01</td>\n",
       "    </tr>\n",
       "  </tbody>\n",
       "</table>\n",
       "</div>"
      ],
      "text/plain": [
       "              largo\n",
       "count  1.041164e+06\n",
       "mean   9.254663e+00\n",
       "std    3.689159e+00\n",
       "min    1.000000e+00\n",
       "25%    7.000000e+00\n",
       "50%    9.000000e+00\n",
       "75%    1.100000e+01\n",
       "max    4.900000e+01"
      ]
     },
     "execution_count": 5,
     "metadata": {},
     "output_type": "execute_result"
    }
   ],
   "source": [
    "df.describe()"
   ]
  },
  {
   "cell_type": "markdown",
   "metadata": {},
   "source": [
    "### 4.Embeddings >  Bag of Words\n",
    "Comenzamos a trabaja el texto de los tweets. \n",
    "Tomaremos un largo de 15 elementos por tweet, para contemplar mas del 75% de los tweets que tienen este largo o menos (ver tabla anterior)"
   ]
  },
  {
   "cell_type": "code",
   "execution_count": 6,
   "metadata": {},
   "outputs": [
    {
     "name": "stdout",
     "output_type": "stream",
     "text": [
      "Se encontraron 151551 palabras unicas.\n"
     ]
    }
   ],
   "source": [
    "# maximo numero de palabras a usar\n",
    "VOCABULARY_SIZE = 100000\n",
    "\n",
    "#  tomaremos 15 para  contemplar mas del 75% de los tweets que tienen este largo o menos\n",
    "MAX_SEQUENCE_LENGTH = 15\n",
    "\n",
    "tokenizer = Tokenizer(num_words=(VOCABULARY_SIZE))\n",
    "tokenizer.fit_on_texts(df_full['text'].values)\n",
    "#word_index = tokenizer.word_index\n",
    "\n",
    "print('Se encontraron %s palabras unicas.' % len( tokenizer.word_index))\n",
    "#cuando aplicamos text_to_sequence, usa solo las 100 mil primeras"
   ]
  },
  {
   "cell_type": "markdown",
   "metadata": {},
   "source": [
    "### Armamos tensor de entrada para el modelo"
   ]
  },
  {
   "cell_type": "code",
   "execution_count": 7,
   "metadata": {},
   "outputs": [
    {
     "name": "stdout",
     "output_type": "stream",
     "text": [
      "tamaño del tensor X: (1041164, 15)\n"
     ]
    }
   ],
   "source": [
    "X = tokenizer.texts_to_sequences(df_full['text'].values)\n",
    "X = pad_sequences(X, maxlen=MAX_SEQUENCE_LENGTH)\n",
    "print('tamaño del tensor X:', X.shape)"
   ]
  },
  {
   "cell_type": "code",
   "execution_count": 8,
   "metadata": {},
   "outputs": [
    {
     "name": "stdout",
     "output_type": "stream",
     "text": [
      "tamaño del tensor Y: (1041164,)\n"
     ]
    }
   ],
   "source": [
    "Y = df_full['codigo_posicion'].values\n",
    "print('tamaño del tensor Y:', Y.shape)"
   ]
  },
  {
   "cell_type": "markdown",
   "metadata": {},
   "source": [
    "### Separamos datos entre entrenamiento y validacion (80-20)"
   ]
  },
  {
   "cell_type": "code",
   "execution_count": 9,
   "metadata": {},
   "outputs": [
    {
     "name": "stdout",
     "output_type": "stream",
     "text": [
      "(832931, 15) (832931,)\n",
      "(208233, 15) (208233,)\n"
     ]
    }
   ],
   "source": [
    "X_train, X_test, Y_train, Y_test = train_test_split(X,Y, test_size = 0.20, random_state = 42)\n",
    "print(X_train.shape,Y_train.shape)\n",
    "print(X_test.shape,Y_test.shape)"
   ]
  },
  {
   "cell_type": "markdown",
   "metadata": {},
   "source": [
    "## 2. Red neuronal simple con Keras"
   ]
  },
  {
   "cell_type": "code",
   "execution_count": 10,
   "metadata": {},
   "outputs": [
    {
     "name": "stdout",
     "output_type": "stream",
     "text": [
      "Model: \"sequential\"\n",
      "_________________________________________________________________\n",
      "Layer (type)                 Output Shape              Param #   \n",
      "=================================================================\n",
      "embedding (Embedding)        (None, 15, 10)            1000010   \n",
      "_________________________________________________________________\n",
      "flatten (Flatten)            (None, 150)               0         \n",
      "_________________________________________________________________\n",
      "dense (Dense)                (None, 5)                 755       \n",
      "_________________________________________________________________\n",
      "dense_1 (Dense)              (None, 1)                 6         \n",
      "=================================================================\n",
      "Total params: 1,000,771\n",
      "Trainable params: 1,000,771\n",
      "Non-trainable params: 0\n",
      "_________________________________________________________________\n"
     ]
    }
   ],
   "source": [
    "from tensorflow.keras.models import Sequential\n",
    "from tensorflow.keras import layers\n",
    "\n",
    "# salida de la 1era capa de embeddings\n",
    "EMBEDDING_DIM = 10\n",
    "\n",
    "model = Sequential()\n",
    "model.add(layers.Embedding(input_dim=VOCABULARY_SIZE + 1, # cantidad maxima de palabras unicas (valores de indinces)\n",
    "                           output_dim=EMBEDDING_DIM,  #salida, matriz densa.\n",
    "                           input_length=MAX_SEQUENCE_LENGTH)) #elementos padeados de cada fila del feature = 15 \n",
    "model.add(layers.Flatten())\n",
    "model.add(layers.Dense(5, activation='relu'))\n",
    "model.add(layers.Dense(1, activation='sigmoid'))\n",
    "model.compile(optimizer='adam',\n",
    "              loss='binary_crossentropy',\n",
    "              metrics=['accuracy'])\n",
    "model.summary()"
   ]
  },
  {
   "cell_type": "code",
   "execution_count": 11,
   "metadata": {},
   "outputs": [
    {
     "name": "stdout",
     "output_type": "stream",
     "text": [
      "Train on 832931 samples, validate on 208233 samples\n",
      "Epoch 1/8\n",
      "832931/832931 [==============================] - 7s 8us/sample - loss: 0.2005 - accuracy: 0.9184 - val_loss: 0.1036 - val_accuracy: 0.9580\n",
      "Epoch 2/8\n",
      "832931/832931 [==============================] - 6s 7us/sample - loss: 0.0790 - accuracy: 0.9690 - val_loss: 0.0888 - val_accuracy: 0.9646\n",
      "Epoch 3/8\n",
      "832931/832931 [==============================] - 6s 7us/sample - loss: 0.0554 - accuracy: 0.9790 - val_loss: 0.0889 - val_accuracy: 0.9655\n",
      "Epoch 4/8\n",
      "832931/832931 [==============================] - 6s 8us/sample - loss: 0.0421 - accuracy: 0.9841 - val_loss: 0.0934 - val_accuracy: 0.9659\n",
      "Epoch 5/8\n",
      "832931/832931 [==============================] - 6s 7us/sample - loss: 0.0338 - accuracy: 0.9874 - val_loss: 0.1008 - val_accuracy: 0.9659\n",
      "Epoch 6/8\n",
      "832931/832931 [==============================] - 6s 7us/sample - loss: 0.0282 - accuracy: 0.9894 - val_loss: 0.1094 - val_accuracy: 0.9660\n",
      "Epoch 7/8\n",
      "832931/832931 [==============================] - 6s 7us/sample - loss: 0.0243 - accuracy: 0.9909 - val_loss: 0.1191 - val_accuracy: 0.9650\n",
      "Epoch 8/8\n",
      "832931/832931 [==============================] - 6s 8us/sample - loss: 0.0215 - accuracy: 0.9919 - val_loss: 0.1296 - val_accuracy: 0.9642\n",
      "Training Accuracy: 0.9936\n",
      "Testing Accuracy:  0.9642\n"
     ]
    }
   ],
   "source": [
    "history = model.fit(X_train, Y_train,\n",
    "                    epochs=8,\n",
    "                    verbose=True,\n",
    "                    validation_data=(X_test, Y_test),\n",
    "                    batch_size=1000)\n",
    "\n",
    "loss, accuracy = model.evaluate(X_train, Y_train, verbose=False)\n",
    "print(\"Training Accuracy: {:.4f}\".format(accuracy))\n",
    "\n",
    "loss, accuracy = model.evaluate(X_test, Y_test, verbose=False)\n",
    "print(\"Testing Accuracy:  {:.4f}\".format(accuracy))"
   ]
  },
  {
   "cell_type": "code",
   "execution_count": 12,
   "metadata": {},
   "outputs": [
    {
     "data": {
      "image/png": "[encoded data removed]",
      "text/plain": [
       "<Figure size 864x360 with 2 Axes>"
      ]
     },
     "metadata": {},
     "output_type": "display_data"
    }
   ],
   "source": [
    "plot_history(history)"
   ]
  },
  {
   "cell_type": "markdown",
   "metadata": {},
   "source": [
    "## 3 Keras  (dropout + LSTM)\n",
    "\n",
    "SpatialDropout hace dropout variados.\n",
    "\n",
    "La capa LSTM puede aprender dependencias largas, (como una \"memoria\" a largo plazo)"
   ]
  },
  {
   "cell_type": "code",
   "execution_count": 13,
   "metadata": {},
   "outputs": [
    {
     "name": "stdout",
     "output_type": "stream",
     "text": [
      "Model: \"sequential_1\"\n",
      "_________________________________________________________________\n",
      "Layer (type)                 Output Shape              Param #   \n",
      "=================================================================\n",
      "embedding_1 (Embedding)      (None, 15, 10)            1000010   \n",
      "_________________________________________________________________\n",
      "spatial_dropout1d (SpatialDr (None, 15, 10)            0         \n",
      "_________________________________________________________________\n",
      "lstm (LSTM)                  (None, 100)               44400     \n",
      "_________________________________________________________________\n",
      "dense_2 (Dense)              (None, 5)                 505       \n",
      "_________________________________________________________________\n",
      "dense_3 (Dense)              (None, 1)                 6         \n",
      "=================================================================\n",
      "Total params: 1,044,921\n",
      "Trainable params: 1,044,921\n",
      "Non-trainable params: 0\n",
      "_________________________________________________________________\n",
      "None\n"
     ]
    }
   ],
   "source": [
    "model = Sequential()\n",
    "\n",
    "model.add(Embedding(input_dim=VOCABULARY_SIZE + 1, # cantidad maxima de palabras unicas (valores de indinces)\n",
    "                           output_dim=EMBEDDING_DIM,  #salida, matriz densa.\n",
    "                           input_length=MAX_SEQUENCE_LENGTH)) #elementos padeados de cada fila del feature = 15 \n",
    "model.add(SpatialDropout1D(0.2))\n",
    "model.add(LSTM(100, dropout=0.2, recurrent_dropout=0.2))\n",
    "model.add(Dense(5, activation='relu'))\n",
    "model.add(Dense(1, activation='sigmoid'))\n",
    "model.compile(optimizer='adam',\n",
    "              loss='binary_crossentropy',\n",
    "              metrics=['accuracy'])\n",
    "\n",
    "print(model.summary())"
   ]
  },
  {
   "cell_type": "code",
   "execution_count": 14,
   "metadata": {},
   "outputs": [
    {
     "name": "stdout",
     "output_type": "stream",
     "text": [
      "Train on 832931 samples, validate on 208233 samples\n",
      "Epoch 1/8\n",
      "832931/832931 [==============================] - 55s 66us/sample - loss: 0.2722 - accuracy: 0.8820 - val_loss: 0.1285 - val_accuracy: 0.9512\n",
      "Epoch 2/8\n",
      "832931/832931 [==============================] - 51s 62us/sample - loss: 0.1139 - accuracy: 0.9583 - val_loss: 0.1105 - val_accuracy: 0.9585\n",
      "Epoch 3/8\n",
      "832931/832931 [==============================] - 51s 62us/sample - loss: 0.0941 - accuracy: 0.9664 - val_loss: 0.1059 - val_accuracy: 0.9620\n",
      "Epoch 4/8\n",
      "832931/832931 [==============================] - 49s 59us/sample - loss: 0.0842 - accuracy: 0.9698 - val_loss: 0.1041 - val_accuracy: 0.9629\n",
      "Epoch 5/8\n",
      "832931/832931 [==============================] - 49s 59us/sample - loss: 0.0763 - accuracy: 0.9726 - val_loss: 0.1022 - val_accuracy: 0.9635\n",
      "Epoch 6/8\n",
      "832931/832931 [==============================] - 50s 60us/sample - loss: 0.0706 - accuracy: 0.9744 - val_loss: 0.0989 - val_accuracy: 0.9643\n",
      "Epoch 7/8\n",
      "832931/832931 [==============================] - 51s 61us/sample - loss: 0.0656 - accuracy: 0.9757 - val_loss: 0.1009 - val_accuracy: 0.9643\n",
      "Epoch 8/8\n",
      "832931/832931 [==============================] - 52s 62us/sample - loss: 0.0611 - accuracy: 0.9772 - val_loss: 0.1009 - val_accuracy: 0.9655\n",
      "Training Accuracy: 0.9817\n",
      "Testing Accuracy:  0.9655\n"
     ]
    }
   ],
   "source": [
    "history = model.fit(X_train, Y_train,\n",
    "                    epochs=8,\n",
    "                    verbose=True,\n",
    "                    validation_data=(X_test, Y_test),\n",
    "                    batch_size=1000)\n",
    "\n",
    "loss, accuracy = model.evaluate(X_train, Y_train, verbose=False)\n",
    "print(\"Training Accuracy: {:.4f}\".format(accuracy))\n",
    "\n",
    "loss, accuracy = model.evaluate(X_test, Y_test, verbose=False)\n",
    "print(\"Testing Accuracy:  {:.4f}\".format(accuracy))"
   ]
  },
  {
   "cell_type": "code",
   "execution_count": 15,
   "metadata": {},
   "outputs": [
    {
     "data": {
      "image/png": "[encoded data removed]",
      "text/plain": [
       "<Figure size 864x360 with 2 Axes>"
      ]
     },
     "metadata": {},
     "output_type": "display_data"
    }
   ],
   "source": [
    "plot_history(history)"
   ]
  },
  {
   "cell_type": "markdown",
   "metadata": {},
   "source": [
    "## 4. Usando diccionarios pre-entrenados"
   ]
  },
  {
   "cell_type": "code",
   "execution_count": 19,
   "metadata": {},
   "outputs": [],
   "source": [
    "import numpy as np\n",
    "#funcion auxiliar\n",
    "def create_embedding_matrix(filepath, word_index, embedding_dim):\n",
    "    vocab_size = len(word_index) + 1  # Adding again 1 because of reserved 0 index\n",
    "    embedding_matrix = np.zeros((vocab_size, embedding_dim))\n",
    "\n",
    "    with open(filepath) as f:\n",
    "        for line in f:\n",
    "            word, *vector = line.split()\n",
    "            if word in word_index:\n",
    "                idx = word_index[word] \n",
    "                embedding_matrix[idx] = np.array(\n",
    "                    vector, dtype=np.float32)[:embedding_dim]\n",
    "\n",
    "    return embedding_matrix"
   ]
  },
  {
   "cell_type": "code",
   "execution_count": 20,
   "metadata": {},
   "outputs": [],
   "source": [
    "embedding_dim = 300\n",
    "embedding_matrix = create_embedding_matrix(\n",
    "     './data/glove-sbwc.i25.vec',\n",
    "     tokenizer.word_index, embedding_dim)\n"
   ]
  },
  {
   "cell_type": "code",
   "execution_count": 22,
   "metadata": {},
   "outputs": [
    {
     "data": {
      "text/plain": [
       "0.49456"
      ]
     },
     "execution_count": 22,
     "metadata": {},
     "output_type": "execute_result"
    }
   ],
   "source": [
    "nonzero_elements = np.count_nonzero(np.count_nonzero(embedding_matrix, axis=1))\n",
    "nonzero_elements / VOCABULARY_SIZE #How many of the embedding vectors are nonzero"
   ]
  },
  {
   "cell_type": "markdown",
   "metadata": {},
   "source": [
    "> Sólo el 49% de las palabras presentes en el dataset se encuentran en este \"corpus\". Creemos que no es sufiente el porcentaje para utilizarlo."
   ]
  },
  {
   "cell_type": "code",
   "execution_count": null,
   "metadata": {},
   "outputs": [],
   "source": []
  }
 ],
 "metadata": {
  "kernelspec": {
   "display_name": "Python [conda env:deeplearning] *",
   "language": "python",
   "name": "conda-env-deeplearning-py"
  },
  "language_info": {
   "codemirror_mode": {
    "name": "ipython",
    "version": 3
   },
   "file_extension": ".py",
   "mimetype": "text/x-python",
   "name": "python",
   "nbconvert_exporter": "python",
   "pygments_lexer": "ipython3",
   "version": "3.7.4"
  }
 },
 "nbformat": 4,
 "nbformat_minor": 2
}
