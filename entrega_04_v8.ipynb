{
 "cells": [
  {
   "cell_type": "markdown",
   "metadata": {},
   "source": [
    "# Laboratorio 4: Aprendizaje Supervisado\n",
    "\n",
    "> **Análisis de las Posiciones del Aborto en Twitter**\n",
    "> *Diplomatura en Ciencias de Datos, Aprendizaje Automático y sus aplicaciones.*\n",
    "> *Integrantes: \n",
    "    - Carlos Piaggio\n",
    "    - Juan Pablo Analian\n",
    "    \n",
    "- [Notebook 1](entrega_04_v7.ipynb)\n",
    "- [Notebook 3](entrega_04_v9.ipynb)\n",
    "    \n",
    "## Parte 2/3 (probando modelos del TP3)    "
   ]
  },
  {
   "cell_type": "code",
   "execution_count": 1,
   "metadata": {},
   "outputs": [],
   "source": [
    "from collections import Counter\n",
    "import numpy as np\n",
    "import pandas as pd\n",
    "import matplotlib.pyplot as plt\n",
    "import seaborn as sns\n",
    "\n",
    "#from sklearn.metrics import mean_squared_error, accuracy_score, classification_report, confusion_matrix, precision_score, recall_score, f1_score\n",
    "from sklearn.model_selection import train_test_split\n",
    "from ml.visualization import plot_confusion_matrix, plot_learning_curve, classifier_boundary\n",
    "\n",
    " \n",
    "from sklearn import tree\n",
    "from sklearn import datasets\n",
    "from sklearn import model_selection\n",
    "from sklearn import metrics\n",
    "from sklearn.metrics import accuracy_score, classification_report, confusion_matrix, roc_curve, auc\n",
    "\n",
    "import sklearn.linear_model\n",
    "from sklearn.linear_model import SGDClassifier,Perceptron\n",
    "from sklearn.linear_model import LogisticRegression\n",
    "\n",
    "from sklearn.naive_bayes import GaussianNB, MultinomialNB\n",
    "from sklearn.neighbors import KNeighborsClassifier\n",
    "from sklearn.ensemble import RandomForestClassifier\n",
    "\n",
    "import warnings\n",
    "warnings.simplefilter(action='ignore', category=FutureWarning)\n",
    "\n"
   ]
  },
  {
   "cell_type": "markdown",
   "metadata": {},
   "source": [
    "## 1. Cargamos dataset que hemos limpiado en la notebook anterior\n"
   ]
  },
  {
   "cell_type": "code",
   "execution_count": 2,
   "metadata": {},
   "outputs": [],
   "source": [
    "df_full = pd.read_csv('./out/df_text_junio.csv')"
   ]
  },
  {
   "cell_type": "code",
   "execution_count": 3,
   "metadata": {},
   "outputs": [
    {
     "data": {
      "text/plain": [
       "1    780325\n",
       "0    260839\n",
       "Name: codigo_posicion, dtype: int64"
      ]
     },
     "execution_count": 3,
     "metadata": {},
     "output_type": "execute_result"
    }
   ],
   "source": [
    "df_full.codigo_posicion.value_counts()"
   ]
  },
  {
   "cell_type": "markdown",
   "metadata": {},
   "source": [
    "#### Metodos auxiliares"
   ]
  },
  {
   "cell_type": "code",
   "execution_count": 3,
   "metadata": {},
   "outputs": [],
   "source": [
    "import matplotlib.pyplot as plt\n",
    "import seaborn as sns\n",
    "from sklearn.metrics import accuracy_score, classification_report \n",
    "\n",
    "LABELS = ['a favor','en contra']\n",
    "\n",
    "def mostrar_resultados(y_test, y_pred):    \n",
    "    print (\"Accuracy score:  %.2f\" % accuracy_score(y_test, y_pred))\n",
    "    print (\"=============================\")\n",
    "    print (classification_report(y_test, y_pred, labels=[1,0], target_names=LABELS))"
   ]
  },
  {
   "cell_type": "markdown",
   "metadata": {},
   "source": [
    "## 2. Bag of Words (Tfidf)\n",
    "\n",
    "Trabajaremos el feature de texto con el metodo: Term Frequency-Inverse Document Frequency\n",
    "\n",
    "- Definimos un maximo de features de 1500.\n",
    "- Min = que por lo menos estén en 5 documentos o mas.\n",
    "- max = hasta 70% de los doc."
   ]
  },
  {
   "cell_type": "code",
   "execution_count": 4,
   "metadata": {},
   "outputs": [],
   "source": [
    "from sklearn.feature_extraction.text import TfidfVectorizer\n",
    "\n",
    "MAX_FEATURES = 1500\n",
    "\n",
    "tfidfconverter = TfidfVectorizer(max_features=MAX_FEATURES, min_df=5, max_df=0.7)\n",
    "X = tfidfconverter.fit_transform(df_full['text'].values).toarray()"
   ]
  },
  {
   "cell_type": "markdown",
   "metadata": {},
   "source": [
    "## 3. Train - Test Split"
   ]
  },
  {
   "cell_type": "code",
   "execution_count": 5,
   "metadata": {},
   "outputs": [
    {
     "name": "stdout",
     "output_type": "stream",
     "text": [
      "X_train (832931, 1500)\n",
      "X_test (208233, 1500)\n",
      "y_train (832931,)\n",
      "y_test (208233,)\n"
     ]
    }
   ],
   "source": [
    "y = df_full['codigo_posicion'].values\n",
    "X_train, X_test, y_train, y_test = train_test_split(X, y, test_size=0.2, random_state=42)\n",
    "\n",
    "print(\"X_train\",X_train.shape)\n",
    "print(\"X_test\", X_test.shape)\n",
    "print(\"y_train\", y_train.shape)\n",
    "print(\"y_test\", y_test.shape)"
   ]
  },
  {
   "cell_type": "markdown",
   "metadata": {},
   "source": [
    "## 4. Clasificador SDG\n"
   ]
  },
  {
   "cell_type": "code",
   "execution_count": 38,
   "metadata": {},
   "outputs": [
    {
     "name": "stdout",
     "output_type": "stream",
     "text": [
      "Accuracy score:  0.75\n",
      "=============================\n",
      "              precision    recall  f1-score   support\n",
      "\n",
      "     a favor       0.75      1.00      0.86    156147\n",
      "   en contra       0.00      0.00      0.00     52086\n",
      "\n",
      "    accuracy                           0.75    208233\n",
      "   macro avg       0.37      0.50      0.43    208233\n",
      "weighted avg       0.56      0.75      0.64    208233\n",
      "\n"
     ]
    },
    {
     "name": "stderr",
     "output_type": "stream",
     "text": [
      "/users/jpanalian/miniconda3/envs/deeplearning/lib/python3.7/site-packages/sklearn/metrics/classification.py:1437: UndefinedMetricWarning: Precision and F-score are ill-defined and being set to 0.0 in labels with no predicted samples.\n",
      "  'precision', 'predicted', average, warn_for)\n"
     ]
    }
   ],
   "source": [
    "model_sdg =SGDClassifier (loss='log', penalty='l2', alpha=0.01, \n",
    "                          learning_rate='optimal', eta0 = 0.1, tol=1e-3,  \n",
    "                          max_iter= 1000, random_state=42, n_jobs = 5)\n",
    "\n",
    "model_sdg.fit(X_train, y_train)\n",
    "y_pred = model_sdg.predict(X_test)\n",
    "\n",
    "mostrar_resultados(y_test, y_pred)"
   ]
  },
  {
   "cell_type": "markdown",
   "metadata": {},
   "source": [
    "> En el TP3, había obtenido un accuray del *82%* sobre el set de validacion (test) y aca hemos obtenido *75%*."
   ]
  },
  {
   "cell_type": "markdown",
   "metadata": {},
   "source": [
    "## 5. KNN (Nearest Neighbors)\n",
    "\n",
    "Si bien estamos ante un problema de clasificacion binaria, queremos realizar una prueba con el algoritmo KNN el cual está mas orientado a clasificacion multiclase. "
   ]
  },
  {
   "cell_type": "code",
   "execution_count": null,
   "metadata": {},
   "outputs": [],
   "source": [
    "model_k = KNeighborsClassifier(n_neighbors=3, n_jobs = 5)\n",
    "model_k.fit(X_train, y_train)\n",
    "y_pred = model_k.predict(X_test)\n",
    "\n",
    "mostrar_resultados(y_test, y_pred)"
   ]
  },
  {
   "attachments": {
    "jupyter.PNG": {
     "image/png": "[encoded data removed]"
    }
   },
   "cell_type": "markdown",
   "metadata": {},
   "source": [
    "\n",
    "![jupyter.PNG](attachment:jupyter.PNG)"
   ]
  },
  {
   "cell_type": "markdown",
   "metadata": {},
   "source": [
    "## 6. Regresion Logistica"
   ]
  },
  {
   "cell_type": "code",
   "execution_count": 6,
   "metadata": {},
   "outputs": [
    {
     "name": "stderr",
     "output_type": "stream",
     "text": [
      "/users/jpanalian/miniconda3/envs/deeplearning/lib/python3.7/site-packages/sklearn/linear_model/logistic.py:1544: UserWarning: 'n_jobs' > 1 does not have any effect when 'solver' is set to 'liblinear'. Got 'n_jobs' = 5.\n",
      "  \" = {}.\".format(effective_n_jobs(self.n_jobs)))\n"
     ]
    },
    {
     "name": "stdout",
     "output_type": "stream",
     "text": [
      "Accuracy score:  0.90\n",
      "=============================\n",
      "              precision    recall  f1-score   support\n",
      "\n",
      "     a favor       0.92      0.95      0.93    156147\n",
      "   en contra       0.83      0.74      0.78     52086\n",
      "\n",
      "    accuracy                           0.90    208233\n",
      "   macro avg       0.88      0.85      0.86    208233\n",
      "weighted avg       0.90      0.90      0.90    208233\n",
      "\n"
     ]
    }
   ],
   "source": [
    "model_l = LogisticRegression(random_state=42, solver='liblinear', multi_class='ovr' , n_jobs = 5)\n",
    "model_l.fit(X_train, y_train)\n",
    "y_pred = model_l.predict(X_test)\n",
    "\n",
    "mostrar_resultados(y_test, y_pred)"
   ]
  },
  {
   "cell_type": "markdown",
   "metadata": {},
   "source": [
    "## 7. Arboles de desicion"
   ]
  },
  {
   "cell_type": "code",
   "execution_count": 8,
   "metadata": {},
   "outputs": [
    {
     "name": "stdout",
     "output_type": "stream",
     "text": [
      "Accuracy score:  0.76\n",
      "=============================\n",
      "              precision    recall  f1-score   support\n",
      "\n",
      "     a favor       0.77      0.98      0.86    156147\n",
      "   en contra       0.66      0.10      0.18     52086\n",
      "\n",
      "    accuracy                           0.76    208233\n",
      "   macro avg       0.72      0.54      0.52    208233\n",
      "weighted avg       0.74      0.76      0.69    208233\n",
      "\n"
     ]
    }
   ],
   "source": [
    "model_t = tree.DecisionTreeClassifier(max_depth=2, random_state=42 )\n",
    "model_t.fit(X_train, y_train)\n",
    "y_pred = model_t.predict(X_test)\n",
    "\n",
    "mostrar_resultados(y_test,y_pred )"
   ]
  },
  {
   "cell_type": "markdown",
   "metadata": {},
   "source": [
    "## 8 RandomForest"
   ]
  },
  {
   "cell_type": "code",
   "execution_count": 9,
   "metadata": {},
   "outputs": [
    {
     "name": "stdout",
     "output_type": "stream",
     "text": [
      "Accuracy score:  0.80\n",
      "=============================\n",
      "              precision    recall  f1-score   support\n",
      "\n",
      "     a favor       0.79      1.00      0.88    156147\n",
      "   en contra       0.99      0.20      0.33     52086\n",
      "\n",
      "    accuracy                           0.80    208233\n",
      "   macro avg       0.89      0.60      0.61    208233\n",
      "weighted avg       0.84      0.80      0.74    208233\n",
      "\n"
     ]
    }
   ],
   "source": [
    "model_rf = RandomForestClassifier(n_estimators= 100, max_depth = 20, min_samples_split=10, random_state=42, n_jobs=5)    \n",
    "model_rf.fit(X_train, y_train)    \n",
    "y_pred = model_rf.predict(X_test)    \n",
    "\n",
    "mostrar_resultados(y_test, y_pred)    \n",
    "#inició:15:58  terminó: 16:03"
   ]
  }
 ],
 "metadata": {
  "kernelspec": {
   "display_name": "Python [conda env:deeplearning] *",
   "language": "python",
   "name": "conda-env-deeplearning-py"
  },
  "language_info": {
   "codemirror_mode": {
    "name": "ipython",
    "version": 3
   },
   "file_extension": ".py",
   "mimetype": "text/x-python",
   "name": "python",
   "nbconvert_exporter": "python",
   "pygments_lexer": "ipython3",
   "version": "3.7.4"
  }
 },
 "nbformat": 4,
 "nbformat_minor": 2
}
