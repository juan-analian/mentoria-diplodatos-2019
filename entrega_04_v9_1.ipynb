{
 "cells": [
  {
   "cell_type": "markdown",
   "metadata": {},
   "source": [
    "# Laboratorio 4: Aprendizaje Supervisado\n",
    "\n",
    "> **Análisis de las Posiciones del Aborto en Twitter**\n",
    "> *Diplomatura en Ciencias de Datos, Aprendizaje Automático y sus aplicaciones.*\n",
    "> *Integrantes: \n",
    "    - Carlos Piaggio\n",
    "    - Juan Pablo Analian\n",
    "    \n",
    "\n",
    "- [Notebook 1](entrega_04_v7.ipynb)\n",
    "- [Notebook 2](entrega_04_v8.ipynb)\n",
    "\n",
    "## Parte 3/3 (modelos de RN)    "
   ]
  },
  {
   "cell_type": "code",
   "execution_count": null,
   "metadata": {},
   "outputs": [],
   "source": [
    "#!pip install stop-words #https://pypi.org/project/stop-words/\n",
    "#!pip install nltk\n",
    "\n",
    "#import nltk\n",
    "\n",
    "#nltk.download('stopwords')\n",
    "#nltk.download('punkt')\n",
    "#nltk.download('wordnet')"
   ]
  },
  {
   "cell_type": "code",
   "execution_count": 1,
   "metadata": {},
   "outputs": [
    {
     "name": "stderr",
     "output_type": "stream",
     "text": [
      "Using TensorFlow backend.\n"
     ]
    }
   ],
   "source": [
    "import pandas as pd\n",
    "import re\n",
    "from nltk.corpus import stopwords\n",
    "import seaborn as sns\n",
    "import matplotlib.pyplot as plt\n",
    "\n",
    "from sklearn.model_selection import train_test_split\n",
    "from sklearn.metrics import accuracy_score, classification_report \n",
    "\n",
    "from keras.preprocessing.text import Tokenizer\n",
    "from keras.preprocessing.sequence import pad_sequences\n",
    "from keras.models import Sequential\n",
    "from tensorflow.keras.layers import Dense, Embedding, LSTM, SpatialDropout1D\n",
    "from tensorflow.keras.models import Sequential\n",
    "from tensorflow.keras import layers"
   ]
  },
  {
   "cell_type": "markdown",
   "metadata": {},
   "source": [
    "## 1. Cargamos dataset que hemos limpiado en la notebook anterior\n"
   ]
  },
  {
   "cell_type": "code",
   "execution_count": 2,
   "metadata": {},
   "outputs": [],
   "source": [
    "df_full = pd.read_csv('./out/df_text_junio.csv')"
   ]
  },
  {
   "cell_type": "markdown",
   "metadata": {},
   "source": [
    " - quitamos los duplicados"
   ]
  },
  {
   "cell_type": "code",
   "execution_count": 3,
   "metadata": {},
   "outputs": [],
   "source": [
    "df = df_full.drop_duplicates(subset='text', keep=\"first\")"
   ]
  },
  {
   "cell_type": "code",
   "execution_count": 14,
   "metadata": {},
   "outputs": [
    {
     "data": {
      "text/plain": [
       "1    145147\n",
       "0     60771\n",
       "Name: codigo_posicion, dtype: int64"
      ]
     },
     "execution_count": 14,
     "metadata": {},
     "output_type": "execute_result"
    }
   ],
   "source": [
    "df.codigo_posicion.value_counts()"
   ]
  },
  {
   "cell_type": "markdown",
   "metadata": {},
   "source": [
    "### Metodo auxiliar para graficar"
   ]
  },
  {
   "cell_type": "code",
   "execution_count": 22,
   "metadata": {},
   "outputs": [],
   "source": [
    "import matplotlib.pyplot as plt\n",
    "plt.style.use('ggplot')\n",
    "\n",
    "def plot_history(history):\n",
    "    acc = history.history['accuracy']\n",
    "    val_acc = history.history['val_accuracy']\n",
    "    loss = history.history['loss']\n",
    "    val_loss = history.history['val_loss']\n",
    "    x = range(1, len(acc) + 1)\n",
    "\n",
    "    plt.figure(figsize=(12, 5))\n",
    "    plt.subplot(1, 2, 1)\n",
    "    plt.plot(x, acc, 'b', label='Training acc')\n",
    "    plt.plot(x, val_acc, 'r', label='Validation acc')\n",
    "    plt.title('Training and validation accuracy')\n",
    "    plt.legend()\n",
    "    plt.subplot(1, 2, 2)\n",
    "    plt.plot(x, loss, 'b', label='Training loss')\n",
    "    plt.plot(x, val_loss, 'r', label='Validation loss')\n",
    "    plt.title('Training and validation loss')\n",
    "    plt.legend()"
   ]
  },
  {
   "cell_type": "markdown",
   "metadata": {},
   "source": [
    "### Largo de cada tweet"
   ]
  },
  {
   "cell_type": "code",
   "execution_count": 12,
   "metadata": {},
   "outputs": [
    {
     "data": {
      "text/plain": [
       "<matplotlib.axes._subplots.AxesSubplot at 0x7fcb1baf8f90>"
      ]
     },
     "execution_count": 12,
     "metadata": {},
     "output_type": "execute_result"
    },
    {
     "data": {
      "image/png": "[encoded data removed]",
      "text/plain": [
       "<Figure size 432x288 with 1 Axes>"
      ]
     },
     "metadata": {
      "needs_background": "light"
     },
     "output_type": "display_data"
    }
   ],
   "source": [
    "lista = df_full['text'].str.split().str.len()\n",
    "df_largo = pd.DataFrame({'largo': lista})\n",
    "df_largo.boxplot(column=['largo'])"
   ]
  },
  {
   "cell_type": "code",
   "execution_count": 13,
   "metadata": {},
   "outputs": [
    {
     "data": {
      "text/html": [
       "<div>\n",
       "<style scoped>\n",
       "    .dataframe tbody tr th:only-of-type {\n",
       "        vertical-align: middle;\n",
       "    }\n",
       "\n",
       "    .dataframe tbody tr th {\n",
       "        vertical-align: top;\n",
       "    }\n",
       "\n",
       "    .dataframe thead th {\n",
       "        text-align: right;\n",
       "    }\n",
       "</style>\n",
       "<table border=\"1\" class=\"dataframe\">\n",
       "  <thead>\n",
       "    <tr style=\"text-align: right;\">\n",
       "      <th></th>\n",
       "      <th>largo</th>\n",
       "    </tr>\n",
       "  </thead>\n",
       "  <tbody>\n",
       "    <tr>\n",
       "      <td>count</td>\n",
       "      <td>1.041164e+06</td>\n",
       "    </tr>\n",
       "    <tr>\n",
       "      <td>mean</td>\n",
       "      <td>9.254663e+00</td>\n",
       "    </tr>\n",
       "    <tr>\n",
       "      <td>std</td>\n",
       "      <td>3.689159e+00</td>\n",
       "    </tr>\n",
       "    <tr>\n",
       "      <td>min</td>\n",
       "      <td>1.000000e+00</td>\n",
       "    </tr>\n",
       "    <tr>\n",
       "      <td>25%</td>\n",
       "      <td>7.000000e+00</td>\n",
       "    </tr>\n",
       "    <tr>\n",
       "      <td>50%</td>\n",
       "      <td>9.000000e+00</td>\n",
       "    </tr>\n",
       "    <tr>\n",
       "      <td>75%</td>\n",
       "      <td>1.100000e+01</td>\n",
       "    </tr>\n",
       "    <tr>\n",
       "      <td>max</td>\n",
       "      <td>4.900000e+01</td>\n",
       "    </tr>\n",
       "  </tbody>\n",
       "</table>\n",
       "</div>"
      ],
      "text/plain": [
       "              largo\n",
       "count  1.041164e+06\n",
       "mean   9.254663e+00\n",
       "std    3.689159e+00\n",
       "min    1.000000e+00\n",
       "25%    7.000000e+00\n",
       "50%    9.000000e+00\n",
       "75%    1.100000e+01\n",
       "max    4.900000e+01"
      ]
     },
     "execution_count": 13,
     "metadata": {},
     "output_type": "execute_result"
    }
   ],
   "source": [
    "df_largo.describe()"
   ]
  },
  {
   "cell_type": "markdown",
   "metadata": {},
   "source": [
    "### 4.Embeddings >  Bag of Words\n",
    "Comenzamos a trabaja el texto de los tweets. \n",
    "Tomaremos un largo de 15 elementos por tweet, para contemplar mas del 75% de los tweets que tienen este largo o menos (ver tabla anterior)"
   ]
  },
  {
   "cell_type": "code",
   "execution_count": 15,
   "metadata": {},
   "outputs": [
    {
     "name": "stdout",
     "output_type": "stream",
     "text": [
      "Se encontraron 151551 palabras unicas.\n"
     ]
    }
   ],
   "source": [
    "# maximo numero de palabras a usar\n",
    "VOCABULARY_SIZE = 100000\n",
    "\n",
    "#  tomaremos 15 para  contemplar mas del 75% de los tweets que tienen este largo o menos\n",
    "MAX_SEQUENCE_LENGTH = 15\n",
    "\n",
    "tokenizer = Tokenizer(num_words=(VOCABULARY_SIZE))\n",
    "tokenizer.fit_on_texts(df['text'].values)\n",
    "#word_index = tokenizer.word_index\n",
    "\n",
    "print('Se encontraron %s palabras unicas.' % len( tokenizer.word_index))\n",
    "#cuando aplicamos text_to_sequence, usa solo las 100 mil primeras"
   ]
  },
  {
   "cell_type": "markdown",
   "metadata": {},
   "source": [
    "### Armamos tensor de entrada para el modelo"
   ]
  },
  {
   "cell_type": "code",
   "execution_count": 16,
   "metadata": {},
   "outputs": [
    {
     "name": "stdout",
     "output_type": "stream",
     "text": [
      "tamaño del tensor X: (205918, 15)\n"
     ]
    }
   ],
   "source": [
    "X = tokenizer.texts_to_sequences(df['text'].values)\n",
    "X = pad_sequences(X, maxlen=MAX_SEQUENCE_LENGTH)\n",
    "print('tamaño del tensor X:', X.shape)"
   ]
  },
  {
   "cell_type": "code",
   "execution_count": 17,
   "metadata": {},
   "outputs": [
    {
     "name": "stdout",
     "output_type": "stream",
     "text": [
      "tamaño del tensor Y: (205918,)\n"
     ]
    }
   ],
   "source": [
    "Y = df['codigo_posicion'].values\n",
    "print('tamaño del tensor Y:', Y.shape)"
   ]
  },
  {
   "cell_type": "markdown",
   "metadata": {},
   "source": [
    "### Separamos datos entre entrenamiento y validacion (80-20)"
   ]
  },
  {
   "cell_type": "code",
   "execution_count": 18,
   "metadata": {},
   "outputs": [
    {
     "name": "stdout",
     "output_type": "stream",
     "text": [
      "(164734, 15) (164734,)\n",
      "(41184, 15) (41184,)\n"
     ]
    }
   ],
   "source": [
    "X_train, X_test, Y_train, Y_test = train_test_split(X,Y, test_size = 0.20, random_state = 42)\n",
    "print(X_train.shape,Y_train.shape)\n",
    "print(X_test.shape,Y_test.shape)"
   ]
  },
  {
   "cell_type": "markdown",
   "metadata": {},
   "source": [
    "## 2. Red neuronal simple con Keras"
   ]
  },
  {
   "cell_type": "code",
   "execution_count": 19,
   "metadata": {},
   "outputs": [
    {
     "name": "stdout",
     "output_type": "stream",
     "text": [
      "Model: \"sequential\"\n",
      "_________________________________________________________________\n",
      "Layer (type)                 Output Shape              Param #   \n",
      "=================================================================\n",
      "embedding (Embedding)        (None, 15, 10)            1000010   \n",
      "_________________________________________________________________\n",
      "flatten (Flatten)            (None, 150)               0         \n",
      "_________________________________________________________________\n",
      "dense (Dense)                (None, 5)                 755       \n",
      "_________________________________________________________________\n",
      "dense_1 (Dense)              (None, 1)                 6         \n",
      "=================================================================\n",
      "Total params: 1,000,771\n",
      "Trainable params: 1,000,771\n",
      "Non-trainable params: 0\n",
      "_________________________________________________________________\n"
     ]
    }
   ],
   "source": [
    "from tensorflow.keras.models import Sequential\n",
    "from tensorflow.keras import layers\n",
    "\n",
    "# salida de la 1era capa de embeddings\n",
    "EMBEDDING_DIM = 10\n",
    "\n",
    "model = Sequential()\n",
    "model.add(layers.Embedding(input_dim=VOCABULARY_SIZE + 1, # cantidad maxima de palabras unicas (valores de indinces)\n",
    "                           output_dim=EMBEDDING_DIM,  #salida, matriz densa.\n",
    "                           input_length=MAX_SEQUENCE_LENGTH)) #elementos padeados de cada fila del feature = 15 \n",
    "model.add(layers.Flatten())\n",
    "model.add(layers.Dense(5, activation='relu'))\n",
    "model.add(layers.Dense(1, activation='sigmoid'))\n",
    "model.compile(optimizer='adam',\n",
    "              loss='binary_crossentropy',\n",
    "              metrics=['accuracy'])\n",
    "model.summary()"
   ]
  },
  {
   "cell_type": "code",
   "execution_count": 20,
   "metadata": {},
   "outputs": [
    {
     "name": "stdout",
     "output_type": "stream",
     "text": [
      "Train on 164734 samples, validate on 41184 samples\n",
      "Epoch 1/8\n",
      "164734/164734 [==============================] - 5s 28us/sample - loss: 0.6062 - accuracy: 0.6936 - val_loss: 0.4850 - val_accuracy: 0.7770\n",
      "Epoch 2/8\n",
      "164734/164734 [==============================] - 4s 21us/sample - loss: 0.4001 - accuracy: 0.8221 - val_loss: 0.3824 - val_accuracy: 0.8300\n",
      "Epoch 3/8\n",
      "164734/164734 [==============================] - 2s 15us/sample - loss: 0.3182 - accuracy: 0.8661 - val_loss: 0.3665 - val_accuracy: 0.8382\n",
      "Epoch 4/8\n",
      "164734/164734 [==============================] - 1s 7us/sample - loss: 0.2658 - accuracy: 0.8931 - val_loss: 0.3662 - val_accuracy: 0.8409\n",
      "Epoch 5/8\n",
      "164734/164734 [==============================] - 1s 6us/sample - loss: 0.2200 - accuracy: 0.9157 - val_loss: 0.3779 - val_accuracy: 0.8396\n",
      "Epoch 6/8\n",
      "164734/164734 [==============================] - 1s 6us/sample - loss: 0.1814 - accuracy: 0.9330 - val_loss: 0.3961 - val_accuracy: 0.8365\n",
      "Epoch 7/8\n",
      "164734/164734 [==============================] - 2s 12us/sample - loss: 0.1512 - accuracy: 0.9453 - val_loss: 0.4214 - val_accuracy: 0.8308\n",
      "Epoch 8/8\n",
      "164734/164734 [==============================] - 2s 11us/sample - loss: 0.1279 - accuracy: 0.9550 - val_loss: 0.4488 - val_accuracy: 0.8270\n",
      "Training Accuracy: 0.9664\n",
      "Testing Accuracy:  0.8270\n"
     ]
    }
   ],
   "source": [
    "history = model.fit(X_train, Y_train,\n",
    "                    epochs=8,\n",
    "                    verbose=True,\n",
    "                    validation_data=(X_test, Y_test),\n",
    "                    batch_size=1000)\n",
    "\n",
    "loss, accuracy = model.evaluate(X_train, Y_train, verbose=False)\n",
    "print(\"Training Accuracy: {:.4f}\".format(accuracy))\n",
    "\n",
    "loss, accuracy = model.evaluate(X_test, Y_test, verbose=False)\n",
    "print(\"Testing Accuracy:  {:.4f}\".format(accuracy))"
   ]
  },
  {
   "cell_type": "code",
   "execution_count": 23,
   "metadata": {},
   "outputs": [
    {
     "data": {
      "image/png": "[encoded data removed]",
      "text/plain": [
       "<Figure size 864x360 with 2 Axes>"
      ]
     },
     "metadata": {},
     "output_type": "display_data"
    }
   ],
   "source": [
    "plot_history(history)"
   ]
  },
  {
   "cell_type": "markdown",
   "metadata": {},
   "source": [
    "## 3 Keras  (dropout + LSTM)\n",
    "\n",
    "SpatialDropout hace dropout variados.\n",
    "\n",
    "La capa LSTM puede aprender dependencias largas, (como una \"memoria\" a largo plazo)"
   ]
  },
  {
   "cell_type": "code",
   "execution_count": 24,
   "metadata": {},
   "outputs": [
    {
     "name": "stdout",
     "output_type": "stream",
     "text": [
      "Model: \"sequential_1\"\n",
      "_________________________________________________________________\n",
      "Layer (type)                 Output Shape              Param #   \n",
      "=================================================================\n",
      "embedding_1 (Embedding)      (None, 15, 10)            1000010   \n",
      "_________________________________________________________________\n",
      "spatial_dropout1d (SpatialDr (None, 15, 10)            0         \n",
      "_________________________________________________________________\n",
      "lstm (LSTM)                  (None, 100)               44400     \n",
      "_________________________________________________________________\n",
      "dense_2 (Dense)              (None, 5)                 505       \n",
      "_________________________________________________________________\n",
      "dense_3 (Dense)              (None, 1)                 6         \n",
      "=================================================================\n",
      "Total params: 1,044,921\n",
      "Trainable params: 1,044,921\n",
      "Non-trainable params: 0\n",
      "_________________________________________________________________\n",
      "None\n"
     ]
    }
   ],
   "source": [
    "model = Sequential()\n",
    "\n",
    "model.add(Embedding(input_dim=VOCABULARY_SIZE + 1, # cantidad maxima de palabras unicas (valores de indinces)\n",
    "                           output_dim=EMBEDDING_DIM,  #salida, matriz densa.\n",
    "                           input_length=MAX_SEQUENCE_LENGTH)) #elementos padeados de cada fila del feature = 15 \n",
    "model.add(SpatialDropout1D(0.2))\n",
    "model.add(LSTM(100, dropout=0.2, recurrent_dropout=0.2))\n",
    "model.add(Dense(5, activation='relu'))\n",
    "model.add(Dense(1, activation='sigmoid'))\n",
    "model.compile(optimizer='adam',\n",
    "              loss='binary_crossentropy',\n",
    "              metrics=['accuracy'])\n",
    "\n",
    "print(model.summary())"
   ]
  },
  {
   "cell_type": "code",
   "execution_count": 25,
   "metadata": {},
   "outputs": [
    {
     "name": "stdout",
     "output_type": "stream",
     "text": [
      "Train on 164734 samples, validate on 41184 samples\n",
      "Epoch 1/8\n",
      "164734/164734 [==============================] - 26s 160us/sample - loss: 0.5079 - accuracy: 0.7540 - val_loss: 0.3928 - val_accuracy: 0.8230\n",
      "Epoch 2/8\n",
      "164734/164734 [==============================] - 25s 150us/sample - loss: 0.3590 - accuracy: 0.8446 - val_loss: 0.3712 - val_accuracy: 0.8354\n",
      "Epoch 3/8\n",
      "164734/164734 [==============================] - 25s 150us/sample - loss: 0.3144 - accuracy: 0.8691 - val_loss: 0.3711 - val_accuracy: 0.8389\n",
      "Epoch 4/8\n",
      "164734/164734 [==============================] - 25s 151us/sample - loss: 0.2814 - accuracy: 0.8859 - val_loss: 0.3766 - val_accuracy: 0.8407\n",
      "Epoch 5/8\n",
      "164734/164734 [==============================] - 32s 192us/sample - loss: 0.2577 - accuracy: 0.8975 - val_loss: 0.3839 - val_accuracy: 0.8405\n",
      "Epoch 6/8\n",
      "164734/164734 [==============================] - 20s 123us/sample - loss: 0.2386 - accuracy: 0.9065 - val_loss: 0.3964 - val_accuracy: 0.8370\n",
      "Epoch 7/8\n",
      "164734/164734 [==============================] - 25s 154us/sample - loss: 0.2272 - accuracy: 0.9110 - val_loss: 0.3977 - val_accuracy: 0.8368\n",
      "Epoch 8/8\n",
      "164734/164734 [==============================] - 38s 230us/sample - loss: 0.2176 - accuracy: 0.9150 - val_loss: 0.4151 - val_accuracy: 0.8342\n",
      "Training Accuracy: 0.9333\n",
      "Testing Accuracy:  0.8342\n"
     ]
    }
   ],
   "source": [
    "history = model.fit(X_train, Y_train,\n",
    "                    epochs=8,\n",
    "                    verbose=True,\n",
    "                    validation_data=(X_test, Y_test),\n",
    "                    batch_size=1000)\n",
    "\n",
    "loss, accuracy = model.evaluate(X_train, Y_train, verbose=False)\n",
    "print(\"Training Accuracy: {:.4f}\".format(accuracy))\n",
    "\n",
    "loss, accuracy = model.evaluate(X_test, Y_test, verbose=False)\n",
    "print(\"Testing Accuracy:  {:.4f}\".format(accuracy))"
   ]
  },
  {
   "cell_type": "code",
   "execution_count": 26,
   "metadata": {},
   "outputs": [
    {
     "data": {
      "image/png": "[encoded data removed]",
      "text/plain": [
       "<Figure size 864x360 with 2 Axes>"
      ]
     },
     "metadata": {},
     "output_type": "display_data"
    }
   ],
   "source": [
    "plot_history(history)"
   ]
  },
  {
   "cell_type": "markdown",
   "metadata": {},
   "source": [
    "## 4. Usando diccionarios pre-entrenados"
   ]
  },
  {
   "cell_type": "code",
   "execution_count": 19,
   "metadata": {},
   "outputs": [],
   "source": [
    "import numpy as np\n",
    "#funcion auxiliar\n",
    "def create_embedding_matrix(filepath, word_index, embedding_dim):\n",
    "    vocab_size = len(word_index) + 1  # Adding again 1 because of reserved 0 index\n",
    "    embedding_matrix = np.zeros((vocab_size, embedding_dim))\n",
    "\n",
    "    with open(filepath) as f:\n",
    "        for line in f:\n",
    "            word, *vector = line.split()\n",
    "            if word in word_index:\n",
    "                idx = word_index[word] \n",
    "                embedding_matrix[idx] = np.array(\n",
    "                    vector, dtype=np.float32)[:embedding_dim]\n",
    "\n",
    "    return embedding_matrix"
   ]
  },
  {
   "cell_type": "code",
   "execution_count": 20,
   "metadata": {},
   "outputs": [],
   "source": [
    "embedding_dim = 300\n",
    "embedding_matrix = create_embedding_matrix(\n",
    "     './data/glove-sbwc.i25.vec',\n",
    "     tokenizer.word_index, embedding_dim)\n"
   ]
  },
  {
   "cell_type": "code",
   "execution_count": 22,
   "metadata": {},
   "outputs": [
    {
     "data": {
      "text/plain": [
       "0.49456"
      ]
     },
     "execution_count": 22,
     "metadata": {},
     "output_type": "execute_result"
    }
   ],
   "source": [
    "nonzero_elements = np.count_nonzero(np.count_nonzero(embedding_matrix, axis=1))\n",
    "nonzero_elements / VOCABULARY_SIZE #How many of the embedding vectors are nonzero"
   ]
  },
  {
   "cell_type": "markdown",
   "metadata": {},
   "source": [
    "> Sólo el 49% de las palabras presentes en el dataset se encuentran en este \"corpus\". Creemos que no es sufiente el porcentaje para utilizarlo."
   ]
  },
  {
   "cell_type": "markdown",
   "metadata": {},
   "source": [
    "## 5 Conclusiones\n",
    "\n",
    "* Hasta el TP anterior, veníamos trabajando con los datasets agrupando los datos por usuario, para poder predecir si éste  estaba a favor del aborto o en contra.\n",
    "\n",
    "* Ahora, hemos decidido utilizar el dataset original de los tweets de junio para poder trabajar en este TP. Esto se debe a que de los dos datasets, es el que mas registros tiene y los datos ya estaban etiquetados. \n",
    "\n",
    "* Encontramos los datos etiquetados, distribuídos con estos porcentajes: 25% para tweets en contra contra del aborto y 75% de los tweets a favor del aborto. No creemos necesario hacer un undersampling de los datos (o un oversampling).\n",
    "\n",
    "* En primera instancia, hemos dejado solo el texto del dataset para poder trabajar y luego predecir.\n",
    "\n",
    "* El objetivo era poder quitar palabras o caracters que no suman valor a la hora de precedir. Principalmente los hashtags que se han utilizado para etiquetar los datos. Si no lo hacíamos, la predicción sería mas simple.\n",
    "\n",
    "* Ya con el dataset limpio, hemos trabajado con el método Bag of words, utilizando la mecánica TFIDF. Hemos generado un vector de features de 832931 registros x 1500 columnas (train) para el entrenamiento de los mismos modelos utilizados en el TP3. Cabe mencionar que la comparación entre resultados del TP3 con este, no sería correcta porque en el TP anterior teníamos otro dataset, orientado al usuario y no a los tweets.\n",
    "\n",
    "* Observamos que el mejor clasificador fue el de Regresion Logística con un accuracy sobre el dataset de validación de % 90. representando muy bien a ambas clases. \n",
    "\n",
    "* En esta ultima parte, decidimos poner en prueba lo aprendido en la materia de Aprendiza profundo. Es importante contar con gran candidad de datos (como es en este ejemplo donde tenemos mas de 800 mil registros para entrenar).\n",
    "\n",
    "* En este caso, hemos trabajdo con words embeddings, y utlizando el padding para armar la matriz de entrada de las redes. \n",
    "\n",
    "* Primero hemos probado un modelo simple, con keras y vimos que en la 2da iteración hemos alcanzado un accuracy del % 96.5.Muy superior a los otros modelos.\n",
    "\n",
    "* En segundo lugar, hemos sumado mas complejidad al modelo, adicionando una capa de dropout y otra LSTM (utilizada en RNN). El resultado fu prácticamente similar % 96.5 pero necesitaba mas \"epocas\" para llegar a este valor.\n",
    "\n",
    "* Vimos que trabajar con NN en estos casos donde tenemos muchos registros, es una muy buena opción.\n",
    "\n"
   ]
  },
  {
   "cell_type": "code",
   "execution_count": null,
   "metadata": {},
   "outputs": [],
   "source": []
  }
 ],
 "metadata": {
  "kernelspec": {
   "display_name": "Python [conda env:deeplearning] *",
   "language": "python",
   "name": "conda-env-deeplearning-py"
  },
  "language_info": {
   "codemirror_mode": {
    "name": "ipython",
    "version": 3
   },
   "file_extension": ".py",
   "mimetype": "text/x-python",
   "name": "python",
   "nbconvert_exporter": "python",
   "pygments_lexer": "ipython3",
   "version": "3.7.4"
  }
 },
 "nbformat": 4,
 "nbformat_minor": 2
}
