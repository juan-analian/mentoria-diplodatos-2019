{
 "cells": [
  {
   "cell_type": "markdown",
   "metadata": {},
   "source": [
    "# Laboratorio 4: Aprendizaje Supervisado\n",
    "\n",
    "> **Análisis de las Posiciones del Aborto en Twitter**\n",
    "> *Diplomatura en Ciencias de Datos, Aprendizaje Automático y sus aplicaciones.*\n",
    "> *Integrantes: \n",
    "    - Carlos Piaggio\n",
    "    - Juan Pablo Analian\n",
    "> Enunciado del TP: https://github.com/gonzigaran/AbortoTwitter/blob/master/lab4-AS.md    \n",
    "> Nos enfocaremos en trabajar el texto. \n",
    "> Pasos realizados\n",
    "    - Notebook 1: (este archivo) limpieza del Dataset de tweets de Junio \n",
    "    - Notebook 2: Trabajando con BoW en el texto, probamos los modelos vistos en el TP3\n",
    "    - Notebook 3: Armamos 2 modelos de redes neuronales con Keras para comparar contra modelos anteriores\n",
    "    \n",
    "- [Notebook 2](entrega_04_v8.ipynb)\n",
    "- [Notebook 3](entrega_04_v9.ipynb)\n",
    "\n",
    "## Parte 1/3 (limpieza)    "
   ]
  },
  {
   "cell_type": "code",
   "execution_count": 2,
   "metadata": {},
   "outputs": [],
   "source": [
    "import pandas as pd\n",
    "import re\n",
    "from nltk.corpus import stopwords\n",
    "\n",
    "import seaborn as sns\n",
    "import matplotlib.pyplot as plt"
   ]
  },
  {
   "cell_type": "markdown",
   "metadata": {},
   "source": [
    "## 1. Cargamos datos originales\n",
    "Levantamos el DS original de tweets de junio, ya que es el que mas registros tienen y ya están etiquetados."
   ]
  },
  {
   "cell_type": "code",
   "execution_count": 2,
   "metadata": {},
   "outputs": [],
   "source": [
    "df_full = pd.read_csv('data/tweets_junio.csv', parse_dates=['created_at'])"
   ]
  },
  {
   "cell_type": "code",
   "execution_count": 3,
   "metadata": {},
   "outputs": [
    {
     "name": "stdout",
     "output_type": "stream",
     "text": [
      "<class 'pandas.core.frame.DataFrame'>\n",
      "RangeIndex: 1041585 entries, 0 to 1041584\n",
      "Data columns (total 11 columns):\n",
      "id                1041585 non-null int64\n",
      "created_at        1041585 non-null datetime64[ns, UTC]\n",
      "favorite_count    1041585 non-null int64\n",
      "retweet_count     1041585 non-null int64\n",
      "full_text         1041585 non-null object\n",
      "posicion          1041585 non-null object\n",
      "favorited         1041585 non-null bool\n",
      "retweeted         1041585 non-null bool\n",
      "user_name         1041529 non-null object\n",
      "user_id           1041585 non-null int64\n",
      "original_id       1041585 non-null int64\n",
      "dtypes: bool(2), datetime64[ns, UTC](1), int64(5), object(3)\n",
      "memory usage: 73.5+ MB\n"
     ]
    }
   ],
   "source": [
    "df_full.info()"
   ]
  },
  {
   "cell_type": "code",
   "execution_count": 4,
   "metadata": {},
   "outputs": [
    {
     "data": {
      "text/plain": [
       "si    780455\n",
       "no    261130\n",
       "Name: posicion, dtype: int64"
      ]
     },
     "execution_count": 4,
     "metadata": {},
     "output_type": "execute_result"
    }
   ],
   "source": [
    "df_full.posicion.value_counts()"
   ]
  },
  {
   "cell_type": "code",
   "execution_count": 3,
   "metadata": {},
   "outputs": [],
   "source": [
    "df_full.drop(inplace=True,columns=[ 'id','created_at','favorite_count','retweet_count','favorited','retweeted','user_name','user_id', 'original_id'])\n",
    "df_full.columns = ['text','posicion']"
   ]
  },
  {
   "cell_type": "code",
   "execution_count": 5,
   "metadata": {},
   "outputs": [
    {
     "data": {
      "text/html": [
       "<div>\n",
       "<style scoped>\n",
       "    .dataframe tbody tr th:only-of-type {\n",
       "        vertical-align: middle;\n",
       "    }\n",
       "\n",
       "    .dataframe tbody tr th {\n",
       "        vertical-align: top;\n",
       "    }\n",
       "\n",
       "    .dataframe thead th {\n",
       "        text-align: right;\n",
       "    }\n",
       "</style>\n",
       "<table border=\"1\" class=\"dataframe\">\n",
       "  <thead>\n",
       "    <tr style=\"text-align: right;\">\n",
       "      <th></th>\n",
       "      <th>text</th>\n",
       "      <th>posicion</th>\n",
       "    </tr>\n",
       "  </thead>\n",
       "  <tbody>\n",
       "    <tr>\n",
       "      <td>0</td>\n",
       "      <td>RT @PTSarg: Contamos con una ventaja que ellos...</td>\n",
       "      <td>si</td>\n",
       "    </tr>\n",
       "    <tr>\n",
       "      <td>1</td>\n",
       "      <td>RT @juanabalmedina: Excelentes reflexiones de ...</td>\n",
       "      <td>si</td>\n",
       "    </tr>\n",
       "    <tr>\n",
       "      <td>2</td>\n",
       "      <td>En el fondo lo que les jode es nuestra liberta...</td>\n",
       "      <td>si</td>\n",
       "    </tr>\n",
       "    <tr>\n",
       "      <td>3</td>\n",
       "      <td>holla! me gustaría q ayuden a esta junta d fir...</td>\n",
       "      <td>si</td>\n",
       "    </tr>\n",
       "    <tr>\n",
       "      <td>4</td>\n",
       "      <td>RT @femialborto: A vos que decís #Salvemoslasd...</td>\n",
       "      <td>si</td>\n",
       "    </tr>\n",
       "  </tbody>\n",
       "</table>\n",
       "</div>"
      ],
      "text/plain": [
       "                                                text posicion\n",
       "0  RT @PTSarg: Contamos con una ventaja que ellos...       si\n",
       "1  RT @juanabalmedina: Excelentes reflexiones de ...       si\n",
       "2  En el fondo lo que les jode es nuestra liberta...       si\n",
       "3  holla! me gustaría q ayuden a esta junta d fir...       si\n",
       "4  RT @femialborto: A vos que decís #Salvemoslasd...       si"
      ]
     },
     "metadata": {},
     "output_type": "display_data"
    }
   ],
   "source": [
    "display(df_full.head(5))"
   ]
  },
  {
   "cell_type": "markdown",
   "metadata": {},
   "source": [
    "## 2. Limpiamos el texto\n",
    "\n",
    "#### 2.1 Lista de Stopwords en español y hashtags"
   ]
  },
  {
   "cell_type": "code",
   "execution_count": 6,
   "metadata": {},
   "outputs": [
    {
     "name": "stdout",
     "output_type": "stream",
     "text": [
      "['abortolegalya', 'abortolegal', 'quesealey', 'abortoseraley', 'salvemoslas2vidas', 'argentinaesprovida', 'noalabortoenargentina', 'abortosesionhistorica', 'queelabortosealey', 'noalaborto']\n"
     ]
    }
   ],
   "source": [
    "stop_words = list(stopwords.words('spanish'))\n",
    "hashtags = pd.read_csv('./In/hashtags_clasificados_v2.csv')\n",
    "lista = hashtags[ (hashtags.posicion == 1) | (hashtags.posicion == -1)]['hashtag'].str.replace('#','').tolist()\n",
    "words_to_remove = stop_words + lista + ['rt']\n",
    "\n",
    "print(lista[0:10])"
   ]
  },
  {
   "cell_type": "markdown",
   "metadata": {},
   "source": [
    "#### 2.2 Funcion de limpieza"
   ]
  },
  {
   "cell_type": "code",
   "execution_count": 7,
   "metadata": {},
   "outputs": [],
   "source": [
    "REPLACE_BY_SPACE_RE = re.compile('[/(){}\\[\\]\\|,;#¿?!¡,:]')\n",
    "BAD_SYMBOLS_RE = re.compile('[^0-9a-z ñáéíóú]')\n",
    "USERNAMES = re.compile(r\"@[A-Za-z0-9]+\")\n",
    "STOPWORDS = set(words_to_remove)\n",
    "HTTP_URL = re.compile(r\"http\\S+\")\n",
    "WWW_URL = re.compile(r\"www\\S+\")\n",
    "\n",
    "def clean_text(text):\n",
    " \n",
    "    text = text.lower()  \n",
    "    text = USERNAMES.sub('', text) # quitamos usernames (menciones)\n",
    "    text = REPLACE_BY_SPACE_RE.sub(' ', text) # reemplazamos caracteres raros\n",
    "    text = BAD_SYMBOLS_RE.sub('', text) # quitamos simbolos que NO estan en BAD_SYMBOLS_RE \n",
    "    text = HTTP_URL.sub('', text)  # quitamos url\n",
    "    text = WWW_URL.sub('', text)  # quitamos url que comiencen con www\n",
    "    \n",
    "    text = text.replace('á', 'a')\n",
    "    text = text.replace('é', 'e')\n",
    "    text = text.replace('í', 'i')\n",
    "    text = text.replace('ó', 'o')\n",
    "    text = text.replace('ú', 'u')\n",
    "    \n",
    "    text = ' '.join(word for word in text.split() if word not in STOPWORDS) # remove stopwors from text\n",
    "    return text"
   ]
  },
  {
   "cell_type": "code",
   "execution_count": 8,
   "metadata": {},
   "outputs": [
    {
     "data": {
      "text/html": [
       "<div>\n",
       "<style scoped>\n",
       "    .dataframe tbody tr th:only-of-type {\n",
       "        vertical-align: middle;\n",
       "    }\n",
       "\n",
       "    .dataframe tbody tr th {\n",
       "        vertical-align: top;\n",
       "    }\n",
       "\n",
       "    .dataframe thead th {\n",
       "        text-align: right;\n",
       "    }\n",
       "</style>\n",
       "<table border=\"1\" class=\"dataframe\">\n",
       "  <thead>\n",
       "    <tr style=\"text-align: right;\">\n",
       "      <th></th>\n",
       "      <th>text</th>\n",
       "      <th>posicion</th>\n",
       "      <th>clean_text</th>\n",
       "    </tr>\n",
       "  </thead>\n",
       "  <tbody>\n",
       "    <tr>\n",
       "      <td>0</td>\n",
       "      <td>RT @PTSarg: Contamos con una ventaja que ellos...</td>\n",
       "      <td>si</td>\n",
       "      <td>contamos ventaja decision conviccion fuerza lucha</td>\n",
       "    </tr>\n",
       "    <tr>\n",
       "      <td>1</td>\n",
       "      <td>RT @juanabalmedina: Excelentes reflexiones de ...</td>\n",
       "      <td>si</td>\n",
       "      <td>excelentes reflexiones medica ginecologa catol...</td>\n",
       "    </tr>\n",
       "    <tr>\n",
       "      <td>2</td>\n",
       "      <td>En el fondo lo que les jode es nuestra liberta...</td>\n",
       "      <td>si</td>\n",
       "      <td>fondo jode libertad</td>\n",
       "    </tr>\n",
       "    <tr>\n",
       "      <td>3</td>\n",
       "      <td>holla! me gustaría q ayuden a esta junta d fir...</td>\n",
       "      <td>si</td>\n",
       "      <td>holla gustaria q ayuden junta d firmas seguro ...</td>\n",
       "    </tr>\n",
       "    <tr>\n",
       "      <td>4</td>\n",
       "      <td>RT @femialborto: A vos que decís #Salvemoslasd...</td>\n",
       "      <td>si</td>\n",
       "      <td>vos decis pido escuches intentes abrir mente e...</td>\n",
       "    </tr>\n",
       "    <tr>\n",
       "      <td>5</td>\n",
       "      <td>RT @slospennato: El debate de argumentos lo ga...</td>\n",
       "      <td>si</td>\n",
       "      <td>debate argumentos gano goleada legalizacion bi...</td>\n",
       "    </tr>\n",
       "    <tr>\n",
       "      <td>6</td>\n",
       "      <td>Porque somos dueñas de nuestrxs cuerpas #NoVot...</td>\n",
       "      <td>si</td>\n",
       "      <td>dueñas nuestrxs cuerpas</td>\n",
       "    </tr>\n",
       "    <tr>\n",
       "      <td>7</td>\n",
       "      <td>RT @CampAbortoLegal: Diputadxs: ¿Qué significa...</td>\n",
       "      <td>si</td>\n",
       "      <td>diputadxs significa ustedes mujer muerta credi</td>\n",
       "    </tr>\n",
       "    <tr>\n",
       "      <td>8</td>\n",
       "      <td>RT @CarrioJovenes: Que no coincidamos en el te...</td>\n",
       "      <td>si</td>\n",
       "      <td>coincidamos tema cambia respeto admiracion</td>\n",
       "    </tr>\n",
       "    <tr>\n",
       "      <td>9</td>\n",
       "      <td>#NoVotenContraLasMujeres estoy tan a la mitad ...</td>\n",
       "      <td>si</td>\n",
       "      <td>tan mitad tener postura definida tema entiendo...</td>\n",
       "    </tr>\n",
       "  </tbody>\n",
       "</table>\n",
       "</div>"
      ],
      "text/plain": [
       "                                                text posicion  \\\n",
       "0  RT @PTSarg: Contamos con una ventaja que ellos...       si   \n",
       "1  RT @juanabalmedina: Excelentes reflexiones de ...       si   \n",
       "2  En el fondo lo que les jode es nuestra liberta...       si   \n",
       "3  holla! me gustaría q ayuden a esta junta d fir...       si   \n",
       "4  RT @femialborto: A vos que decís #Salvemoslasd...       si   \n",
       "5  RT @slospennato: El debate de argumentos lo ga...       si   \n",
       "6  Porque somos dueñas de nuestrxs cuerpas #NoVot...       si   \n",
       "7  RT @CampAbortoLegal: Diputadxs: ¿Qué significa...       si   \n",
       "8  RT @CarrioJovenes: Que no coincidamos en el te...       si   \n",
       "9  #NoVotenContraLasMujeres estoy tan a la mitad ...       si   \n",
       "\n",
       "                                          clean_text  \n",
       "0  contamos ventaja decision conviccion fuerza lucha  \n",
       "1  excelentes reflexiones medica ginecologa catol...  \n",
       "2                                fondo jode libertad  \n",
       "3  holla gustaria q ayuden junta d firmas seguro ...  \n",
       "4  vos decis pido escuches intentes abrir mente e...  \n",
       "5  debate argumentos gano goleada legalizacion bi...  \n",
       "6                            dueñas nuestrxs cuerpas  \n",
       "7     diputadxs significa ustedes mujer muerta credi  \n",
       "8         coincidamos tema cambia respeto admiracion  \n",
       "9  tan mitad tener postura definida tema entiendo...  "
      ]
     },
     "metadata": {},
     "output_type": "display_data"
    }
   ],
   "source": [
    "df_full['clean_text'] = df_full['text'].apply(clean_text)\n",
    "display(df_full.head(10))"
   ]
  },
  {
   "cell_type": "markdown",
   "metadata": {},
   "source": [
    "#### Quitamos la columna temporal utilizada"
   ]
  },
  {
   "cell_type": "code",
   "execution_count": 9,
   "metadata": {},
   "outputs": [
    {
     "data": {
      "text/html": [
       "<div>\n",
       "<style scoped>\n",
       "    .dataframe tbody tr th:only-of-type {\n",
       "        vertical-align: middle;\n",
       "    }\n",
       "\n",
       "    .dataframe tbody tr th {\n",
       "        vertical-align: top;\n",
       "    }\n",
       "\n",
       "    .dataframe thead th {\n",
       "        text-align: right;\n",
       "    }\n",
       "</style>\n",
       "<table border=\"1\" class=\"dataframe\">\n",
       "  <thead>\n",
       "    <tr style=\"text-align: right;\">\n",
       "      <th></th>\n",
       "      <th>posicion</th>\n",
       "      <th>text</th>\n",
       "    </tr>\n",
       "  </thead>\n",
       "  <tbody>\n",
       "    <tr>\n",
       "      <td>0</td>\n",
       "      <td>si</td>\n",
       "      <td>contamos ventaja decision conviccion fuerza lucha</td>\n",
       "    </tr>\n",
       "    <tr>\n",
       "      <td>1</td>\n",
       "      <td>si</td>\n",
       "      <td>excelentes reflexiones medica ginecologa catol...</td>\n",
       "    </tr>\n",
       "    <tr>\n",
       "      <td>2</td>\n",
       "      <td>si</td>\n",
       "      <td>fondo jode libertad</td>\n",
       "    </tr>\n",
       "    <tr>\n",
       "      <td>3</td>\n",
       "      <td>si</td>\n",
       "      <td>holla gustaria q ayuden junta d firmas seguro ...</td>\n",
       "    </tr>\n",
       "  </tbody>\n",
       "</table>\n",
       "</div>"
      ],
      "text/plain": [
       "  posicion                                               text\n",
       "0       si  contamos ventaja decision conviccion fuerza lucha\n",
       "1       si  excelentes reflexiones medica ginecologa catol...\n",
       "2       si                                fondo jode libertad\n",
       "3       si  holla gustaria q ayuden junta d firmas seguro ..."
      ]
     },
     "execution_count": 9,
     "metadata": {},
     "output_type": "execute_result"
    }
   ],
   "source": [
    "df_full.drop(inplace=True,columns=['text'])\n",
    "df_full = df_full.rename(columns={'clean_text': 'text'})\n",
    "df_full.head(4)"
   ]
  },
  {
   "cell_type": "markdown",
   "metadata": {},
   "source": [
    "#### Codificamos la etiqueta a predecir\n",
    "\n",
    "Creamos un diccionario codificando la etiqueta a predecir.\n",
    "donde el valor 'si', pasa a 1 (está a favor del aborto)\n",
    "y el valor 'no', pasa a 0 (en contra del aborto)\n"
   ]
  },
  {
   "cell_type": "code",
   "execution_count": 10,
   "metadata": {},
   "outputs": [],
   "source": [
    "codigo_posicion = {'no': 0, 'si': 1}\n",
    "\n",
    "df_full['codigo_posicion'] = df_full['posicion']\n",
    "df_full= df_full.replace({'codigo_posicion':codigo_posicion})"
   ]
  },
  {
   "cell_type": "code",
   "execution_count": 11,
   "metadata": {},
   "outputs": [
    {
     "data": {
      "text/html": [
       "<div>\n",
       "<style scoped>\n",
       "    .dataframe tbody tr th:only-of-type {\n",
       "        vertical-align: middle;\n",
       "    }\n",
       "\n",
       "    .dataframe tbody tr th {\n",
       "        vertical-align: top;\n",
       "    }\n",
       "\n",
       "    .dataframe thead th {\n",
       "        text-align: right;\n",
       "    }\n",
       "</style>\n",
       "<table border=\"1\" class=\"dataframe\">\n",
       "  <thead>\n",
       "    <tr style=\"text-align: right;\">\n",
       "      <th></th>\n",
       "      <th>posicion</th>\n",
       "      <th>text</th>\n",
       "      <th>codigo_posicion</th>\n",
       "    </tr>\n",
       "  </thead>\n",
       "  <tbody>\n",
       "    <tr>\n",
       "      <td>0</td>\n",
       "      <td>si</td>\n",
       "      <td>contamos ventaja decision conviccion fuerza lucha</td>\n",
       "      <td>1</td>\n",
       "    </tr>\n",
       "    <tr>\n",
       "      <td>1</td>\n",
       "      <td>si</td>\n",
       "      <td>excelentes reflexiones medica ginecologa catol...</td>\n",
       "      <td>1</td>\n",
       "    </tr>\n",
       "    <tr>\n",
       "      <td>2</td>\n",
       "      <td>si</td>\n",
       "      <td>fondo jode libertad</td>\n",
       "      <td>1</td>\n",
       "    </tr>\n",
       "    <tr>\n",
       "      <td>3</td>\n",
       "      <td>si</td>\n",
       "      <td>holla gustaria q ayuden junta d firmas seguro ...</td>\n",
       "      <td>1</td>\n",
       "    </tr>\n",
       "  </tbody>\n",
       "</table>\n",
       "</div>"
      ],
      "text/plain": [
       "  posicion                                               text  codigo_posicion\n",
       "0       si  contamos ventaja decision conviccion fuerza lucha                1\n",
       "1       si  excelentes reflexiones medica ginecologa catol...                1\n",
       "2       si                                fondo jode libertad                1\n",
       "3       si  holla gustaria q ayuden junta d firmas seguro ...                1"
      ]
     },
     "execution_count": 11,
     "metadata": {},
     "output_type": "execute_result"
    }
   ],
   "source": [
    "df_full.head(4)"
   ]
  },
  {
   "cell_type": "code",
   "execution_count": 12,
   "metadata": {},
   "outputs": [
    {
     "data": {
      "text/html": [
       "<div>\n",
       "<style scoped>\n",
       "    .dataframe tbody tr th:only-of-type {\n",
       "        vertical-align: middle;\n",
       "    }\n",
       "\n",
       "    .dataframe tbody tr th {\n",
       "        vertical-align: top;\n",
       "    }\n",
       "\n",
       "    .dataframe thead th {\n",
       "        text-align: right;\n",
       "    }\n",
       "</style>\n",
       "<table border=\"1\" class=\"dataframe\">\n",
       "  <thead>\n",
       "    <tr style=\"text-align: right;\">\n",
       "      <th></th>\n",
       "      <th>text</th>\n",
       "      <th>codigo_posicion</th>\n",
       "    </tr>\n",
       "  </thead>\n",
       "  <tbody>\n",
       "    <tr>\n",
       "      <td>0</td>\n",
       "      <td>contamos ventaja decision conviccion fuerza lucha</td>\n",
       "      <td>1</td>\n",
       "    </tr>\n",
       "    <tr>\n",
       "      <td>1</td>\n",
       "      <td>excelentes reflexiones medica ginecologa catol...</td>\n",
       "      <td>1</td>\n",
       "    </tr>\n",
       "    <tr>\n",
       "      <td>2</td>\n",
       "      <td>fondo jode libertad</td>\n",
       "      <td>1</td>\n",
       "    </tr>\n",
       "    <tr>\n",
       "      <td>3</td>\n",
       "      <td>holla gustaria q ayuden junta d firmas seguro ...</td>\n",
       "      <td>1</td>\n",
       "    </tr>\n",
       "  </tbody>\n",
       "</table>\n",
       "</div>"
      ],
      "text/plain": [
       "                                                text  codigo_posicion\n",
       "0  contamos ventaja decision conviccion fuerza lucha                1\n",
       "1  excelentes reflexiones medica ginecologa catol...                1\n",
       "2                                fondo jode libertad                1\n",
       "3  holla gustaria q ayuden junta d firmas seguro ...                1"
      ]
     },
     "execution_count": 12,
     "metadata": {},
     "output_type": "execute_result"
    }
   ],
   "source": [
    "df_full.drop(inplace=True,columns=['posicion'])\n",
    "df_full.head(4)"
   ]
  },
  {
   "cell_type": "code",
   "execution_count": 20,
   "metadata": {},
   "outputs": [],
   "source": [
    "df_full = df_full[df_full.text != '']"
   ]
  },
  {
   "cell_type": "code",
   "execution_count": 22,
   "metadata": {},
   "outputs": [
    {
     "data": {
      "text/html": [
       "<div>\n",
       "<style scoped>\n",
       "    .dataframe tbody tr th:only-of-type {\n",
       "        vertical-align: middle;\n",
       "    }\n",
       "\n",
       "    .dataframe tbody tr th {\n",
       "        vertical-align: top;\n",
       "    }\n",
       "\n",
       "    .dataframe thead th {\n",
       "        text-align: right;\n",
       "    }\n",
       "</style>\n",
       "<table border=\"1\" class=\"dataframe\">\n",
       "  <thead>\n",
       "    <tr style=\"text-align: right;\">\n",
       "      <th></th>\n",
       "      <th>text</th>\n",
       "      <th>codigo_posicion</th>\n",
       "    </tr>\n",
       "  </thead>\n",
       "  <tbody>\n",
       "    <tr>\n",
       "      <td>0</td>\n",
       "      <td>contamos ventaja decision conviccion fuerza lucha</td>\n",
       "      <td>1</td>\n",
       "    </tr>\n",
       "    <tr>\n",
       "      <td>1</td>\n",
       "      <td>excelentes reflexiones medica ginecologa catol...</td>\n",
       "      <td>1</td>\n",
       "    </tr>\n",
       "    <tr>\n",
       "      <td>2</td>\n",
       "      <td>fondo jode libertad</td>\n",
       "      <td>1</td>\n",
       "    </tr>\n",
       "    <tr>\n",
       "      <td>3</td>\n",
       "      <td>holla gustaria q ayuden junta d firmas seguro ...</td>\n",
       "      <td>1</td>\n",
       "    </tr>\n",
       "    <tr>\n",
       "      <td>4</td>\n",
       "      <td>vos decis pido escuches intentes abrir mente e...</td>\n",
       "      <td>1</td>\n",
       "    </tr>\n",
       "    <tr>\n",
       "      <td>5</td>\n",
       "      <td>debate argumentos gano goleada legalizacion bi...</td>\n",
       "      <td>1</td>\n",
       "    </tr>\n",
       "    <tr>\n",
       "      <td>6</td>\n",
       "      <td>dueñas nuestrxs cuerpas</td>\n",
       "      <td>1</td>\n",
       "    </tr>\n",
       "    <tr>\n",
       "      <td>7</td>\n",
       "      <td>diputadxs significa ustedes mujer muerta credi</td>\n",
       "      <td>1</td>\n",
       "    </tr>\n",
       "    <tr>\n",
       "      <td>8</td>\n",
       "      <td>coincidamos tema cambia respeto admiracion</td>\n",
       "      <td>1</td>\n",
       "    </tr>\n",
       "    <tr>\n",
       "      <td>9</td>\n",
       "      <td>tan mitad tener postura definida tema entiendo...</td>\n",
       "      <td>1</td>\n",
       "    </tr>\n",
       "    <tr>\n",
       "      <td>10</td>\n",
       "      <td>votos legalizar argentina apuesta miercoles 13...</td>\n",
       "      <td>1</td>\n",
       "    </tr>\n",
       "    <tr>\n",
       "      <td>11</td>\n",
       "      <td>lobato encuesta semanal favor despenalizacion</td>\n",
       "      <td>1</td>\n",
       "    </tr>\n",
       "    <tr>\n",
       "      <td>12</td>\n",
       "      <td>desinformen mientan va votar va votar tien</td>\n",
       "      <td>1</td>\n",
       "    </tr>\n",
       "    <tr>\n",
       "      <td>13</td>\n",
       "      <td>magui mama banco exigir tambien derecho aborta...</td>\n",
       "      <td>1</td>\n",
       "    </tr>\n",
       "    <tr>\n",
       "      <td>14</td>\n",
       "      <td>diputado haga historia coraje vote sociedad va...</td>\n",
       "      <td>1</td>\n",
       "    </tr>\n",
       "    <tr>\n",
       "      <td>16</td>\n",
       "      <td>siguen pensando votar garantizar derecho salud</td>\n",
       "      <td>1</td>\n",
       "    </tr>\n",
       "    <tr>\n",
       "      <td>17</td>\n",
       "      <td>creo tan pifiado tildar asesinos apoyan ley oj...</td>\n",
       "      <td>1</td>\n",
       "    </tr>\n",
       "    <tr>\n",
       "      <td>18</td>\n",
       "      <td>diputado sola gracias valor resistir presiones...</td>\n",
       "      <td>1</td>\n",
       "    </tr>\n",
       "    <tr>\n",
       "      <td>19</td>\n",
       "      <td>testimonio impactante pasa guardias desesperac...</td>\n",
       "      <td>1</td>\n",
       "    </tr>\n",
       "    <tr>\n",
       "      <td>20</td>\n",
       "      <td>diputado haga historia coraje vote sociedad va...</td>\n",
       "      <td>1</td>\n",
       "    </tr>\n",
       "  </tbody>\n",
       "</table>\n",
       "</div>"
      ],
      "text/plain": [
       "                                                 text  codigo_posicion\n",
       "0   contamos ventaja decision conviccion fuerza lucha                1\n",
       "1   excelentes reflexiones medica ginecologa catol...                1\n",
       "2                                 fondo jode libertad                1\n",
       "3   holla gustaria q ayuden junta d firmas seguro ...                1\n",
       "4   vos decis pido escuches intentes abrir mente e...                1\n",
       "5   debate argumentos gano goleada legalizacion bi...                1\n",
       "6                             dueñas nuestrxs cuerpas                1\n",
       "7      diputadxs significa ustedes mujer muerta credi                1\n",
       "8          coincidamos tema cambia respeto admiracion                1\n",
       "9   tan mitad tener postura definida tema entiendo...                1\n",
       "10  votos legalizar argentina apuesta miercoles 13...                1\n",
       "11      lobato encuesta semanal favor despenalizacion                1\n",
       "12         desinformen mientan va votar va votar tien                1\n",
       "13  magui mama banco exigir tambien derecho aborta...                1\n",
       "14  diputado haga historia coraje vote sociedad va...                1\n",
       "16     siguen pensando votar garantizar derecho salud                1\n",
       "17  creo tan pifiado tildar asesinos apoyan ley oj...                1\n",
       "18  diputado sola gracias valor resistir presiones...                1\n",
       "19  testimonio impactante pasa guardias desesperac...                1\n",
       "20  diputado haga historia coraje vote sociedad va...                1"
      ]
     },
     "execution_count": 22,
     "metadata": {},
     "output_type": "execute_result"
    }
   ],
   "source": [
    "df_full.head(20)"
   ]
  },
  {
   "cell_type": "markdown",
   "metadata": {},
   "source": [
    "## 3. Salvamos el DF listo para trabajar en la siguiente notebook"
   ]
  },
  {
   "cell_type": "code",
   "execution_count": null,
   "metadata": {},
   "outputs": [],
   "source": [
    "df_full.to_csv('./out/df_text_junio.csv', columns = ['codigo_posicion','text'], index=False)"
   ]
  }
 ],
 "metadata": {
  "kernelspec": {
   "display_name": "Python [conda env:deeplearning] *",
   "language": "python",
   "name": "conda-env-deeplearning-py"
  },
  "language_info": {
   "codemirror_mode": {
    "name": "ipython",
    "version": 3
   },
   "file_extension": ".py",
   "mimetype": "text/x-python",
   "name": "python",
   "nbconvert_exporter": "python",
   "pygments_lexer": "ipython3",
   "version": "3.7.4"
  }
 },
 "nbformat": 4,
 "nbformat_minor": 2
}
